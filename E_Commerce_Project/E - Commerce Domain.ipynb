{
 "cells": [
  {
   "cell_type": "markdown",
   "id": "29451625",
   "metadata": {},
   "source": [
    "# Customer Segmentation Using 'RFM' Approach :"
   ]
  },
  {
   "attachments": {},
   "cell_type": "markdown",
   "id": "ce829ce2",
   "metadata": {},
   "source": [
    "    E-commerce stores which became success stories were successful in targeting the desired customers. One of the techniques by which they were able to achieve this was customer segmentation i.e. by segmenting the existing customers based on frequency of purchases, monetary value etc. E-commerce stores who designed market strategies based on mass marketing soon realized the need of customer segmentation as an alternative to save cost and efforts in the digital sphere. In a real-world segmentation scenario, there might be hundreds of variables which can be used but broadly they segment the customers by the characteristics like State, Country, City, Geography, Age, Personality Trait, Income, Lifestyle etc. "
   ]
  },
  {
   "cell_type": "markdown",
   "id": "e188aff8",
   "metadata": {},
   "source": [
    "# Problem Statement :"
   ]
  },
  {
   "cell_type": "markdown",
   "id": "544b37d9",
   "metadata": {},
   "source": [
    "    Build a model to perform customer segmentation on the basis of data collected from an online retail store using RFM approach to enable the company to analyze their customer and to optimize their retention and acquisition strategies."
   ]
  },
  {
   "cell_type": "markdown",
   "id": "9a3eaced",
   "metadata": {},
   "source": [
    "# Import Basic Libraries :"
   ]
  },
  {
   "cell_type": "code",
   "execution_count": 1,
   "id": "425193c6",
   "metadata": {},
   "outputs": [],
   "source": [
    "import os,sys\n",
    "\n",
    "import numpy as np\n",
    "import pandas as pd\n",
    "\n",
    "import matplotlib.pyplot as plt\n",
    "%matplotlib inline\n",
    "import seaborn as sns\n",
    "sns.set()\n",
    "\n",
    "import warnings\n",
    "warnings.filterwarnings('ignore')"
   ]
  },
  {
   "cell_type": "code",
   "execution_count": 2,
   "id": "72e502ab",
   "metadata": {},
   "outputs": [
    {
     "data": {
      "text/plain": [
       "'C:\\\\Users\\\\BIDISHA\\\\OneDrive\\\\Desktop\\\\Python\\\\PROJECT SESSION'"
      ]
     },
     "execution_count": 2,
     "metadata": {},
     "output_type": "execute_result"
    }
   ],
   "source": [
    "os.getcwd()"
   ]
  },
  {
   "cell_type": "markdown",
   "id": "6bea1b74",
   "metadata": {},
   "source": [
    "# Import Dataset :"
   ]
  },
  {
   "cell_type": "code",
   "execution_count": 3,
   "id": "f756a0c8",
   "metadata": {},
   "outputs": [
    {
     "data": {
      "text/html": [
       "<div>\n",
       "<style scoped>\n",
       "    .dataframe tbody tr th:only-of-type {\n",
       "        vertical-align: middle;\n",
       "    }\n",
       "\n",
       "    .dataframe tbody tr th {\n",
       "        vertical-align: top;\n",
       "    }\n",
       "\n",
       "    .dataframe thead th {\n",
       "        text-align: right;\n",
       "    }\n",
       "</style>\n",
       "<table border=\"1\" class=\"dataframe\">\n",
       "  <thead>\n",
       "    <tr style=\"text-align: right;\">\n",
       "      <th></th>\n",
       "      <th>CustomerID</th>\n",
       "      <th>Item Code</th>\n",
       "      <th>InvoieNo</th>\n",
       "      <th>Date of purchase</th>\n",
       "      <th>Quantity</th>\n",
       "      <th>Time</th>\n",
       "      <th>price per Unit</th>\n",
       "      <th>Price</th>\n",
       "      <th>Shipping Location</th>\n",
       "      <th>Cancelled_status</th>\n",
       "      <th>Reason of return</th>\n",
       "      <th>Sold as set</th>\n",
       "    </tr>\n",
       "  </thead>\n",
       "  <tbody>\n",
       "    <tr>\n",
       "      <th>0</th>\n",
       "      <td>4355.0</td>\n",
       "      <td>15734</td>\n",
       "      <td>398177.0</td>\n",
       "      <td>29-10-2017</td>\n",
       "      <td>6.0</td>\n",
       "      <td>3:36:00 PM</td>\n",
       "      <td>321.0</td>\n",
       "      <td>1926.0</td>\n",
       "      <td>Location 1</td>\n",
       "      <td>NaN</td>\n",
       "      <td>NaN</td>\n",
       "      <td>NaN</td>\n",
       "    </tr>\n",
       "    <tr>\n",
       "      <th>1</th>\n",
       "      <td>4352.0</td>\n",
       "      <td>14616</td>\n",
       "      <td>394422.0</td>\n",
       "      <td>05-10-2017</td>\n",
       "      <td>2.0</td>\n",
       "      <td>2:53:00 PM</td>\n",
       "      <td>870.0</td>\n",
       "      <td>1740.0</td>\n",
       "      <td>Location 1</td>\n",
       "      <td>NaN</td>\n",
       "      <td>NaN</td>\n",
       "      <td>NaN</td>\n",
       "    </tr>\n",
       "    <tr>\n",
       "      <th>2</th>\n",
       "      <td>4352.0</td>\n",
       "      <td>14614</td>\n",
       "      <td>394422.0</td>\n",
       "      <td>12-10-2017</td>\n",
       "      <td>2.0</td>\n",
       "      <td>2:53:00 PM</td>\n",
       "      <td>933.0</td>\n",
       "      <td>1866.0</td>\n",
       "      <td>Location 1</td>\n",
       "      <td>NaN</td>\n",
       "      <td>NaN</td>\n",
       "      <td>NaN</td>\n",
       "    </tr>\n",
       "    <tr>\n",
       "      <th>3</th>\n",
       "      <td>4352.0</td>\n",
       "      <td>85014B</td>\n",
       "      <td>388633.0</td>\n",
       "      <td>22-08-2017</td>\n",
       "      <td>3.0</td>\n",
       "      <td>2:47:00 PM</td>\n",
       "      <td>623.0</td>\n",
       "      <td>1869.0</td>\n",
       "      <td>Location 1</td>\n",
       "      <td>NaN</td>\n",
       "      <td>NaN</td>\n",
       "      <td>NaN</td>\n",
       "    </tr>\n",
       "    <tr>\n",
       "      <th>4</th>\n",
       "      <td>4352.0</td>\n",
       "      <td>15364</td>\n",
       "      <td>394422.0</td>\n",
       "      <td>10-10-2017</td>\n",
       "      <td>2.0</td>\n",
       "      <td>2:53:00 PM</td>\n",
       "      <td>944.0</td>\n",
       "      <td>1888.0</td>\n",
       "      <td>Location 1</td>\n",
       "      <td>NaN</td>\n",
       "      <td>NaN</td>\n",
       "      <td>NaN</td>\n",
       "    </tr>\n",
       "  </tbody>\n",
       "</table>\n",
       "</div>"
      ],
      "text/plain": [
       "   CustomerID Item Code  InvoieNo Date of purchase  Quantity        Time  \\\n",
       "0      4355.0     15734  398177.0       29-10-2017       6.0  3:36:00 PM   \n",
       "1      4352.0     14616  394422.0       05-10-2017       2.0  2:53:00 PM   \n",
       "2      4352.0     14614  394422.0       12-10-2017       2.0  2:53:00 PM   \n",
       "3      4352.0    85014B  388633.0       22-08-2017       3.0  2:47:00 PM   \n",
       "4      4352.0     15364  394422.0       10-10-2017       2.0  2:53:00 PM   \n",
       "\n",
       "   price per Unit   Price Shipping Location Cancelled_status Reason of return  \\\n",
       "0           321.0  1926.0        Location 1              NaN              NaN   \n",
       "1           870.0  1740.0        Location 1              NaN              NaN   \n",
       "2           933.0  1866.0        Location 1              NaN              NaN   \n",
       "3           623.0  1869.0        Location 1              NaN              NaN   \n",
       "4           944.0  1888.0        Location 1              NaN              NaN   \n",
       "\n",
       "   Sold as set  \n",
       "0          NaN  \n",
       "1          NaN  \n",
       "2          NaN  \n",
       "3          NaN  \n",
       "4          NaN  "
      ]
     },
     "execution_count": 3,
     "metadata": {},
     "output_type": "execute_result"
    }
   ],
   "source": [
    "path = r'D:\\Learn_Bay_Project_Session\\E-Commerse\\E-com_Data.csv'\n",
    "\n",
    "dataset = pd.read_csv(path)\n",
    "dataset.head()"
   ]
  },
  {
   "cell_type": "markdown",
   "id": "cb3d7110",
   "metadata": {},
   "source": [
    "# Exploratory Data Analysis :"
   ]
  },
  {
   "cell_type": "code",
   "execution_count": 4,
   "id": "a8a9a26b",
   "metadata": {},
   "outputs": [
    {
     "name": "stdout",
     "output_type": "stream",
     "text": [
      "<class 'pandas.core.frame.DataFrame'>\n",
      "RangeIndex: 541116 entries, 0 to 541115\n",
      "Data columns (total 12 columns):\n",
      " #   Column             Non-Null Count   Dtype  \n",
      "---  ------             --------------   -----  \n",
      " 0   CustomerID         404189 non-null  float64\n",
      " 1   Item Code          537979 non-null  object \n",
      " 2   InvoieNo           537979 non-null  float64\n",
      " 3   Date of purchase   537979 non-null  object \n",
      " 4   Quantity           537979 non-null  float64\n",
      " 5   Time               537979 non-null  object \n",
      " 6   price per Unit     537979 non-null  float64\n",
      " 7   Price              537979 non-null  float64\n",
      " 8   Shipping Location  537979 non-null  object \n",
      " 9   Cancelled_status   8345 non-null    object \n",
      " 10  Reason of return   3 non-null       object \n",
      " 11  Sold as set        0 non-null       float64\n",
      "dtypes: float64(6), object(6)\n",
      "memory usage: 49.5+ MB\n"
     ]
    }
   ],
   "source": [
    "dataset.info()"
   ]
  },
  {
   "cell_type": "markdown",
   "id": "fd8bed1c",
   "metadata": {},
   "source": [
    "## Observation :\n",
    "- There are both numerical and categorical variables in the dataset.\n",
    "- Most of the values in 'Cancelled_status', 'Reason of return' and 'Sold as set' columns are missing values."
   ]
  },
  {
   "cell_type": "markdown",
   "id": "65e953eb",
   "metadata": {},
   "source": [
    "# Checking For missing Values :"
   ]
  },
  {
   "cell_type": "code",
   "execution_count": 5,
   "id": "e7b81e19",
   "metadata": {},
   "outputs": [
    {
     "data": {
      "text/plain": [
       "CustomerID            25.304556\n",
       "Item Code              0.579728\n",
       "InvoieNo               0.579728\n",
       "Date of purchase       0.579728\n",
       "Quantity               0.579728\n",
       "Time                   0.579728\n",
       "price per Unit         0.579728\n",
       "Price                  0.579728\n",
       "Shipping Location      0.579728\n",
       "Cancelled_status      98.457817\n",
       "Reason of return      99.999446\n",
       "Sold as set          100.000000\n",
       "dtype: float64"
      ]
     },
     "execution_count": 5,
     "metadata": {},
     "output_type": "execute_result"
    }
   ],
   "source": [
    "dataset.isnull().sum()/len(dataset)*100"
   ]
  },
  {
   "cell_type": "markdown",
   "id": "e31bb4fe",
   "metadata": {},
   "source": [
    "## Observation :\n",
    "- 98%, 99% and 100% values in 'Cancelled_status', 'Reason of return' and 'Sold as set' columns respectively are missing values."
   ]
  },
  {
   "cell_type": "code",
   "execution_count": 6,
   "id": "6a54cb39",
   "metadata": {},
   "outputs": [
    {
     "data": {
      "text/plain": [
       "CustomerID            4349\n",
       "Item Code             4009\n",
       "InvoieNo             24928\n",
       "Date of purchase       381\n",
       "Quantity               462\n",
       "Time                   770\n",
       "price per Unit        2900\n",
       "Price                13529\n",
       "Shipping Location       20\n",
       "Cancelled_status         1\n",
       "Reason of return         2\n",
       "Sold as set              0\n",
       "dtype: int64"
      ]
     },
     "execution_count": 6,
     "metadata": {},
     "output_type": "execute_result"
    }
   ],
   "source": [
    "dataset.nunique()"
   ]
  },
  {
   "cell_type": "markdown",
   "id": "22c2d842",
   "metadata": {},
   "source": [
    "# Dropping of Insignificant Columns :"
   ]
  },
  {
   "cell_type": "markdown",
   "id": "7a3b8bfb",
   "metadata": {},
   "source": [
    "- 'Cancelled_status', 'Reason of return' and 'Sold as set' columns have a lot of missing values.So we will drop these columns.\n",
    "- 'Item Code', 'Quantity', 'Time', 'price per unit','Shipping Location' are not important for this project.So we will drop these columns."
   ]
  },
  {
   "cell_type": "code",
   "execution_count": 10,
   "id": "600e54fa",
   "metadata": {},
   "outputs": [
    {
     "data": {
      "text/html": [
       "<div>\n",
       "<style scoped>\n",
       "    .dataframe tbody tr th:only-of-type {\n",
       "        vertical-align: middle;\n",
       "    }\n",
       "\n",
       "    .dataframe tbody tr th {\n",
       "        vertical-align: top;\n",
       "    }\n",
       "\n",
       "    .dataframe thead th {\n",
       "        text-align: right;\n",
       "    }\n",
       "</style>\n",
       "<table border=\"1\" class=\"dataframe\">\n",
       "  <thead>\n",
       "    <tr style=\"text-align: right;\">\n",
       "      <th></th>\n",
       "      <th>CustomerID</th>\n",
       "      <th>InvoieNo</th>\n",
       "      <th>Date of purchase</th>\n",
       "      <th>Price</th>\n",
       "    </tr>\n",
       "  </thead>\n",
       "  <tbody>\n",
       "    <tr>\n",
       "      <th>0</th>\n",
       "      <td>4355.0</td>\n",
       "      <td>398177.0</td>\n",
       "      <td>29-10-2017</td>\n",
       "      <td>1926.0</td>\n",
       "    </tr>\n",
       "    <tr>\n",
       "      <th>1</th>\n",
       "      <td>4352.0</td>\n",
       "      <td>394422.0</td>\n",
       "      <td>05-10-2017</td>\n",
       "      <td>1740.0</td>\n",
       "    </tr>\n",
       "    <tr>\n",
       "      <th>2</th>\n",
       "      <td>4352.0</td>\n",
       "      <td>394422.0</td>\n",
       "      <td>12-10-2017</td>\n",
       "      <td>1866.0</td>\n",
       "    </tr>\n",
       "    <tr>\n",
       "      <th>3</th>\n",
       "      <td>4352.0</td>\n",
       "      <td>388633.0</td>\n",
       "      <td>22-08-2017</td>\n",
       "      <td>1869.0</td>\n",
       "    </tr>\n",
       "    <tr>\n",
       "      <th>4</th>\n",
       "      <td>4352.0</td>\n",
       "      <td>394422.0</td>\n",
       "      <td>10-10-2017</td>\n",
       "      <td>1888.0</td>\n",
       "    </tr>\n",
       "  </tbody>\n",
       "</table>\n",
       "</div>"
      ],
      "text/plain": [
       "   CustomerID  InvoieNo Date of purchase   Price\n",
       "0      4355.0  398177.0       29-10-2017  1926.0\n",
       "1      4352.0  394422.0       05-10-2017  1740.0\n",
       "2      4352.0  394422.0       12-10-2017  1866.0\n",
       "3      4352.0  388633.0       22-08-2017  1869.0\n",
       "4      4352.0  394422.0       10-10-2017  1888.0"
      ]
     },
     "execution_count": 10,
     "metadata": {},
     "output_type": "execute_result"
    }
   ],
   "source": [
    "dataset = dataset.drop(['Item Code','Quantity',\n",
    "                       'Time','price per Unit',\n",
    "                       'Shipping Location','Cancelled_status',\n",
    "                       'Reason of return','Sold as set'], axis=1)\n",
    "dataset.head()"
   ]
  },
  {
   "cell_type": "markdown",
   "id": "2826a1d0",
   "metadata": {},
   "source": [
    "# Checking for duplicate entries :"
   ]
  },
  {
   "cell_type": "code",
   "execution_count": 11,
   "id": "2e591c01",
   "metadata": {},
   "outputs": [
    {
     "data": {
      "text/plain": [
       "6008"
      ]
     },
     "execution_count": 11,
     "metadata": {},
     "output_type": "execute_result"
    }
   ],
   "source": [
    "dataset.duplicated().sum()"
   ]
  },
  {
   "cell_type": "markdown",
   "id": "ffafef7d",
   "metadata": {},
   "source": [
    "- we will drop the duplicate entries."
   ]
  },
  {
   "cell_type": "code",
   "execution_count": 12,
   "id": "47565bde",
   "metadata": {},
   "outputs": [],
   "source": [
    "dataset = dataset.drop_duplicates(ignore_index=True)"
   ]
  },
  {
   "cell_type": "code",
   "execution_count": 13,
   "id": "d447028c",
   "metadata": {},
   "outputs": [
    {
     "data": {
      "text/plain": [
       "0"
      ]
     },
     "execution_count": 13,
     "metadata": {},
     "output_type": "execute_result"
    }
   ],
   "source": [
    "dataset.duplicated().sum()"
   ]
  },
  {
   "cell_type": "markdown",
   "id": "60c198ee",
   "metadata": {},
   "source": [
    "# Renaming of Columns :"
   ]
  },
  {
   "cell_type": "code",
   "execution_count": 14,
   "id": "9f161734",
   "metadata": {},
   "outputs": [
    {
     "data": {
      "text/html": [
       "<div>\n",
       "<style scoped>\n",
       "    .dataframe tbody tr th:only-of-type {\n",
       "        vertical-align: middle;\n",
       "    }\n",
       "\n",
       "    .dataframe tbody tr th {\n",
       "        vertical-align: top;\n",
       "    }\n",
       "\n",
       "    .dataframe thead th {\n",
       "        text-align: right;\n",
       "    }\n",
       "</style>\n",
       "<table border=\"1\" class=\"dataframe\">\n",
       "  <thead>\n",
       "    <tr style=\"text-align: right;\">\n",
       "      <th></th>\n",
       "      <th>CustomerID</th>\n",
       "      <th>InvoiceNo</th>\n",
       "      <th>Date</th>\n",
       "      <th>Price</th>\n",
       "    </tr>\n",
       "  </thead>\n",
       "  <tbody>\n",
       "    <tr>\n",
       "      <th>0</th>\n",
       "      <td>4355.0</td>\n",
       "      <td>398177.0</td>\n",
       "      <td>29-10-2017</td>\n",
       "      <td>1926.0</td>\n",
       "    </tr>\n",
       "    <tr>\n",
       "      <th>1</th>\n",
       "      <td>4352.0</td>\n",
       "      <td>394422.0</td>\n",
       "      <td>05-10-2017</td>\n",
       "      <td>1740.0</td>\n",
       "    </tr>\n",
       "    <tr>\n",
       "      <th>2</th>\n",
       "      <td>4352.0</td>\n",
       "      <td>394422.0</td>\n",
       "      <td>12-10-2017</td>\n",
       "      <td>1866.0</td>\n",
       "    </tr>\n",
       "    <tr>\n",
       "      <th>3</th>\n",
       "      <td>4352.0</td>\n",
       "      <td>388633.0</td>\n",
       "      <td>22-08-2017</td>\n",
       "      <td>1869.0</td>\n",
       "    </tr>\n",
       "    <tr>\n",
       "      <th>4</th>\n",
       "      <td>4352.0</td>\n",
       "      <td>394422.0</td>\n",
       "      <td>10-10-2017</td>\n",
       "      <td>1888.0</td>\n",
       "    </tr>\n",
       "  </tbody>\n",
       "</table>\n",
       "</div>"
      ],
      "text/plain": [
       "   CustomerID  InvoiceNo        Date   Price\n",
       "0      4355.0   398177.0  29-10-2017  1926.0\n",
       "1      4352.0   394422.0  05-10-2017  1740.0\n",
       "2      4352.0   394422.0  12-10-2017  1866.0\n",
       "3      4352.0   388633.0  22-08-2017  1869.0\n",
       "4      4352.0   394422.0  10-10-2017  1888.0"
      ]
     },
     "execution_count": 14,
     "metadata": {},
     "output_type": "execute_result"
    }
   ],
   "source": [
    "dataset = dataset.rename(columns={'InvoieNo':'InvoiceNo',\n",
    "                                  'Date of purchase':'Date'})\n",
    "dataset.head()"
   ]
  },
  {
   "cell_type": "code",
   "execution_count": 15,
   "id": "686ac380",
   "metadata": {},
   "outputs": [
    {
     "data": {
      "text/plain": [
       "CustomerID    132249\n",
       "InvoiceNo          1\n",
       "Date               1\n",
       "Price              1\n",
       "dtype: int64"
      ]
     },
     "execution_count": 15,
     "metadata": {},
     "output_type": "execute_result"
    }
   ],
   "source": [
    "dataset.isnull().sum()"
   ]
  },
  {
   "cell_type": "markdown",
   "id": "90294bcb",
   "metadata": {},
   "source": [
    "- Still there are some missing values in 'Customer ID' Column.\n",
    "- For this project customer id is the most important feature to identify the customer and target them. So if the value of 'Customer ID' is missing that perticular entry will be of no use.\n",
    "- We will drop all the entries where 'Customer ID' value is missing."
   ]
  },
  {
   "cell_type": "code",
   "execution_count": 16,
   "id": "288187db",
   "metadata": {},
   "outputs": [
    {
     "data": {
      "text/plain": [
       "CustomerID    0\n",
       "InvoiceNo     0\n",
       "Date          0\n",
       "Price         0\n",
       "dtype: int64"
      ]
     },
     "execution_count": 16,
     "metadata": {},
     "output_type": "execute_result"
    }
   ],
   "source": [
    "dataset = dataset.dropna(subset=['CustomerID'])\n",
    "dataset.isnull().sum()"
   ]
  },
  {
   "cell_type": "markdown",
   "id": "91a766a6",
   "metadata": {},
   "source": [
    "# Analyse Date Part"
   ]
  },
  {
   "cell_type": "code",
   "execution_count": 17,
   "id": "1d5311da",
   "metadata": {},
   "outputs": [],
   "source": [
    "import datetime as dt"
   ]
  },
  {
   "cell_type": "code",
   "execution_count": 18,
   "id": "b19d1379",
   "metadata": {},
   "outputs": [
    {
     "name": "stdout",
     "output_type": "stream",
     "text": [
      "<class 'pandas.core.frame.DataFrame'>\n",
      "Int64Index: 402859 entries, 0 to 535079\n",
      "Data columns (total 4 columns):\n",
      " #   Column      Non-Null Count   Dtype  \n",
      "---  ------      --------------   -----  \n",
      " 0   CustomerID  402859 non-null  float64\n",
      " 1   InvoiceNo   402859 non-null  float64\n",
      " 2   Date        402859 non-null  object \n",
      " 3   Price       402859 non-null  float64\n",
      "dtypes: float64(3), object(1)\n",
      "memory usage: 15.4+ MB\n"
     ]
    }
   ],
   "source": [
    "dataset.info()"
   ]
  },
  {
   "cell_type": "markdown",
   "id": "05db9a85",
   "metadata": {},
   "source": [
    "- The 'Date' column is given as 'object' type.\n",
    "- We will convertit to 'datetime' data type."
   ]
  },
  {
   "cell_type": "code",
   "execution_count": 19,
   "id": "ae33aab0",
   "metadata": {},
   "outputs": [],
   "source": [
    "dataset['Date'] = pd.to_datetime(dataset['Date'])"
   ]
  },
  {
   "cell_type": "code",
   "execution_count": 20,
   "id": "3ebdd1ab",
   "metadata": {},
   "outputs": [
    {
     "name": "stdout",
     "output_type": "stream",
     "text": [
      "<class 'pandas.core.frame.DataFrame'>\n",
      "Int64Index: 402859 entries, 0 to 535079\n",
      "Data columns (total 4 columns):\n",
      " #   Column      Non-Null Count   Dtype         \n",
      "---  ------      --------------   -----         \n",
      " 0   CustomerID  402859 non-null  float64       \n",
      " 1   InvoiceNo   402859 non-null  float64       \n",
      " 2   Date        402859 non-null  datetime64[ns]\n",
      " 3   Price       402859 non-null  float64       \n",
      "dtypes: datetime64[ns](1), float64(3)\n",
      "memory usage: 15.4 MB\n"
     ]
    }
   ],
   "source": [
    "dataset.info()"
   ]
  },
  {
   "cell_type": "code",
   "execution_count": 21,
   "id": "cac8eccb",
   "metadata": {},
   "outputs": [
    {
     "data": {
      "text/plain": [
       "count                  402859\n",
       "unique                    381\n",
       "top       2017-11-24 00:00:00\n",
       "freq                     2507\n",
       "first     2016-02-12 00:00:00\n",
       "last      2017-12-19 00:00:00\n",
       "Name: Date, dtype: object"
      ]
     },
     "execution_count": 21,
     "metadata": {},
     "output_type": "execute_result"
    }
   ],
   "source": [
    "dataset['Date'].describe()"
   ]
  },
  {
   "cell_type": "code",
   "execution_count": 22,
   "id": "3adc3761",
   "metadata": {},
   "outputs": [
    {
     "name": "stdout",
     "output_type": "stream",
     "text": [
      "2017-12-20 00:00:00\n"
     ]
    }
   ],
   "source": [
    "latest_date = dt.datetime(2017,12,20)\n",
    "print(latest_date)"
   ]
  },
  {
   "cell_type": "markdown",
   "id": "996966a2",
   "metadata": {},
   "source": [
    "# Calculate 'Recency', 'Frequency' and 'Monetary' for each Customer :"
   ]
  },
  {
   "cell_type": "code",
   "execution_count": 23,
   "id": "0e1cec4f",
   "metadata": {},
   "outputs": [
    {
     "data": {
      "text/html": [
       "<div>\n",
       "<style scoped>\n",
       "    .dataframe tbody tr th:only-of-type {\n",
       "        vertical-align: middle;\n",
       "    }\n",
       "\n",
       "    .dataframe tbody tr th {\n",
       "        vertical-align: top;\n",
       "    }\n",
       "\n",
       "    .dataframe thead th {\n",
       "        text-align: right;\n",
       "    }\n",
       "</style>\n",
       "<table border=\"1\" class=\"dataframe\">\n",
       "  <thead>\n",
       "    <tr style=\"text-align: right;\">\n",
       "      <th></th>\n",
       "      <th>Recency</th>\n",
       "      <th>Frequency</th>\n",
       "      <th>Monetory</th>\n",
       "    </tr>\n",
       "    <tr>\n",
       "      <th>CustomerID</th>\n",
       "      <th></th>\n",
       "      <th></th>\n",
       "      <th></th>\n",
       "    </tr>\n",
       "  </thead>\n",
       "  <tbody>\n",
       "    <tr>\n",
       "      <th>2.0</th>\n",
       "      <td>4</td>\n",
       "      <td>181</td>\n",
       "      <td>550416.0</td>\n",
       "    </tr>\n",
       "    <tr>\n",
       "      <th>3.0</th>\n",
       "      <td>77</td>\n",
       "      <td>27</td>\n",
       "      <td>257404.0</td>\n",
       "    </tr>\n",
       "    <tr>\n",
       "      <th>4.0</th>\n",
       "      <td>20</td>\n",
       "      <td>72</td>\n",
       "      <td>176613.0</td>\n",
       "    </tr>\n",
       "    <tr>\n",
       "      <th>5.0</th>\n",
       "      <td>18</td>\n",
       "      <td>16</td>\n",
       "      <td>41976.0</td>\n",
       "    </tr>\n",
       "    <tr>\n",
       "      <th>6.0</th>\n",
       "      <td>9</td>\n",
       "      <td>84</td>\n",
       "      <td>151822.0</td>\n",
       "    </tr>\n",
       "  </tbody>\n",
       "</table>\n",
       "</div>"
      ],
      "text/plain": [
       "            Recency  Frequency  Monetory\n",
       "CustomerID                              \n",
       "2.0               4        181  550416.0\n",
       "3.0              77         27  257404.0\n",
       "4.0              20         72  176613.0\n",
       "5.0              18         16   41976.0\n",
       "6.0               9         84  151822.0"
      ]
     },
     "execution_count": 23,
     "metadata": {},
     "output_type": "execute_result"
    }
   ],
   "source": [
    "RFMScore = dataset.groupby('CustomerID').agg({'Date': lambda x:(latest_date - x.max()).days,\n",
    "                                              'InvoiceNo' : lambda x:x.count(),\n",
    "                                              'Price' : lambda x:x.sum()})\n",
    "\n",
    "RFMScore.rename(columns = {'Date':'Recency', 'InvoiceNo':'Frequency','Price':'Monetory'},inplace=True)\n",
    "RFMScore.head()"
   ]
  },
  {
   "cell_type": "code",
   "execution_count": 24,
   "id": "6b52d9db",
   "metadata": {},
   "outputs": [
    {
     "data": {
      "text/html": [
       "<div>\n",
       "<style scoped>\n",
       "    .dataframe tbody tr th:only-of-type {\n",
       "        vertical-align: middle;\n",
       "    }\n",
       "\n",
       "    .dataframe tbody tr th {\n",
       "        vertical-align: top;\n",
       "    }\n",
       "\n",
       "    .dataframe thead th {\n",
       "        text-align: right;\n",
       "    }\n",
       "</style>\n",
       "<table border=\"1\" class=\"dataframe\">\n",
       "  <thead>\n",
       "    <tr style=\"text-align: right;\">\n",
       "      <th></th>\n",
       "      <th>CustomerID</th>\n",
       "      <th>Recency</th>\n",
       "      <th>Frequency</th>\n",
       "      <th>Monetory</th>\n",
       "    </tr>\n",
       "  </thead>\n",
       "  <tbody>\n",
       "    <tr>\n",
       "      <th>0</th>\n",
       "      <td>2.0</td>\n",
       "      <td>4</td>\n",
       "      <td>181</td>\n",
       "      <td>550416.0</td>\n",
       "    </tr>\n",
       "    <tr>\n",
       "      <th>1</th>\n",
       "      <td>3.0</td>\n",
       "      <td>77</td>\n",
       "      <td>27</td>\n",
       "      <td>257404.0</td>\n",
       "    </tr>\n",
       "    <tr>\n",
       "      <th>2</th>\n",
       "      <td>4.0</td>\n",
       "      <td>20</td>\n",
       "      <td>72</td>\n",
       "      <td>176613.0</td>\n",
       "    </tr>\n",
       "    <tr>\n",
       "      <th>3</th>\n",
       "      <td>5.0</td>\n",
       "      <td>18</td>\n",
       "      <td>16</td>\n",
       "      <td>41976.0</td>\n",
       "    </tr>\n",
       "    <tr>\n",
       "      <th>4</th>\n",
       "      <td>6.0</td>\n",
       "      <td>9</td>\n",
       "      <td>84</td>\n",
       "      <td>151822.0</td>\n",
       "    </tr>\n",
       "    <tr>\n",
       "      <th>...</th>\n",
       "      <td>...</td>\n",
       "      <td>...</td>\n",
       "      <td>...</td>\n",
       "      <td>...</td>\n",
       "    </tr>\n",
       "    <tr>\n",
       "      <th>4344</th>\n",
       "      <td>4368.0</td>\n",
       "      <td>17</td>\n",
       "      <td>10</td>\n",
       "      <td>20480.0</td>\n",
       "    </tr>\n",
       "    <tr>\n",
       "      <th>4345</th>\n",
       "      <td>4369.0</td>\n",
       "      <td>181</td>\n",
       "      <td>7</td>\n",
       "      <td>10774.0</td>\n",
       "    </tr>\n",
       "    <tr>\n",
       "      <th>4346</th>\n",
       "      <td>4370.0</td>\n",
       "      <td>12</td>\n",
       "      <td>13</td>\n",
       "      <td>24962.0</td>\n",
       "    </tr>\n",
       "    <tr>\n",
       "      <th>4347</th>\n",
       "      <td>4371.0</td>\n",
       "      <td>4</td>\n",
       "      <td>751</td>\n",
       "      <td>279720.0</td>\n",
       "    </tr>\n",
       "    <tr>\n",
       "      <th>4348</th>\n",
       "      <td>4372.0</td>\n",
       "      <td>51</td>\n",
       "      <td>68</td>\n",
       "      <td>256952.0</td>\n",
       "    </tr>\n",
       "  </tbody>\n",
       "</table>\n",
       "<p>4349 rows × 4 columns</p>\n",
       "</div>"
      ],
      "text/plain": [
       "      CustomerID  Recency  Frequency  Monetory\n",
       "0            2.0        4        181  550416.0\n",
       "1            3.0       77         27  257404.0\n",
       "2            4.0       20         72  176613.0\n",
       "3            5.0       18         16   41976.0\n",
       "4            6.0        9         84  151822.0\n",
       "...          ...      ...        ...       ...\n",
       "4344      4368.0       17         10   20480.0\n",
       "4345      4369.0      181          7   10774.0\n",
       "4346      4370.0       12         13   24962.0\n",
       "4347      4371.0        4        751  279720.0\n",
       "4348      4372.0       51         68  256952.0\n",
       "\n",
       "[4349 rows x 4 columns]"
      ]
     },
     "execution_count": 24,
     "metadata": {},
     "output_type": "execute_result"
    }
   ],
   "source": [
    "RFMScore.reset_index()"
   ]
  },
  {
   "cell_type": "code",
   "execution_count": 25,
   "id": "7521e2f5",
   "metadata": {},
   "outputs": [
    {
     "name": "stdout",
     "output_type": "stream",
     "text": [
      "************************************************** Recency **************************************************\n",
      "\n",
      "{1, 2, 3, 4, 5, 6, 7, 8, 9, 10, 11, 12, 13, 14, 15, 16, 17, 18, 19, 20, 21, 22, 23, 24, 25, 26, 27, 28, 29, 30, 31, 32, 33, 34, 35, 36, 37, 38, 39, 40, 41, 42, 43, 44, 45, 46, 47, 48, 49, 50, 51, 52, 53, 54, 55, 56, 57, 58, 59, 60, 61, 62, 63, 64, 65, 66, 67, 69, 70, 71, 72, 73, 74, 75, 76, 77, 78, 79, 587, 81, 82, 83, 84, 85, 86, 87, 88, 89, 90, 526, 92, 93, 94, 95, 98, 99, 100, 101, 102, 103, 104, 105, 617, 107, 108, 109, 110, 111, 112, 113, 114, 115, 116, 117, 106, 119, 120, 121, 126, 127, 128, 129, 130, 131, 132, 133, 134, 135, 136, 137, 138, 139, 141, 142, 143, 144, 145, 146, 148, 149, 150, 151, 152, 155, 157, 161, 163, 165, 166, 167, 168, 169, 170, 171, 172, 173, 174, 175, 176, 177, 178, 179, 180, 181, 183, 185, 188, 190, 191, 196, 197, 198, 199, 200, 201, 203, 204, 205, 206, 207, 208, 209, 211, 212, 214, 216, 220, 226, 228, 230, 231, 232, 234, 235, 236, 237, 239, 240, 241, 242, 243, 244, 246, 250, 251, 252, 257, 258, 260, 261, 262, 264, 265, 266, 267, 268, 269, 270, 271, 272, 275, 277, 278, 283, 284, 286, 292, 293, 295, 296, 297, 298, 299, 300, 306, 307, 309, 320, 321, 322, 323, 324, 326, 327, 328, 329, 330, 331, 332, 333, 334, 335, 337, 351, 354, 355, 356, 357, 358, 359, 360, 361, 362, 363, 364, 365, 366, 367, 368, 369, 370, 371, 372, 373, 403, 80, 434, 464, 495}\n",
      "\n",
      "************************************************** Frequency **************************************************\n",
      "\n",
      "{1, 2, 3, 4, 5, 6, 7, 8, 9, 10, 11, 12, 13, 14, 15, 16, 17, 18, 19, 20, 21, 22, 23, 24, 25, 26, 27, 28, 29, 30, 31, 32, 33, 34, 35, 36, 37, 38, 39, 40, 41, 42, 43, 44, 45, 46, 47, 48, 49, 50, 51, 52, 53, 54, 55, 56, 57, 58, 59, 60, 61, 62, 63, 64, 65, 66, 67, 68, 69, 70, 71, 72, 73, 74, 75, 76, 77, 78, 79, 80, 81, 82, 83, 84, 85, 86, 87, 88, 89, 90, 91, 92, 93, 94, 95, 96, 97, 98, 99, 100, 101, 102, 103, 104, 105, 106, 107, 108, 109, 110, 111, 112, 113, 114, 115, 116, 117, 118, 119, 120, 121, 122, 123, 124, 125, 126, 127, 128, 129, 130, 131, 132, 133, 134, 135, 136, 137, 138, 139, 140, 141, 142, 143, 144, 145, 146, 147, 148, 149, 150, 151, 152, 153, 154, 155, 156, 157, 158, 159, 160, 161, 162, 163, 164, 165, 166, 167, 168, 169, 170, 171, 172, 173, 174, 175, 176, 177, 178, 179, 180, 181, 182, 183, 184, 185, 186, 187, 188, 189, 190, 191, 192, 193, 194, 195, 196, 197, 198, 199, 200, 201, 202, 203, 204, 206, 207, 208, 209, 210, 211, 212, 213, 214, 215, 216, 217, 218, 219, 220, 221, 222, 223, 224, 225, 226, 227, 228, 229, 230, 231, 232, 233, 234, 235, 236, 237, 238, 239, 240, 241, 243, 244, 245, 246, 248, 249, 250, 251, 252, 253, 254, 255, 257, 258, 259, 260, 261, 262, 263, 264, 265, 267, 268, 269, 270, 271, 272, 273, 274, 275, 276, 277, 278, 280, 281, 282, 283, 284, 285, 286, 288, 289, 291, 293, 295, 296, 297, 298, 300, 302, 305, 306, 308, 310, 311, 312, 313, 314, 315, 316, 317, 318, 319, 320, 321, 322, 323, 324, 326, 327, 328, 329, 330, 332, 338, 340, 341, 342, 343, 344, 345, 346, 348, 349, 351, 352, 353, 357, 358, 359, 360, 362, 363, 364, 365, 366, 372, 374, 375, 377, 379, 380, 381, 383, 384, 387, 389, 391, 392, 394, 397, 399, 401, 406, 408, 409, 410, 411, 412, 413, 414, 416, 417, 418, 420, 421, 422, 426, 429, 436, 438, 439, 2487, 442, 444, 445, 447, 449, 451, 453, 455, 459, 460, 461, 466, 468, 470, 472, 473, 476, 483, 484, 485, 494, 495, 4592, 498, 499, 500, 501, 503, 506, 511, 514, 517, 518, 533, 541, 544, 545, 546, 555, 556, 559, 561, 563, 569, 575, 580, 585, 589, 603, 604, 608, 609, 619, 628, 631, 651, 657, 663, 666, 668, 687, 692, 695, 697, 699, 703, 716, 718, 720, 2775, 740, 741, 750, 751, 755, 794, 867, 895, 919, 5023, 934, 966, 973, 1008, 1048, 1059, 1077, 1124, 1150, 1157, 1159, 1202, 1274, 1390, 1507, 1617, 1662, 5854, 7919, 1848, 2045}\n",
      "\n",
      "************************************************** Monetory **************************************************\n",
      "\n",
      "{8192.0, 704515.0, 65543.0, 16392.0, 155659.0, 466956.0, 32780.0, 614411.0, 49172.0, 73748.0, 57368.0, 81945.0, 172058.0, 81944.0, 32798.0, 155680.0, 65569.0, 172065.0, 106529.0, 393252.0, 49189.0, 516132.0, 229414.0, 98340.0, 40997.0, 73764.0, 163883.0, 49196.0, 65579.0, 704558.0, 57391.0, 16431.0, 73777.0, 540722.0, 106546.0, 65585.0, 114734.0, 245808.0, 49208.0, 131134.0, 49218.0, 49221.0, 24648.0, 41033.0, 81994.0, 221259.0, 1392716.0, 65615.0, 114768.0, 376917.0, 335958.0, 147542.0, 8280.0, 49240.0, 98389.0, 32861.0, 57438.0, 41055.0, 65630.0, 90208.0, 96.0, 131175.0, 114791.0, 147561.0, 41066.0, 147560.0, 24684.0, 311405.0, 65645.0, 41074.0, 778355.0, 106611.0, 106615.0, 327800.0, 139383.0, 1179769.0, 16507.0, 229498.0, 41086.0, 57472.0, 204930.0, 401539.0, 73859.0, 123014.0, 65678.0, 196754.0, 32916.0, 32918.0, 82070.0, 41114.0, 8352.0, 49312.0, 41122.0, 49315.0, 73890.0, 499878.0, 164007.0, 65704.0, 164008.0, 73898.0, 24747.0, 73894.0, 123053.0, 147640.0, 155834.0, 106684.0, 32958.0, 24768.0, 139457.0, 147650.0, 549059.0, 32961.0, 65730.0, 32970.0, 32972.0, 680140.0, 8398.0, 41168.0, 8400.0, 196820.0, 41174.0, 762070.0, 2670808.0, 663768.0, 41181.0, 82142.0, 344286.0, 73949.0, 114911.0, 32996.0, 188645.0, 90346.0, 57580.0, 164079.0, 41200.0, 90353.0, 33007.0, 426228.0, 57589.0, 106741.0, 327927.0, 90357.0, 278777.0, 41207.0, 123126.0, 1007860.0, 139519.0, 16640.0, 90375.0, 164108.0, 295181.0, 1958158.0, 172300.0, 123152.0, 8102167.0, 65819.0, 24860.0, 106784.0, 74019.0, 41251.0, 41252.0, 292.0, 65832.0, 114988.0, 409900.0, 221484.0, 16688.0, 57648.0, 33075.0, 1220918.0, 106810.0, 205115.0, 246076.0, 82235.0, 41275.0, 205119.0, 24900.0, 57670.0, 16711.0, 155976.0, 65865.0, 16714.0, 557387.0, 188748.0, 33100.0, 49484.0, 57679.0, 131409.0, 131413.0, 385369.0, 1130843.0, 90461.0, 885087.0, 41312.0, 123233.0, 221540.0, 229732.0, 164199.0, 278887.0, 270697.0, 106861.0, 24943.0, 115056.0, 41329.0, 188788.0, 147831.0, 49529.0, 41338.0, 147835.0, 115066.0, 180606.0, 196990.0, 8578.0, 24962.0, 388.0, 131467.0, 49548.0, 16780.0, 115089.0, 164242.0, 164243.0, 385430.0, 197015.0, 8600.0, 74134.0, 287131.0, 205212.0, 1229212.0, 24992.0, 508321.0, 704928.0, 8611.0, 16803.0, 41384.0, 106920.0, 16813.0, 16815.0, 106928.0, 745905.0, 221620.0, 57781.0, 598453.0, 860598.0, 33209.0, 16826.0, 90555.0, 49603.0, 33220.0, 328133.0, 49607.0, 156106.0, 344528.0, 66002.0, 33235.0, 25044.0, 41429.0, 278995.0, 25046.0, 25048.0, 1851865.0, 123354.0, 41435.0, 476.0, 82394.0, 57822.0, 74205.0, 106980.0, 213477.0, 49638.0, 139752.0, 221678.0, 8688.0, 16884.0, 82420.0, 501.0, 180730.0, 33275.0, 57851.0, 33277.0, 25082.0, 90622.0, 8702.0, 377345.0, 74236.0, 49659.0, 57860.0, 131589.0, 107015.0, 57864.0, 82441.0, 221706.0, 49673.0, 90636.0, 385554.0, 33300.0, 25108.0, 262679.0, 41500.0, 90653.0, 66077.0, 33315.0, 238117.0, 795177.0, 107056.0, 57912.0, 483896.0, 16960.0, 16961.0, 66112.0, 25157.0, 107078.0, 541255.0, 246345.0, 418378.0, 41551.0, 295511.0, 74329.0, 254556.0, 41568.0, 16994.0, 90726.0, 189031.0, 229993.0, 33388.0, 189038.0, 115313.0, 49778.0, 25201.0, 844408.0, 25210.0, 139899.0, 41596.0, 98938.0, 139902.0, 164479.0, 361086.0, 270975.0, 205444.0, 98949.0, 49797.0, 17031.0, 57991.0, 90760.0, 1680015.0, 541332.0, 98965.0, 107156.0, 49819.0, 25244.0, 17052.0, 74400.0, 1696418.0, 148131.0, 156323.0, 25253.0, 17062.0, 230056.0, 33451.0, 115376.0, 98993.0, 66230.0, 49854.0, 262856.0, 41673.0, 287435.0, 17100.0, 230093.0, 418511.0, 254672.0, 66257.0, 17106.0, 25300.0, 131800.0, 35472089.0, 238296.0, 33496.0, 213724.0, 41688.0, 467678.0, 205535.0, 734.0, 221921.0, 41700.0, 82660.0, 90856.0, 25323.0, 443115.0, 123629.0, 82670.0, 213745.0, 361204.0, 66295.0, 426744.0, 107256.0, 131835.0, 99077.0, 787206.0, 287498.0, 99091.0, 189204.0, 41747.0, 295701.0, 33556.0, 279320.0, 115487.0, 17184.0, 49953.0, 90914.0, 33570.0, 328479.0, 41760.0, 123680.0, 107303.0, 459560.0, 41770.0, 205612.0, 434992.0, 17200.0, 99121.0, 336690.0, 49972.0, 41781.0, 58171.0, 123707.0, 361279.0, 41792.0, 99140.0, 49990.0, 17226.0, 213834.0, 90956.0, 140110.0, 164687.0, 14312274.0, 107347.0, 123730.0, 9042.0, 25428.0, 276968.0, 25433.0, 17244.0, 328544.0, 1450852.0, 648038.0, 90984.0, 58218.0, 875.0, 99181.0, 99185.0, 525172.0, 41853.0, 58238.0, 123776.0, 213890.0, 17285.0, 99205.0, 25480.0, 82826.0, 82829.0, 115599.0, 25490.0, 58259.0, 33686.0, 50075.0, 17310.0, 66466.0, 9126.0, 50087.0, 25513.0, 287658.0, 25517.0, 82862.0, 1483696.0, 238514.0, 1876914.0, 91062.0, 24612.0, 50104.0, 17337.0, 132026.0, 99260.0, 271296.0, 197570.0, 33731.0, 115652.0, 205765.0, 25542.0, 25546.0, 17356.0, 41932.0, 41934.0, 156624.0, 66512.0, 17364.0, 353237.0, 91094.0, 107479.0, 25560.0, 33756.0, 738270.0, 33760.0, 25569.0, 402409.0, 50154.0, 25582.0, 451567.0, 25584.0, 50163.0, 41976.0, 41978.0, 25595.0, 189436.0, 893947.0, 123904.0, 25600.0, 418819.0, 664579.0, 173063.0, 74760.0, 132105.0, 25610.0, 66570.0, 9228.0, 99340.0, 107534.0, 295952.0, 82962.0, 115732.0, 66584.0, 17433.0, 33816.0, 304155.0, 42015.0, 25632.0, 91172.0, 33835.0, 58412.0, 623661.0, 25652.0, 58420.0, 17462.0, 246838.0, 33848.0, 91192.0, 74810.0, 25659.0, 156727.0, 42045.0, 58423.0, 74812.0, 17463.0, 164928.0, 173122.0, 42050.0, 132168.0, 66637.0, 17486.0, 214095.0, 287824.0, 17489.0, 148561.0, 459860.0, 50261.0, 164951.0, 189528.0, 1114.0, 123997.0, 74846.0, 459871.0, 33888.0, 33890.0, 1573987.0, 66660.0, 17512.0, 17513.0, 607342.0, 50286.0, 25714.0, 50292.0, 17526.0, 222328.0, 66685.0, 17533.0, 50301.0, 1320064.0, 58497.0, 83074.0, 33918.0, 50309.0, 107659.0, 17550.0, 214162.0, 230547.0, 66708.0, 115861.0, 17560.0, 25753.0, 287897.0, 25752.0, 9376.0, 124064.0, 197798.0, 91303.0, 279720.0, 1352873.0, 99498.0, 410798.0, 492719.0, 574643.0, 17591.0, 140472.0, 9400.0, 337083.0, 17596.0, 83133.0, 165057.0, 9410.0, 107713.0, 42180.0, 140484.0, 1008838.0, 124103.0, 255175.0, 42184.0, 33994.0, 312522.0, 74956.0, 115916.0, 206031.0, 9424.0, 17617.0, 42194.0, 255185.0, 132306.0, 124118.0, 140508.0, 279774.0, 427231.0, 17633.0, 50401.0, 34020.0, 25828.0, 132328.0, 165097.0, 66794.0, 255209.0, 50415.0, 369904.0, 42231.0, 99580.0, 75005.0, 9472.0, 492804.0, 42252.0, 99599.0, 25873.0, 25874.0, 17688.0, 599321.0, 410906.0, 58653.0, 25886.0, 148768.0, 83233.0, 99624.0, 484648.0, 361770.0, 238890.0, 189746.0, 116019.0, 58676.0, 25911.0, 369976.0, 1339.0, 42301.0, 107838.0, 124223.0, 165181.0, 99651.0, 263492.0, 34116.0, 25926.0, 148807.0, 83272.0, 42315.0, 34125.0, 9554.0, 42323.0, 75094.0, 222551.0, 148825.0, 140634.0, 17754.0, 75097.0, 132446.0, 836961.0, 9570.0, 140644.0, 83302.0, 214375.0, 370024.0, 42345.0, 222570.0, 34154.0, 91496.0, 247144.0, 345454.0, 75117.0, 58733.0, 17772.0, 329075.0, 271732.0, 116086.0, 58743.0, 255356.0, 107902.0, 25982.0, 9600.0, 329089.0, 206209.0, 42378.0, 17803.0, 361867.0, 50573.0, 361868.0, 25998.0, 886168.0, 427418.0, 26010.0, 50586.0, 116128.0, 124323.0, 107940.0, 107942.0, 411051.0, 50606.0, 107953.0, 140722.0, 50612.0, 42424.0, 124346.0, 140731.0, 50620.0, 26042.0, 239038.0, 42435.0, 58820.0, 34245.0, 50633.0, 230857.0, 263630.0, 157136.0, 83408.0, 42450.0, 1344984.0, 75231.0, 17888.0, 2434527.0, 280035.0, 58852.0, 320997.0, 17894.0, 165351.0, 67050.0, 58859.0, 26096.0, 26097.0, 173554.0, 378356.0, 255478.0, 132600.0, 50682.0, 124411.0, 67068.0, 50685.0, 91646.0, 239104.0, 50692.0, 34311.0, 443912.0, 189961.0, 181771.0, 173583.0, 550416.0, 116239.0, 67087.0, 34324.0, 17941.0, 181782.0, 157207.0, 55669.0, 67097.0, 1074717.0, 34334.0, 435749.0, 362022.0, 42546.0, 34354.0, 42548.0, 34357.0, 34358.0, 689718.0, 58936.0, 67129.0, 190014.0, 206399.0, 17985.0, 362050.0, 9795.0, 42564.0, 67141.0, 34377.0, 157257.0, 57308.0, 681548.0, 34381.0, 165454.0, 9806.0, 157264.0, 18004.0, 34390.0, 75351.0, 124504.0, 67161.0, 26199.0, 263771.0, 50777.0, 26205.0, 181857.0, 124514.0, 222822.0, 9834.0, 149106.0, 18035.0, 99956.0, 18037.0, 50804.0, 91772.0, 18046.0, 18048.0, 132737.0, 222850.0, 2147972.0, 296582.0, 403080.0, 353928.0, 34442.0, 34447.0, 124560.0, 50843.0, 149148.0, 34464.0, 18081.0, 67238.0, 165543.0, 165550.0, 222895.0, 1402544.0, 18096.0, 42674.0, 83635.0, 9908.0, 198320.0, 26288.0, 75445.0, 26294.0, 1017529.0, 452282.0, 34491.0, 26300.0, 239292.0, 67259.0, 280253.0, 304832.0, 18108.0, 50882.0, 42687.0, 83653.0, 83655.0, 231113.0, 50889.0, 59082.0, 132814.0, 296655.0, 26320.0, 304853.0, 59093.0, 42714.0, 83674.0, 9948.0, 75485.0, 763614.0, 714461.0, 804574.0, 886494.0, 231136.0, 181988.0, 18150.0, 59112.0, 100073.0, 18153.0, 59115.0, 75499.0, 206573.0, 83694.0, 18160.0, 59121.0, 18162.0, 75508.0, 42741.0, 26358.0, 91898.0, 640764.0, 67325.0, 157439.0, 1173248.0, 67332.0, 444165.0, 1800.0, 542473.0, 206602.0, 42763.0, 18190.0, 9998.0, -14575.0, 1189651.0, 42776.0, 42777.0, 67356.0, 452381.0, 75550.0, 1107743.0, 26400.0, 100126.0, 2017058.0, 18214.0, 116519.0, 501544.0, 34600.0, 124714.0, 182059.0, 18220.0, 100138.0, 280365.0, 50992.0, 132914.0, 108345.0, 10042.0, 75579.0, 91963.0, 59198.0, 42815.0, 59200.0, 10050.0, 26436.0, 42820.0, 321352.0, 34632.0, 952138.0, 59211.0, 362316.0, 173896.0, 51025.0, 34641.0, 51028.0, 18261.0, 26453.0, 182104.0, 108378.0, 26458.0, 18270.0, 42847.0, 18272.0, 10080.0, 100195.0, 272229.0, 116581.0, 10088.0, 157544.0, 59242.0, 419691.0, 26476.0, 42862.0, 206702.0, 698224.0, 10097.0, 173937.0, 198514.0, 395123.0, 182134.0, 34683.0, 165757.0, 550788.0, 190347.0, 599952.0, 5678995.0, 75669.0, 157596.0, 26526.0, 18334.0, 42912.0, 346015.0, 1956.0, 616357.0, 67494.0, 34727.0, 59304.0, 51112.0, 18342.0, 42924.0, 280494.0, 206770.0, 26550.0, 42935.0, 59321.0, 75707.0, 75708.0, 247744.0, 255937.0, 42948.0, 157640.0, 75720.0, 26572.0, 92116.0, 100311.0, 305113.0, 305114.0, 67546.0, 182235.0, 2172891.0, 59355.0, 59362.0, 1312740.0, 42981.0, 313317.0, 26600.0, 190440.0, 18412.0, 51181.0, 198638.0, 133103.0, 51182.0, 272369.0, 182258.0, 100339.0, 665586.0, 51188.0, 296952.0, 141305.0, 18424.0, 133115.0, 18428.0, 100349.0, 34814.0, 100352.0, 215044.0, 75781.0, 157700.0, 231432.0, 75785.0, 18444.0, 280591.0, 59408.0, 296979.0, 100372.0, 208824.0, 43032.0, 116762.0, 403483.0, 1230876.0, 34846.0, 223269.0, 18474.0, 501802.0, 26668.0, 100397.0, 133168.0, 43056.0, 51250.0, 2100.0, 755765.0, 231478.0, 2101.0, 26680.0, 174132.0, 75834.0, 43069.0, 370751.0, 34882.0, 18499.0, 43080.0, 67663.0, 34896.0, 43088.0, 59477.0, 26712.0, 206936.0, 116825.0, 116827.0, 338009.0, 395361.0, 297058.0, 116840.0, 34920.0, 10348.0, 26733.0, 34924.0, 239729.0, 518257.0, 75889.0, 174196.0, 100470.0, 92279.0, 10361.0, 305274.0, 92281.0, 34944.0, 813185.0, 34946.0, 125059.0, 75908.0, 141440.0, 43142.0, 125062.0, 10369.0, 43146.0, 755857.0, 342363.0, 34969.0, 166045.0, 141470.0, 26782.0, 387237.0, 43178.0, 305324.0, 100525.0, 43183.0, 182448.0, 1034416.0, 59569.0, 51379.0, 182452.0, 116921.0, 43194.0, 567483.0, 26814.0, 18624.0, 1091776.0, 327718.0, 207044.0, 903364.0, 43206.0, 67781.0, 59592.0, 297164.0, 231630.0, 75982.0, 100562.0, 698580.0, 116949.0, 10454.0, 116957.0, 18656.0, 26851.0, 26852.0, 35050.0, 223467.0, 76012.0, 76010.0, 67823.0, 67824.0, 59636.0, 43254.0, 133366.0, 551160.0, 43257.0, 51452.0, 166142.0, 10495.0, 1517822.0, 35080.0, 256264.0, 297226.0, 35083.0, 84236.0, 207117.0, 18697.0, 76044.0, 43280.0, 542986.0, 76050.0, 35091.0, 35090.0, 59663.0, 469272.0, 657689.0, 256284.0, -14052.0, 67870.0, 59680.0, 10530.0, 141602.0, 35107.0, 84261.0, 26919.0, 452903.0, 35113.0, 108842.0, 76075.0, 43306.0, 280874.0, 92461.0, 76076.0, 272688.0, 133424.0, 18738.0, 76084.0, 51509.0, 108853.0, 10554.0, 10559.0, 878911.0, 26950.0, 665927.0, 125256.0, 92490.0, 256333.0, 10575.0, 297296.0, 321877.0, 125270.0, 395607.0, 26968.0, 215386.0, 960858.0, 26970.0, 35167.0, 43360.0, 10592.0, 51552.0, 84323.0, 26980.0, 199013.0, 108902.0, 1665383.0, 330088.0, 59751.0, 26987.0, 35184.0, 715121.0, 26994.0, 18804.0, 35190.0, 100727.0, 452984.0, 59773.0, 51582.0, 18819.0, 485764.0, 100745.0, 43402.0, 207244.0, 100749.0, 92558.0, 35212.0, 371084.0, 59790.0, 35218.0, 223635.0, 35220.0, 3762581.0, 674198.0, 461206.0, 43417.0, 27034.0, 100762.0, 166300.0, 51618.0, 43429.0, 256421.0, 76200.0, 35243.0, 84396.0, 76204.0, 18864.0, 371121.0, 35250.0, 10674.0, 321975.0, 174521.0, 51641.0, 10681.0, 68029.0, 43453.0, 248262.0, 133577.0, 27084.0, 158156.0, 18894.0, 272844.0, 109009.0, 51670.0, 59862.0, 27096.0, 10714.0, 10716.0, 84447.0, 125408.0, 133600.0, 371170.0, 18915.0, 166372.0, 35299.0, 289254.0, 10728.0, 494059.0, 59883.0, 27119.0, 27120.0, 182772.0, 223736.0, 182781.0, 330237.0, 518655.0, 84480.0, 526849.0, 84481.0, 84483.0, 27140.0, 68102.0, 1092102.0, 27146.0, 76299.0, 51724.0, 76302.0, 551439.0, 10769.0, 133651.0, 59924.0, 10773.0, 51732.0, 117271.0, 2580.0, 27159.0, 100890.0, 10774.0, 27165.0, 27166.0, 420386.0, 35362.0, 2009637.0, 100905.0, 92714.0, 35371.0, 18987.0, 92719.0, 141877.0, 223798.0, 117303.0, 68153.0, 92731.0, 76348.0, 682557.0, 59968.0, 133701.0, 395849.0, 109130.0, 338509.0, 35406.0, 43601.0, 27219.0, 7965268.0, 19030.0, 51802.0, 2650.0, 158300.0, -21926.0, 43617.0, 248418.0, 43618.0, 43628.0, 10860.0, 264813.0, 10863.0, 43632.0, 404083.0, 363126.0, 92791.0, 19065.0, 43651.0, 117382.0, 35462.0, 101000.0, 43666.0, 60051.0, 35476.0, 19091.0, 182933.0, 43672.0, 199322.0, 723615.0, 199329.0, 76450.0, 215714.0, 240292.0, 27300.0, 92837.0, 903847.0, 191145.0, 35499.0, 43694.0, 76464.0, 19122.0, 2738.0, 1288884.0, 182965.0, 101045.0, 158398.0, 133825.0, 322243.0, 264900.0, 10948.0, 27336.0, 27340.0, 207566.0, 19152.0, 142033.0, 35544.0, 43739.0, 756444.0, 92893.0, 27360.0, 101088.0, 264931.0, 166627.0, 142053.0, 51942.0, 10984.0, 101099.0, 207597.0, 51949.0, 723702.0, 92920.0, 19192.0, 35580.0, 27391.0, 12307199.0, 76546.0, 11010.0, 84741.0, -38138.0, 84744.0, 51979.0, 19212.0, 117519.0, 305937.0, 158482.0, 150294.0, 43800.0, 43804.0, 19230.0, 92962.0, 469795.0, 486178.0, 305960.0, 142128.0, 240432.0, 125747.0, 1043253.0, 101174.0, 1067830.0, 355128.0, 19257.0, 27448.0, 76604.0, 420668.0, 969535.0, 43839.0, 19263.0, 11076.0, 93001.0, 166730.0, 68427.0, 461643.0, 76621.0, 256845.0, 256847.0, 805712.0, 35658.0, 306003.0, 158550.0, 314199.0, 109401.0, 101211.0, 27487.0, 76640.0, 84834.0, 35685.0, 789349.0, 27496.0, 191337.0, 11112.0, 445290.0, 445292.0, 273260.0, 62453.0, 199535.0, 158576.0, 52082.0, 576371.0, 52086.0, 84855.0, 224120.0, 35705.0, 134008.0, 248699.0, 60284.0, 1051522.0, 11140.0, 43908.0, 35718.0, 60294.0, 43912.0, 117642.0, 199562.0, 109452.0, 11150.0, 215951.0, 215952.0, 35727.0, 43922.0, 199572.0, 93077.0, 60310.0, 306071.0, 11160.0, 35737.0, 150427.0, 19356.0, 986014.0, 1297312.0, 27552.0, 175010.0, 207780.0, 60324.0, 551846.0, 68520.0, 68524.0, 76718.0, 27568.0, 142258.0, 125874.0, 68532.0, 117683.0, 256952.0, 76730.0, 11195.0, 175036.0, 52158.0, 27584.0, 175040.0, 469954.0, 379844.0, 248779.0, 240588.0, 60365.0, 43982.0, 117711.0, 35792.0, 43984.0, 27602.0, 11220.0, 27606.0, 68568.0, 273371.0, 35809.0, 175075.0, 117732.0, 84965.0, 35815.0, 52201.0, 60393.0, 52202.0, 27628.0, 289773.0, 216049.0, 68598.0, 150518.0, 52214.0, 44025.0, 789498.0, 306174.0, 19458.0, 240644.0, 44037.0, 27652.0, 84999.0, 265224.0, 76805.0, 125963.0, 101389.0, 240653.0, 52241.0, 347155.0, 93204.0, 44052.0, 27672.0, 44056.0, 19482.0, 281630.0, 240673.0, 76835.0, 134183.0, 27693.0, 642095.0, 224304.0, 191539.0, 76856.0, 68666.0, 126011.0, 60477.0, 101438.0, 35902.0, 52288.0, 44097.0, 68672.0, 27709.0, 19526.0, 445511.0, 35912.0, 158793.0, 52298.0, 224329.0, 109640.0, 101450.0, 35918.0, 527431.0, 44112.0, 404564.0, 142420.0, 76886.0, 68693.0, 101464.0, 11351.0, 27737.0, 44123.0, 167004.0, 101468.0, 199772.0, 183392.0, 19557.0, 60518.0, 232554.0, 126061.0, 158830.0, 19567.0, -2624.0, 150642.0, 52340.0, 1453178.0, 576635.0, 117884.0, 27772.0, 511104.0, 19584.0, 109698.0, 52358.0, 158855.0, 109703.0, 240778.0, 44172.0, 35983.0, 35984.0, 19601.0, 35986.0, 11411.0, 27795.0, 527510.0, 44183.0, 232600.0, 175255.0, 11419.0, 322723.0, 98337.0, 27817.0, 199851.0, 167084.0, 314542.0, 101555.0, 396474.0, 1764541.0, 36030.0, 19647.0, 363712.0, 199874.0, 19650.0, 232645.0, 93386.0, 117966.0, 68814.0, 421070.0, 183502.0, 27858.0, 109779.0, 306391.0, 85208.0, 19676.0, 167132.0, 27868.0, 60636.0, 330978.0, 60644.0, 52453.0, 396518.0, 117991.0, 273640.0, 93417.0, 101610.0, 44267.0, 117993.0, 19687.0, 27886.0, 126192.0, 19696.0, 322809.0, 44282.0, 11513.0, 273660.0, 68861.0, 167165.0, 27904.0, 273666.0, 19714.0, 44292.0, 85253.0, 142597.0, 44294.0, 19720.0, 109831.0, 60680.0, 347407.0, 68880.0, 191760.0, 273686.0, 68888.0, 109849.0, 19737.0, 339225.0, 134430.0, 126239.0, 167200.0, 93470.0, 77092.0, 593189.0, 421159.0, 19752.0, 27949.0, 142637.0, 60719.0, 560430.0, 11570.0, 36147.0, 60724.0, 691509.0, 27954.0, 19762.0, 36152.0, 52538.0, 380221.0, 134462.0, 19775.0, 1379646.0, 609602.0, 2657603.0, 372035.0, 822597.0, 68935.0, 19784.0, 929097.0, 593226.0, 159048.0, 93520.0, 585042.0, 372051.0, 68949.0, 52570.0, 175452.0, 134493.0, 27996.0, 3423.0, 200035.0, 77159.0, 3432.0, 19817.0, 68973.0, 52590.0, 19825.0, 109939.0, 28023.0, 134520.0, 68983.0, 36216.0, 126330.0, 257404.0, 44410.0, 290174.0, 544128.0, 175489.0, 93575.0, 208264.0, 19853.0, 257423.0, 101776.0, 142742.0, 19864.0, 101787.0, 77212.0, 118173.0, 44446.0, 454048.0, 93600.0, 85411.0, 93603.0, 44453.0, 77222.0, 52646.0, 855461.0, 257443.0, 519594.0, 93618.0, 52658.0, 306612.0, 11703.0, 11706.0, 69052.0, 36288.0, 134597.0, 60870.0, 560583.0, 60878.0, 44495.0, 126415.0, 757205.0, 445913.0, 69082.0, 257501.0, 3552.0, 93665.0, 126434.0, 1125862.0, 19943.0, 44518.0, 388583.0, 306670.0, 28144.0, 60914.0, 1428979.0, 142836.0, 175602.0, 724470.0, 560630.0, 93684.0, 159222.0, 28154.0, 265717.0, 200188.0, 552450.0, 69124.0, 257542.0, 257545.0, 19978.0, 19982.0, 11792.0, 60948.0, 159253.0, 167446.0, 167447.0, 85528.0, 323099.0, 126491.0, 69155.0, 372260.0, 20005.0, 216614.0, 691752.0, 52778.0, 323115.0, 192044.0, 11822.0, 28207.0, 314931.0, 77363.0, 118325.0, 118323.0, 60981.0, 20019.0, 372281.0, 85561.0, 273980.0, 20029.0, 142910.0, 85566.0, 11840.0, 20033.0, 282177.0, 183875.0, 36422.0, 36425.0, 142926.0, 93775.0, 69200.0, 69203.0, 20052.0, 355926.0, 274006.0, 85597.0, 69213.0, 77407.0, 323168.0, 519784.0, 323177.0, 257648.0, 52852.0, 110200.0, 77434.0, 3708.0, 61055.0, 85632.0, 77441.0, 20097.0, -4476.0, 69255.0, 167559.0, 134791.0, 11915.0, 110221.0, 28303.0, 118417.0, 142996.0, 36502.0, 52887.0, 372376.0, 52890.0, 274078.0, 44703.0, 69282.0, 44708.0, 11940.0, 601766.0, 167592.0, 192172.0, 200365.0, 11952.0, 28338.0, 77492.0, 69302.0, 20151.0, 118456.0, 77497.0, 667322.0, 249529.0, 241336.0, 151230.0, 69313.0, 11970.0, 20166.0, 44744.0, 1347272.0, 896714.0, 61131.0, 77516.0, 36552.0, 159439.0, 102097.0, 93907.0, 224981.0, 52949.0, 69336.0, 77529.0, 151258.0, 290524.0, 12000.0, 134881.0, 110307.0, 208612.0, 102117.0, 36582.0, 437988.0, 44778.0, 3820.0, 405232.0, 77554.0, 77556.0, 12024.0, 85755.0, 52989.0, 69374.0, 438015.0, 151298.0, 315141.0, 52998.0, 52999.0, 134920.0, 151305.0, 134922.0, 126731.0, 61196.0, 12046.0, 159504.0, 126737.0, 184082.0, 438036.0, 102165.0, 85782.0, 44825.0, 347933.0, 143134.0, 85793.0, 462629.0, 36648.0, 4443946.0, 339755.0, 53042.0, 36660.0, 143160.0, 5754682.0, 216890.0, 167741.0, 77629.0, 216898.0, 282435.0, 44869.0, 241480.0, 175945.0, 225096.0, 315213.0, 61264.0, 331601.0, 44882.0, 77649.0, 36692.0, 85845.0, 225109.0, 28507.0, 36701.0, 118623.0, 135009.0, 53090.0, 85857.0, 167780.0, 257892.0, 77670.0, 77671.0, 44904.0, 200553.0, 77673.0, 85864.0, 20327.0, 511853.0, 20334.0, 12143.0, 110450.0, 77684.0, 20341.0, 44919.0, 20344.0, 175995.0, 85885.0, 36735.0, 28544.0, 20354.0, 184196.0, 216966.0, 85894.0, 20362.0, 12170.0, 36747.0, 143247.0, 53136.0, 143249.0, 69528.0, 12185.0, 307098.0, 12186.0, 77722.0, 20380.0, 61344.0, 20384.0, 77731.0, 12198.0, 28584.0, 578816.0, 36779.0, 20400.0, 552884.0, 323508.0, 61366.0, 126900.0, 20408.0, 12216.0, 225210.0, 20410.0, 4022.0, 77752.0, 53182.0, 28602.0, 651200.0, 12220.0, 20422.0, 102345.0, 20425.0, 69579.0, 53197.0, 257999.0, 53203.0, 45012.0, 12246.0, 307161.0, 28636.0, 159709.0, 839645.0, 94174.0, 53216.0, 20448.0, 995305.0, 85994.0, 20462.0, 86000.0, 45041.0, 36851.0, 102388.0, 323574.0, 12288.0, 356353.0, 45056.0, 94211.0, 20484.0, 20480.0, 69639.0, 69640.0, 1339400.0, 28683.0, 36876.0, 86032.0, 12304.0, 86035.0, 28691.0, 4116.0, 159767.0, 20510.0, -4064.0, 217121.0, 20514.0, 454691.0, 127019.0, 61487.0, 45106.0, 36916.0, 77878.0, 12342.0, 127033.0, 331835.0, 372796.0, 118844.0, 28734.0, 151615.0, 57814.0, 86081.0, 168003.0, 200773.0, 127049.0, 282697.0, 45131.0, 86092.0, 4170.0, 307280.0, 86097.0, 20562.0, 200790.0, 20568.0, 258136.0, 36953.0, 86108.0, 290909.0, 20580.0, 110694.0, 36966.0, 110696.0, 28776.0, 20586.0, 274541.0, 266350.0, 127086.0, 53359.0, 110705.0, 36978.0, 110702.0, 4212.0, 340085.0, 135280.0, 28791.0, 69752.0, 36985.0, 831607.0, 954492.0, 4221.0, 905343.0, 94336.0, 209028.0, 266373.0, 28807.0, 110728.0, 37000.0, 69768.0, 37002.0, 77964.0, 12428.0, 1486990.0, 209038.0, 372880.0, 700558.0, 143507.0, 12435.0, 53399.0, 12447.0, 61600.0, 37026.0, 364714.0, 86186.0, 28848.0, 20657.0, 20656.0, 53427.0, 94388.0, 12466.0, 45236.0, 28855.0, 159927.0, 495801.0, 131110.0, 12483.0, 422084.0, 192709.0, 53444.0, 37062.0, 397510.0, 110794.0, 20682.0, 626894.0, 37070.0, 86224.0, 37072.0, 45266.0, 45270.0, 45271.0, 78040.0, 28891.0, 61660.0, 119004.0, 78047.0, 520416.0, 848097.0, 348386.0, 504037.0, 536807.0, 86248.0, 463081.0, 1183977.0, 12526.0, 28914.0, 332019.0, 168178.0, 225525.0, 422131.0, 45303.0, 340213.0, 184573.0, 110847.0, 151807.0, 684289.0, 20740.0, 37124.0, 53515.0, 45323.0, 151822.0, 2109710.0, 78096.0, 504079.0, 307474.0, 258322.0, 110868.0, 45334.0, 127255.0, 28954.0, 69915.0, 20764.0, 176417.0, 4386.0, 168226.0, 45349.0, 102696.0, 4392.0, 815404.0, 241966.0, 20787.0, 61750.0, 12599.0, 53560.0, 20798.0, 192831.0, 151874.0, 201032.0, 192840.0, 61770.0, 94538.0, 78156.0, 29006.0, 29008.0, 45394.0, 86357.0, 4438.0, 86360.0, 20827.0, 110944.0, 430434.0, 61795.0, 78180.0, 12644.0, 479590.0, 45412.0, 1552745.0, 12651.0, 53611.0, 94571.0, 37230.0, 20847.0, 12656.0, 315762.0, 119155.0, 160118.0, 381303.0, 1593720.0, 37240.0, 20859.0, 135550.0, 127367.0, 29064.0, 53641.0, 291208.0, 45451.0, 61836.0, 110989.0, 815503.0, 45460.0, 86422.0, 127383.0, 553366.0, 217497.0, 119191.0, 53659.0, 70043.0, 430493.0, 61855.0, 111008.0, 29088.0, 61859.0, 217510.0, 1331624.0, 348584.0, 1864111.0, 782768.0, 176559.0, 405939.0, 168376.0, 37304.0, 250304.0, 12736.0, 12744.0, 12748.0, 209357.0, 446928.0, 61916.0, 20956.0, 78302.0, 29149.0, 37344.0, 291298.0, 127459.0, 741859.0, 176613.0, 12774.0, 225766.0, 1266152.0, 225769.0, 70122.0, 3224042.0, 111079.0, 111085.0, 143854.0, 53737.0, 12778.0, 45546.0, 168425.0, 127475.0, 184820.0, 70133.0, 1012214.0, 61942.0, 94706.0, 184826.0, 168444.0, 602621.0, 1307135.0, 29186.0, 127492.0, 111110.0, 61960.0, 152076.0, 258574.0, 29201.0, 29204.0, 21015.0, 70168.0, 21018.0, 29210.0, 12830.0, 94751.0, 111136.0, 21026.0, 12837.0, 373287.0, 168488.0, 78378.0, 12842.0, 45614.0, 135727.0, 29233.0, 21042.0, 176695.0, 111164.0, 291394.0, 86595.0, 12868.0, 234056.0, 193097.0, 70219.0, 21072.0, -11694.0, 201305.0, 111196.0, 37469.0, 250461.0, 53855.0, 528991.0, 111199.0, 53858.0, 717407.0, 12904.0, 78443.0, 201327.0, 53872.0, -3470.0, 70260.0, 37494.0, 373367.0, 4728.0, 70264.0, 29306.0, 184954.0, 29308.0, 37501.0, 12923.0, 643712.0, 193153.0, 152194.0, 78464.0, 21123.0, 12933.0, 70278.0, 45703.0, 111240.0, 119435.0, 381948.0, 37517.0, 78478.0, 266897.0, 299665.0, 78482.0, 70292.0, 53908.0, 45716.0, 21144.0, 62108.0, 70304.0, 45730.0, 45732.0, 12965.0, 12968.0, 29355.0, 86703.0, 234160.0, 127664.0, 29359.0, 45748.0, 78518.0, 12983.0, 53946.0, 29371.0, 103103.0, 78531.0, 21188.0, 201413.0, 94918.0, 127685.0, 103112.0, 45773.0, 692945.0, 185041.0, 144081.0, 479956.0, 160470.0, 3035863.0, 94935.0, 127709.0, 103134.0, 53983.0, 13024.0, 37601.0, 463584.0, 21215.0, 586469.0, 553702.0, 13030.0, 37608.0, 78571.0, 234223.0, 62196.0, 70388.0, 29432.0, -3336.0, 4859.0, 21246.0, 13054.0, 504576.0, 561920.0, 840450.0, 488195.0, 29440.0, 70407.0, 21256.0, 7394059.0, 29451.0, 201487.0, 799507.0, 586519.0, 29465.0, 86809.0, 86813.0, 62239.0, 21284.0, 45861.0, 340774.0, 37675.0, 70444.0, 160559.0, 242480.0, 29490.0, 348978.0, 29493.0, 242485.0, 127802.0, -3268.0, 176957.0, 45886.0, 422719.0, 45888.0, 201536.0, 160578.0, 95041.0, 160585.0, 54095.0, 62289.0, 316242.0, 955219.0, 283473.0, 398166.0, 185175.0, 21336.0, 45910.0, 299868.0, 349024.0, 37730.0, 381795.0, 283495.0, 29545.0, 373610.0, 21355.0, 258923.0, 111470.0, 13166.0, 13168.0, 136049.0, 45946.0, 136059.0, 37754.0, 86908.0, 54144.0, 1520512.0, 21381.0, 45958.0, 242570.0, 21387.0, 86924.0, 45964.0, 62347.0, 127888.0, 529301.0, 2192280.0, 29593.0, 21402.0, 70556.0, 21408.0, 234402.0, 193443.0, 111524.0, 5911467.0, 209838.0, 209842.0, 5044.0, 54197.0, 54198.0, 496567.0, 54200.0, 21431.0, 627642.0, 46012.0, 1455036.0, 226239.0, 46017.0, 193474.0, 62408.0, 357322.0, 234447.0, 275408.0, 29649.0, 46031.0, 291798.0, 78809.0, 21465.0, 37853.0, 349151.0, 37857.0, 29666.0, 54245.0, 111590.0, 758759.0, 78824.0, 177128.0, 447464.0, 152555.0, 46056.0, 103398.0, 13290.0, 95215.0, 37871.0, 21484.0, 119797.0, 62454.0, 46069.0, 29688.0, 144377.0, 13306.0, 242682.0, 611321.0, 29692.0, 340990.0, 177151.0, 62464.0, 21501.0, 2307074.0, 21507.0, 37892.0, 390149.0, -3069.0, 193546.0, 242700.0, 54287.0, 5136.0, 21520.0, 62484.0, 119829.0, 168982.0, 119828.0, 29723.0, 259102.0, 13343.0, 414756.0, 95269.0, 201764.0, 37927.0, 111655.0, 5160.0, 119844.0, 9335851.0, 1381412.0, 676906.0, 275497.0, 21551.0, 87088.0, 21555.0, 37940.0, 29749.0, 37943.0, 70712.0, 398393.0, 29753.0, 119867.0, 21562.0, 152639.0, 87105.0, 62530.0, 21571.0, 13378.0, 5190.0, 128072.0, 29769.0, 324683.0, 406604.0, 341069.0, 660555.0, 46159.0, 21583.0, 78931.0, 111700.0, 5205.0, 70742.0, 37972.0, 660568.0, 300117.0, 95322.0, 46170.0, 406613.0, 185437.0, 21598.0, 37982.0, 431200.0, 21600.0, 87133.0, 111717.0, 111718.0, 21605.0, 308328.0, 13417.0, 136305.0, 87156.0, 529526.0, 46200.0, 95357.0, 21630.0, 29822.0, 29825.0, 46210.0, 70789.0, 29830.0, 46214.0, 78984.0, 95370.0, 21642.0, 193689.0, 193690.0, 38045.0, 7533725.0, 21663.0, 382113.0, 251041.0, 38051.0, 136356.0, 38053.0, 38054.0, 13474.0, 644264.0, 46249.0, 341161.0, 95396.0, 406700.0, 1602732.0, 38062.0, 54448.0, 21688.0, 87225.0, 13498.0, 152761.0, 529598.0, 136385.0, 29891.0, 10654918.0, 95431.0, 111816.0, 46280.0, 79053.0, 62672.0, 38098.0, 87251.0, 333013.0, 46294.0, 29911.0, 333016.0, 87257.0, 390362.0, 54495.0, 242911.0, 79087.0, 464114.0, 333042.0, 29939.0, 103668.0, 136439.0, 791800.0, 29944.0, 333049.0, 38140.0, 29949.0, 21760.0, 791808.0, 13569.0, 87299.0, 595203.0, 5376.0, 169222.0, 128257.0, 38148.0, 455940.0, 193802.0, 46346.0, 54538.0, 103693.0, 193809.0, 46356.0, 13588.0, 95512.0, 136474.0, 242971.0, 79132.0, 79134.0, 357665.0, 251172.0, 29991.0, 152872.0, 234793.0, 111914.0, 38187.0, 46376.0, 308526.0, 161072.0, 38200.0, 13624.0, 54586.0, 144699.0, 161084.0, 12637501.0, 226622.0, 202046.0, 13631.0, 128322.0, 324930.0, 341316.0, 46405.0, 30020.0, 54596.0, 259403.0, 95565.0, 13646.0, 4396368.0, 21842.0, 38231.0, 136536.0, 30040.0, 21850.0, 185690.0, 5468.0, 226647.0, 21854.0, 79199.0, 161123.0, 87396.0, 144739.0, 62822.0, 267623.0, 120164.0, 38249.0, 136553.0, 529764.0, 54634.0, 120173.0, 87399.0, 267625.0, 152946.0, 111989.0, 79226.0, 161146.0, 103808.0, 46465.0, 54658.0, 46468.0, 95624.0, 13704.0, 62856.0, 13708.0, 30092.0, 152975.0, 21906.0, 13716.0, 54681.0, 21914.0, 46490.0, 275868.0, 21924.0, 62884.0, 267687.0, 136620.0, 38316.0, 341424.0, 30130.0, 21939.0, 38324.0, 292277.0, 1734068.0, 62905.0, 46523.0, 38331.0, 62909.0, 30142.0, 677311.0, 251328.0, 234945.0, 325058.0, 87491.0, 95684.0, 30140.0, 38342.0, 357826.0, 382408.0, 21961.0, 193992.0, 292298.0, 112077.0, 71118.0, 62926.0, 38352.0, 153040.0, 21970.0, 30164.0, 38358.0, 169431.0, 38360.0, 251353.0, 136670.0, 316895.0, 284129.0, 71144.0, 38376.0, 13802.0, 161258.0, 21996.0, 46572.0, 177644.0, 54767.0, 136687.0, 103922.0, 300532.0, 95733.0, 54774.0, 54787.0, 13828.0, 38409.0, 46602.0, 30222.0, 54798.0, 267792.0, 22032.0, 579088.0, 13846.0, 87576.0, 13848.0, 136732.0, 38428.0, 95772.0, 54812.0, 13856.0, 71200.0, 63012.0, 79400.0, 87593.0, 308777.0, 161323.0, 46634.0, 38446.0, 13871.0, 144944.0, 562737.0, 54832.0, 128566.0, 30262.0, 325180.0, 235070.0, 161344.0, 177729.0, 79425.0, 46656.0, 5701.0, 22086.0, 235080.0, 349768.0, 22090.0, 63051.0, -10680.0, 104010.0, 63054.0, 13908.0, 104020.0, 30294.0, 177752.0, 7820889.0, 923231.0, 71264.0, 71265.0, 79455.0, 3651176.0, 71273.0, 972397.0, -2451.0, 218736.0, 22128.0, 46706.0, 79473.0, 54904.0, 95866.0, 145021.0, 210559.0, 30336.0, 71297.0, 22148.0, 30342.0, 153223.0, 54920.0, 38536.0, 13962.0, 145039.0, 13968.0, 63119.0, 13967.0, 54933.0, 816798.0, 38559.0, 38560.0, 472737.0, 38565.0, 38566.0, 5798.0, 112297.0, 30381.0, 161456.0, 95922.0, 30389.0, 710326.0, 145080.0, 718522.0, 95933.0, 14015.0, 202432.0, 46786.0, 177858.0, 341703.0, 120521.0, 38604.0, 95948.0, 153292.0, -2353.0, 14037.0, 30426.0, 30431.0, 14052.0, 79589.0, 14054.0, 46824.0, 71404.0, 46831.0, 22258.0, 46836.0, 259829.0, 472820.0, 325367.0, 358137.0, 653050.0, 669448.0, 759560.0, 79626.0, 55050.0, 243469.0, 202509.0, 153358.0, 464656.0, 259854.0, 202517.0, 276245.0, 38679.0, 890648.0, 96024.0, 202519.0, 14109.0, 2807583.0, 30496.0, 112418.0, 87845.0, 30502.0, 14120.0, 300842.0, 22317.0, 137007.0, 38705.0, 46897.0, 79670.0, 30522.0, 22333.0, 63296.0, 194369.0, 14148.0, 87878.0, 440139.0, 145227.0, 63310.0, 30543.0, 22350.0, 46932.0, 46934.0, 22364.0, 38752.0, 71521.0, 14178.0, 14180.0, 38759.0, 538472.0, 87913.0, 38760.0, 169837.0, 464752.0, 14194.0, 235382.0, 505719.0, 30584.0, 22390.0, 202618.0, 6010.0, 55165.0, 382850.0, 22403.0, 276356.0, 30596.0, 161666.0, 30599.0, 63374.0, 71566.0, 259986.0, 792467.0, 96146.0, 38806.0, 333719.0, 169880.0, 128920.0, 87962.0, 87961.0, 6044.0, 366492.0, 71583.0, 300960.0, 63392.0, 128931.0, 137124.0, 3594149.0, 276390.0, 47020.0, 30638.0, 120751.0, 47024.0, 79793.0, 137136.0, 464819.0, 137140.0, 79790.0, 538550.0, 210873.0, 620479.0, 473027.0, 120775.0, 30664.0, 96205.0, 38863.0, 47060.0, 161750.0, 38876.0, -2082.0, 1611744.0, 104417.0, 6115.0, 22500.0, 30694.0, 14310.0, 38888.0, 30704.0, 219123.0, 14328.0, 71675.0, 63483.0, 55293.0, 14333.0, 30719.0, 1406976.0, 514048.0, 5134340.0, 645129.0, 251913.0, 55305.0, 55309.0, 497679.0, 22543.0, 317457.0, 79890.0, 374803.0, 161808.0, 14358.0, 55324.0, 325660.0, 47133.0, 1021983.0, 145437.0, 1095714.0, 14376.0, 47145.0, 235562.0, 440360.0, 63532.0, 694317.0, 415792.0, 22579.0, 14389.0, 219191.0, 63546.0, 694331.0, 170044.0, 243774.0, 923710.0, 38976.0, 1349698.0, 71747.0, 104517.0, 22600.0, 47178.0, 88140.0, 71763.0, 112726.0, 268376.0, 325723.0, 39003.0, 129116.0, 39004.0, 63582.0, 79968.0, 30820.0, 39014.0, 235623.0, 112750.0, 14447.0, 112751.0, 112756.0, 47220.0, 104566.0, 2447479.0, 168952.0, 415866.0, 30846.0, 170113.0, 39044.0, 612488.0, 55433.0, 39048.0, 3332232.0, 22664.0, 293010.0, 88210.0, 243860.0, 39061.0, 383127.0, 47256.0, 14489.0, 6302.0, 563358.0, 104608.0, 137379.0, 14500.0, 170148.0, 55462.0, 55464.0, 178345.0, 227500.0, 342192.0, 47281.0, 252082.0, 39090.0, 63664.0, 22712.0, 301242.0, 47291.0, 301243.0, 96442.0, 63678.0, 178362.0, 202938.0, 55492.0, 22725.0, 63686.1, 301260.0, 14544.0, 1341649.0, 121040.0, 620755.0, 47314.0, 22741.0, 1226964.0, 407767.0, 63704.0, 80087.0, 170200.0, 6360.0, 547037.0, 22749.0, 776413.0, 194785.0, 145640.0, 186600.0, 235755.0, 407797.0, 6396.0, 55550.0, 71935.0, 47361.0, 39173.0, 39174.0, 88330.0, 47372.0, 719118.0, 63759.0, 1448208.0, 112915.0, 22803.0, 1030421.0, 30997.0, 694553.0, 1014043.0, 55581.0, 153889.0, 178467.0, 88356.0, 137507.0, 121126.0, 309544.0, 39209.0, 153899.0, 211244.0, 178480.0, 186675.0, 14644.0, 440629.0, 22838.0, 235829.0, 55611.0, 244031.0, 72000.0, 88386.0, 112967.0, 293193.0, 4987212.0, 55630.0, 14670.0, 612688.0, 88401.0, 153936.0, 39251.0, 702806.0, 39255.0, 47450.0, 366939.0, 112988.0, 6492.0, 383325.0, 63839.0, 47454.0, 137562.0, 6498.0, 1145182.0, 129380.0, 88420.0, 39270.0, 88424.0, 268649.0, 481643.0, 80236.0, 63854.0, 80239.0, 113008.0, 203120.0, 113009.0, 31091.0, 72051.0, 842101.0, 178550.0, 63861.0, 31093.0, 301433.0, 88440.0, 31095.0, -1668.0, 22909.0, 55678.0, 96639.0, 342397.0, 14724.0, 39303.0, 47496.0, 186771.0, 203156.0, 137620.0, 14742.0, 39319.0, 883096.0, -1636.0, 14750.0, 14751.0, 252319.0, 39328.0, 121247.0, 80295.0, 473517.0, 14765.0, 80303.0, 31152.0, 121262.0, 154037.0, 14774.0, 55733.0, 80312.0, 14778.0, 55740.0, 72124.0, 14783.0, 547265.0, 47553.0, 22980.0, 154054.0, 113094.0, 252362.0, 276938.0, 14797.0, 834000.0, 14801.0, 227796.0, 178646.0, 31193.0, 711129.0, 80348.0, 154078.0, 63967.0, 170464.0, 55780.0, 162277.0, 145894.0, 195048.0, 14824.0, 1407465.0, 268779.0, 481769.0, 31213.0, 31214.0, 31215.0, 104944.0, 195057.0, 6640.0, 408051.0, 1317359.0, 39419.0, 55805.0, 186878.0, 23040.0, 104962.0, 55811.0, 72195.0, 276997.0, 211462.0, 23043.0, 1554952.0, 31239.0, 227850.0, 145928.0, 23052.0, 244230.0, 14862.0, 23059.0, 145941.0, 129563.0, 47644.0, 154140.0, 14875.0, 39456.0, 113185.0, 104993.0, 80419.0, 23076.0, 14880.0, 227879.0, 170536.0, 39466.0, 14892.0, 39471.0, 39472.0, 14899.0, 293427.0, 47669.0, 47670.0, 162358.0, 39478.0, 55861.0, 47675.0, 23100.0, 457277.0, 186949.0, 80460.0, 178765.0, 752205.0, 39507.0, 47700.0, 31318.0, 96854.0, 6745.0, 31322.0, 693336.0, 670301.0, 195167.0, 39520.0, 318049.0, 440930.0, 39523.0, 47719.0, 31338.0, 80491.0, 80492.0, 23149.0, 113263.0, 350832.0, 105074.0, 64118.0, 326262.0, 47738.0, 187007.0, 137856.0, 162433.0, 113282.0, 170624.0, 39552.0, 137861.0, 14983.0, 72328.0, 506508.0, 195212.0, 6800.0, 277140.0, 252565.0, 31384.0, 244378.0, 72347.0, 39579.0, 195229.0, 187038.0, 80538.0, 39584.0, 211617.0, 326306.0, 113316.0, 244389.0, 47783.0, 80554.0, 47787.0, 39598.0, 211636.0, 64182.0, 31421.0, 170687.0, 72383.0, 203457.0, 252607.0, 15043.0, 47807.0, 64204.0, 56016.0, 80593.0, 47824.0, 334548.0, 113369.0, 15066.0, 72413.0, 31453.0, 96992.0, 23267.0, 72422.0, 80616.0, 97001.0, 6892.0, 31470.0, 293614.0, 31473.0, 121590.0, 80631.0, 318210.0, 334596.0, 695046.0, 47878.0, 129799.0, 23305.0, 293643.0, 285459.0, 23316.0, 72472.0, 47900.0, 23326.0, 72480.0, 47906.0, 105251.0, 465699.0, 39716.0, 23336.0, 1497897.0, 269098.0, 47916.0, 924462.0, 97077.0, 47926.0, 211767.0, 105270.0, 842554.0, -50372.0, 47933.0, 47935.0, 64319.0, 23362.0, 39746.0, 15182.0, -1199.0, 23380.0, 72533.0, 80726.0, 105300.0, 203608.0, 121689.0, 228186.0, 97120.0, 39776.0, 359266.0, 15204.0, 97128.0, 236395.0, 105324.0, 23409.0, 23410.0, 64371.0, 31604.0, 15220.0, 23415.0, 441209.0, 113532.0, 105342.0, 113535.0, 97152.0, 56193.0, 23428.0, 48005.0, 23431.0, 72584.0, 146312.0, 129929.0, 203656.0, 97166.0, 39827.0, 88980.0, 48021.0, 490389.0, 23444.0, 23450.0, 146333.0, 121764.0, 1383334.0, 695207.0, 179117.0, 72623.0, 72624.0, 236466.0, 80819.0, 424884.0, 56244.0, 23474.0, 310204.0, 416700.0, 56256.0, 48065.0, 121794.0, 195522.0, 48067.0, 555971.0, 170950.0, 15299.0, 121802.0, 850894.0, 105424.0, 72658.0, 39890.0, 400340.0, 646102.0, 97239.0, 261080.0, 113622.0, 89049.0, 662491.0, 89052.0, 89053.0, 64478.0, 80862.0, 777185.0, 31718.0, 15336.0, 39919.0, 162800.0, 23537.0, 269298.0, 4832240.0, 97267.0, 1145846.0, 15351.0, 15354.0, 482302.0, 1113095.0, 408585.0, 15372.0, 138256.0, 80913.0, 48144.0, 146451.0, 39956.0, 703510.0, 56352.0, 130082.0, 121896.0, 7208.0, 244776.0, 162856.0, 31788.0, 425005.0, 72750.0, 23600.0, 72753.0, 662579.0, 564277.0, 48181.0, -968.0, 31803.0, 293948.0, 39997.0, 408638.0, 228414.0, 89151.0, 662591.0, 72769.0, 7235.0, 121921.0, 48200.0, 113740.0, 7248.0, 244819.0, 23637.0, 56409.0, 105563.0, 72796.0, 212061.0, 760924.0, 23647.0, 15456.0, 359523.0, 56421.0, 769126.0, 195689.0, 703594.0, 56428.0, 318572.0, 7278.0, 138350.0, 72815.0, 367728.0, 40044.0, 113776.0, 81014.0, 138360.0, 40057.0, 23673.0, 425084.0, 154749.0, 48252.0, 146562.0, 64644.0, 220293.0, 81029.0, 6102150.0, 40072.0, 982153.0, 490634.0, 40075.0, 244876.0, 97413.0, 48270.0, 105616.0, 15505.0, 441490.0, 187540.0, 572565.0, 359575.0, 392347.0, 89244.0, 2432157.0, 375967.0, 343200.0, 122017.0, 31906.0, 171170.0, 31905.0, 236710.0, 490663.0, 72872.0, 113833.0, 23720.0, 146605.0, 793774.0, 384183.0, 105656.0, 89272.0, 105655.0, 23739.0, 48318.0, -831.0, 15558.0, 23751.0, 23752.0, 31944.0, 105674.0, 40134.0, 23750.0, 15568.0, 23760.0, 23762.0, 253139.0, 548056.0, 138458.0, 56539.0, 244954.0, 56544.0, 310503.0, 105703.0, 244969.0, 236775.0, 302316.0, 1096941.0, 40174.0, 23791.0, 89330.0, 1318131.0, 64756.0, 40181.0, 15607.0, 204024.0, 48376.0, 48380.0, 23804.0, 48381.0, 15618.0, 179460.0, 81157.0, 56580.0, 48395.0, 515344.0, 113940.0, 64788.0, 236823.0, 64792.0, 498969.0, 72987.0, 146716.0, 15645.0, 48415.0, 376098.0, 15650.0, 40232.0, 64809.0, 48432.0, 23856.0, 785712.0, 179507.0, 48435.0, 523576.0, 769339.0, 64828.0, 384317.0, 113984.0, 941377.0, 40258.0, 3243332.0, 179530.0, 48459.0, 1031503.0, 621903.0, 32082.0, 32085.0, 81238.0, 892248.0, 56664.0, 105821.0, 130398.0, 73054.0, 425313.0, 154979.0, 64870.0, 89447.0, 32105.0, 163178.0, 146796.0, 56690.0, 7542.0, 179575.0, 48504.0, 15741.0, 15742.0, 23935.0, 15744.0, 56705.0, 114051.0, 400772.0, 441734.0, 40327.0, 277896.0, 15752.0, 89482.0, 40332.0, 155020.0, 15756.0, 605585.0, 884115.0, 138643.0, 64915.0, 302485.0, 73116.0, 97695.0, 97696.0, 597409.0, 777635.0, 23974.0, 253351.0, 97703.0, 3423657.0, 15784.0, 48552.0, 327088.0, 40371.0, 56756.0, 187830.0, 40374.0, 196024.0, 81337.0, 769466.0, -8769.0, 105920.0, 24002.0, 32195.0, 499138.0, 48581.0, 179656.0, 64970.0, 1605069.0, 105934.0, 48591.0, 24018.0, 81366.0, 171479.0, 24024.0, 40408.0, 40409.0, 89571.0, 24036.0, 24037.0, 163300.0, 450023.0, 48614.0, 196073.0, 40426.0, 138731.0, 65006.0, 196078.0, 56822.0, 523767.0, 40440.0, 81403.0, 97789.0, 65022.0, 32256.0, 89601.0, 171521.0, 56833.0, 40452.0, 24069.0, 32266.0, 146957.0, 138769.0, 286226.0, 351763.0, 48661.0, 89621.0, 409118.0, 24095.0, 5094946.0, 384550.0, 48678.0, 73258.0, 728619.0, 15917.0, 163374.0, 130608.0, 458288.0, 40498.0, 146993.0, 32308.0, 40499.0, 163383.0, 40506.0, 56894.0, 220734.0, 638527.0, 302655.0, 15938.0, 335427.0, 40516.0, 245317.0, 138822.0, 56899.0, 179777.0, 48715.0, 130636.0, 114256.0, 32337.0, 97873.0, 40530.0, 106069.0, 425558.0, 15960.0, 335450.0, 7771.0, 24156.0, 228957.0, 32352.0, 24160.0, 106086.0, 65128.0, 261737.0, 130667.0, 130668.0, 24175.0, -398.0, 89714.0, 368244.0, 106110.0, -382.0, 40579.0, 188035.0, 433797.0, 106117.0, 261766.0, 24198.0, 40584.0, 24197.0, 32404.0, 40596.0, 179860.0, 7833.0, 73369.0, 368287.0, 16032.0, 81568.0, 24230.0, 48809.0, 302762.0, 97967.0, 114352.0, 16049.0, 48818.0, 48816.0, 32436.0, 24240.0, 286388.0, 24248.0, 368314.0, 253627.0, 40635.0, 32445.0, 532160.0, 16065.0, 57024.0, 65219.0, 130755.0, 294597.0, -315.0, 57030.0, 425672.0, 196296.0, 2137798.0, 73419.0, 32461.0, 32462.0, 302797.0, 48845.0, 40660.0, 155349.0, 65239.0, 147161.0, 204506.0, -294.0, 16092.0, 73437.0, 24284.0, 32480.0, 122592.0, 270048.0, 24292.0, 237285.0, 245476.0, 392932.0, 89832.0, 48876.0, 253948.0, 106222.0, 24302.0, 24304.0, 48880.0, 1031921.0, 24307.0, 179956.0, 40694.0, 196342.0, 65272.0, 57083.0, 81662.0, 196350.0, 48896.0, 130818.0, 81667.0, 245508.0, 16132.0, 16136.0, 7944.0, 122634.0, 212747.0, 17710859.0, 57100.0, 155405.0, 1138448.0, 106260.0, 147223.0, 712472.0, 40728.0, 40730.0, 65303.0, 32542.0, 32543.0, 73505.0, 245538.0, 147233.0, 1294116.0, 270114.0, 7980.0, 278318.0, 81711.0, -209.0, 73521.0, 48944.0, 24371.0, 106292.0, 48945.0, 16182.0, 139063.0, 106296.0, 139064.0, -198.0, 548667.0, 40763.0, 180694.0, 204607.0, 2006852.0, 65348.0, 556871.0, 89927.0, 286537.0, 16202.0, 32587.0, 40776.0, 180043.0, 8013.0, 122707.0, 32596.0, 155477.0, 401237.0, 687959.0, 40792.0, 343898.0, 294747.0, 8028.0, 48988.0, 24418.0, 8037.0, 81766.0, 89960.0, 188267.0, 180078.0, 212852.0, 81782.0, 65398.0, 8056.0, 114558.0, 204673.0, 81794.0, 1761155.0, 57222.0, 8070.0, 507784.0, 16265.0, 155530.0, 65414.0, 57229.0, 155533.0, 114576.0, 32656.0, 229267.0, 8084.0, 57238.0, 16279.0, 8088.0, 32664.0, 311195.0, 98208.0, 147361.0, 417701.0, 24489.0, 16299.0, 16303.0, 49072.0, 57265.0, 442293.0, 24504.0, 311225.0, 49082.0, 65468.0, 49084.0, 8128.0, 221122.0, 229316.0, 524229.0, 401350.0, 32711.0, 57288.0, 57286.0, 270278.0, 32715.0, 1294278.0, 8141.0, 24518.0, -49.0, 98247.0, 98257.0, 557010.0, 90067.0, 360404.0, 40918.0, 16342.0, 24536.0, 196569.0, 303066.0, 434140.0, 8157.0, 65501.0, 40925.0, 8160.0, 32736.0, 32738.0, 155618.0, 57316.0, 81893.0, 16358.0, 16365.0, 32750.0, 204781.0, 565232.0, 106483.0, 827382.0, 532472.0, 106491.0, 376828.0}\n",
      "\n"
     ]
    }
   ],
   "source": [
    "for i in RFMScore.columns:\n",
    "    print('*'*50,i,'*'*50)\n",
    "    print()\n",
    "    print(set(RFMScore[i].tolist()))\n",
    "    print()"
   ]
  },
  {
   "cell_type": "markdown",
   "id": "d7ff9950",
   "metadata": {},
   "source": [
    "# Segmentation Concept :"
   ]
  },
  {
   "cell_type": "code",
   "execution_count": 26,
   "id": "438eafab",
   "metadata": {},
   "outputs": [
    {
     "data": {
      "text/plain": [
       "Index(['Recency', 'Frequency', 'Monetory'], dtype='object')"
      ]
     },
     "execution_count": 26,
     "metadata": {},
     "output_type": "execute_result"
    }
   ],
   "source": [
    "RFMScore.columns"
   ]
  },
  {
   "cell_type": "code",
   "execution_count": 27,
   "id": "f652722a",
   "metadata": {},
   "outputs": [
    {
     "data": {
      "text/plain": [
       "count    4349.000000\n",
       "mean       61.445160\n",
       "std        89.656941\n",
       "min         1.000000\n",
       "25%        10.000000\n",
       "50%        19.000000\n",
       "75%        73.000000\n",
       "max       617.000000\n",
       "Name: Recency, dtype: float64"
      ]
     },
     "execution_count": 27,
     "metadata": {},
     "output_type": "execute_result"
    }
   ],
   "source": [
    "RFMScore['Recency'].describe()"
   ]
  },
  {
   "cell_type": "code",
   "execution_count": 28,
   "id": "6082bde3",
   "metadata": {},
   "outputs": [
    {
     "data": {
      "text/plain": [
       "count    4349.000000\n",
       "mean       92.632559\n",
       "std       230.742279\n",
       "min         1.000000\n",
       "25%        17.000000\n",
       "50%        42.000000\n",
       "75%       101.000000\n",
       "max      7919.000000\n",
       "Name: Frequency, dtype: float64"
      ]
     },
     "execution_count": 28,
     "metadata": {},
     "output_type": "execute_result"
    }
   ],
   "source": [
    "RFMScore['Frequency'].describe()"
   ]
  },
  {
   "cell_type": "code",
   "execution_count": 29,
   "id": "2c2d7c85",
   "metadata": {},
   "outputs": [
    {
     "data": {
      "text/plain": [
       "count    4.349000e+03\n",
       "mean     2.294939e+05\n",
       "std      8.556685e+05\n",
       "min     -5.037200e+04\n",
       "25%      3.814000e+04\n",
       "50%      8.363500e+04\n",
       "75%      2.054440e+05\n",
       "max      3.547209e+07\n",
       "Name: Monetory, dtype: float64"
      ]
     },
     "execution_count": 29,
     "metadata": {},
     "output_type": "execute_result"
    }
   ],
   "source": [
    "RFMScore['Monetory'].describe()"
   ]
  },
  {
   "cell_type": "markdown",
   "id": "941f6d4d",
   "metadata": {},
   "source": [
    "# Calculate Quartile value for 'Recency', 'Frequency' and 'Monetary':"
   ]
  },
  {
   "cell_type": "code",
   "execution_count": 30,
   "id": "b5ff2603",
   "metadata": {},
   "outputs": [
    {
     "data": {
      "text/plain": [
       "{'Recency': {0.25: 10.0, 0.5: 19.0, 0.75: 73.0},\n",
       " 'Frequency': {0.25: 17.0, 0.5: 42.0, 0.75: 101.0},\n",
       " 'Monetory': {0.25: 38140.0, 0.5: 83635.0, 0.75: 205444.0}}"
      ]
     },
     "execution_count": 30,
     "metadata": {},
     "output_type": "execute_result"
    }
   ],
   "source": [
    "quantile = RFMScore.quantile(q=[0.25,0.50,0.75])\n",
    "quantile = quantile.to_dict()\n",
    "quantile"
   ]
  },
  {
   "cell_type": "markdown",
   "id": "82c13604",
   "metadata": {},
   "source": [
    "# Provide Rank to the customers basis on RFM Score:"
   ]
  },
  {
   "cell_type": "code",
   "execution_count": 31,
   "id": "f0cd2320",
   "metadata": {},
   "outputs": [],
   "source": [
    "def recency_score(x, p, d):\n",
    "    if x <= d[p][0.25]:\n",
    "        return 1\n",
    "    elif x <= d[p][0.50]:\n",
    "        return 2\n",
    "    elif x <= d[p][0.75]:\n",
    "        return 3\n",
    "    else:\n",
    "        return 4"
   ]
  },
  {
   "cell_type": "code",
   "execution_count": 32,
   "id": "f6a0e732",
   "metadata": {},
   "outputs": [
    {
     "data": {
      "text/html": [
       "<div>\n",
       "<style scoped>\n",
       "    .dataframe tbody tr th:only-of-type {\n",
       "        vertical-align: middle;\n",
       "    }\n",
       "\n",
       "    .dataframe tbody tr th {\n",
       "        vertical-align: top;\n",
       "    }\n",
       "\n",
       "    .dataframe thead th {\n",
       "        text-align: right;\n",
       "    }\n",
       "</style>\n",
       "<table border=\"1\" class=\"dataframe\">\n",
       "  <thead>\n",
       "    <tr style=\"text-align: right;\">\n",
       "      <th></th>\n",
       "      <th>Recency</th>\n",
       "      <th>Frequency</th>\n",
       "      <th>Monetory</th>\n",
       "      <th>R</th>\n",
       "    </tr>\n",
       "    <tr>\n",
       "      <th>CustomerID</th>\n",
       "      <th></th>\n",
       "      <th></th>\n",
       "      <th></th>\n",
       "      <th></th>\n",
       "    </tr>\n",
       "  </thead>\n",
       "  <tbody>\n",
       "    <tr>\n",
       "      <th>2.0</th>\n",
       "      <td>4</td>\n",
       "      <td>181</td>\n",
       "      <td>550416.0</td>\n",
       "      <td>1</td>\n",
       "    </tr>\n",
       "    <tr>\n",
       "      <th>3.0</th>\n",
       "      <td>77</td>\n",
       "      <td>27</td>\n",
       "      <td>257404.0</td>\n",
       "      <td>4</td>\n",
       "    </tr>\n",
       "    <tr>\n",
       "      <th>4.0</th>\n",
       "      <td>20</td>\n",
       "      <td>72</td>\n",
       "      <td>176613.0</td>\n",
       "      <td>3</td>\n",
       "    </tr>\n",
       "    <tr>\n",
       "      <th>5.0</th>\n",
       "      <td>18</td>\n",
       "      <td>16</td>\n",
       "      <td>41976.0</td>\n",
       "      <td>2</td>\n",
       "    </tr>\n",
       "    <tr>\n",
       "      <th>6.0</th>\n",
       "      <td>9</td>\n",
       "      <td>84</td>\n",
       "      <td>151822.0</td>\n",
       "      <td>1</td>\n",
       "    </tr>\n",
       "  </tbody>\n",
       "</table>\n",
       "</div>"
      ],
      "text/plain": [
       "            Recency  Frequency  Monetory  R\n",
       "CustomerID                                 \n",
       "2.0               4        181  550416.0  1\n",
       "3.0              77         27  257404.0  4\n",
       "4.0              20         72  176613.0  3\n",
       "5.0              18         16   41976.0  2\n",
       "6.0               9         84  151822.0  1"
      ]
     },
     "execution_count": 32,
     "metadata": {},
     "output_type": "execute_result"
    }
   ],
   "source": [
    "RFMScore['R'] = RFMScore['Recency'].apply(recency_score, args=('Recency', quantile))\n",
    "RFMScore.head()"
   ]
  },
  {
   "cell_type": "code",
   "execution_count": 33,
   "id": "3d3e55eb",
   "metadata": {},
   "outputs": [],
   "source": [
    "def FnM_score(x, p, d):\n",
    "    if x <= d[p][0.25]:\n",
    "        return 4\n",
    "    elif x <= d[p][0.50]:\n",
    "        return 3\n",
    "    elif x <= d[p][0.75]:\n",
    "        return 2\n",
    "    else:\n",
    "        return 1"
   ]
  },
  {
   "cell_type": "code",
   "execution_count": 34,
   "id": "dfc46361",
   "metadata": {},
   "outputs": [
    {
     "data": {
      "text/html": [
       "<div>\n",
       "<style scoped>\n",
       "    .dataframe tbody tr th:only-of-type {\n",
       "        vertical-align: middle;\n",
       "    }\n",
       "\n",
       "    .dataframe tbody tr th {\n",
       "        vertical-align: top;\n",
       "    }\n",
       "\n",
       "    .dataframe thead th {\n",
       "        text-align: right;\n",
       "    }\n",
       "</style>\n",
       "<table border=\"1\" class=\"dataframe\">\n",
       "  <thead>\n",
       "    <tr style=\"text-align: right;\">\n",
       "      <th></th>\n",
       "      <th>Recency</th>\n",
       "      <th>Frequency</th>\n",
       "      <th>Monetory</th>\n",
       "      <th>R</th>\n",
       "      <th>F</th>\n",
       "      <th>M</th>\n",
       "    </tr>\n",
       "    <tr>\n",
       "      <th>CustomerID</th>\n",
       "      <th></th>\n",
       "      <th></th>\n",
       "      <th></th>\n",
       "      <th></th>\n",
       "      <th></th>\n",
       "      <th></th>\n",
       "    </tr>\n",
       "  </thead>\n",
       "  <tbody>\n",
       "    <tr>\n",
       "      <th>2.0</th>\n",
       "      <td>4</td>\n",
       "      <td>181</td>\n",
       "      <td>550416.0</td>\n",
       "      <td>1</td>\n",
       "      <td>1</td>\n",
       "      <td>1</td>\n",
       "    </tr>\n",
       "    <tr>\n",
       "      <th>3.0</th>\n",
       "      <td>77</td>\n",
       "      <td>27</td>\n",
       "      <td>257404.0</td>\n",
       "      <td>4</td>\n",
       "      <td>3</td>\n",
       "      <td>1</td>\n",
       "    </tr>\n",
       "    <tr>\n",
       "      <th>4.0</th>\n",
       "      <td>20</td>\n",
       "      <td>72</td>\n",
       "      <td>176613.0</td>\n",
       "      <td>3</td>\n",
       "      <td>2</td>\n",
       "      <td>2</td>\n",
       "    </tr>\n",
       "    <tr>\n",
       "      <th>5.0</th>\n",
       "      <td>18</td>\n",
       "      <td>16</td>\n",
       "      <td>41976.0</td>\n",
       "      <td>2</td>\n",
       "      <td>4</td>\n",
       "      <td>3</td>\n",
       "    </tr>\n",
       "    <tr>\n",
       "      <th>6.0</th>\n",
       "      <td>9</td>\n",
       "      <td>84</td>\n",
       "      <td>151822.0</td>\n",
       "      <td>1</td>\n",
       "      <td>2</td>\n",
       "      <td>2</td>\n",
       "    </tr>\n",
       "  </tbody>\n",
       "</table>\n",
       "</div>"
      ],
      "text/plain": [
       "            Recency  Frequency  Monetory  R  F  M\n",
       "CustomerID                                       \n",
       "2.0               4        181  550416.0  1  1  1\n",
       "3.0              77         27  257404.0  4  3  1\n",
       "4.0              20         72  176613.0  3  2  2\n",
       "5.0              18         16   41976.0  2  4  3\n",
       "6.0               9         84  151822.0  1  2  2"
      ]
     },
     "execution_count": 34,
     "metadata": {},
     "output_type": "execute_result"
    }
   ],
   "source": [
    "RFMScore['F'] = RFMScore['Frequency'].apply(FnM_score, args=('Frequency', quantile))\n",
    "RFMScore['M'] = RFMScore['Monetory'].apply(FnM_score, args=('Monetory', quantile))\n",
    "RFMScore.head()"
   ]
  },
  {
   "cell_type": "code",
   "execution_count": 35,
   "id": "cf7b3a67",
   "metadata": {},
   "outputs": [
    {
     "data": {
      "text/html": [
       "<div>\n",
       "<style scoped>\n",
       "    .dataframe tbody tr th:only-of-type {\n",
       "        vertical-align: middle;\n",
       "    }\n",
       "\n",
       "    .dataframe tbody tr th {\n",
       "        vertical-align: top;\n",
       "    }\n",
       "\n",
       "    .dataframe thead th {\n",
       "        text-align: right;\n",
       "    }\n",
       "</style>\n",
       "<table border=\"1\" class=\"dataframe\">\n",
       "  <thead>\n",
       "    <tr style=\"text-align: right;\">\n",
       "      <th></th>\n",
       "      <th>CustomerID</th>\n",
       "      <th>Recency</th>\n",
       "      <th>Frequency</th>\n",
       "      <th>Monetory</th>\n",
       "      <th>R</th>\n",
       "      <th>F</th>\n",
       "      <th>M</th>\n",
       "    </tr>\n",
       "  </thead>\n",
       "  <tbody>\n",
       "    <tr>\n",
       "      <th>0</th>\n",
       "      <td>2.0</td>\n",
       "      <td>4</td>\n",
       "      <td>181</td>\n",
       "      <td>550416.0</td>\n",
       "      <td>1</td>\n",
       "      <td>1</td>\n",
       "      <td>1</td>\n",
       "    </tr>\n",
       "    <tr>\n",
       "      <th>1</th>\n",
       "      <td>3.0</td>\n",
       "      <td>77</td>\n",
       "      <td>27</td>\n",
       "      <td>257404.0</td>\n",
       "      <td>4</td>\n",
       "      <td>3</td>\n",
       "      <td>1</td>\n",
       "    </tr>\n",
       "    <tr>\n",
       "      <th>2</th>\n",
       "      <td>4.0</td>\n",
       "      <td>20</td>\n",
       "      <td>72</td>\n",
       "      <td>176613.0</td>\n",
       "      <td>3</td>\n",
       "      <td>2</td>\n",
       "      <td>2</td>\n",
       "    </tr>\n",
       "    <tr>\n",
       "      <th>3</th>\n",
       "      <td>5.0</td>\n",
       "      <td>18</td>\n",
       "      <td>16</td>\n",
       "      <td>41976.0</td>\n",
       "      <td>2</td>\n",
       "      <td>4</td>\n",
       "      <td>3</td>\n",
       "    </tr>\n",
       "    <tr>\n",
       "      <th>4</th>\n",
       "      <td>6.0</td>\n",
       "      <td>9</td>\n",
       "      <td>84</td>\n",
       "      <td>151822.0</td>\n",
       "      <td>1</td>\n",
       "      <td>2</td>\n",
       "      <td>2</td>\n",
       "    </tr>\n",
       "    <tr>\n",
       "      <th>...</th>\n",
       "      <td>...</td>\n",
       "      <td>...</td>\n",
       "      <td>...</td>\n",
       "      <td>...</td>\n",
       "      <td>...</td>\n",
       "      <td>...</td>\n",
       "      <td>...</td>\n",
       "    </tr>\n",
       "    <tr>\n",
       "      <th>4344</th>\n",
       "      <td>4368.0</td>\n",
       "      <td>17</td>\n",
       "      <td>10</td>\n",
       "      <td>20480.0</td>\n",
       "      <td>2</td>\n",
       "      <td>4</td>\n",
       "      <td>4</td>\n",
       "    </tr>\n",
       "    <tr>\n",
       "      <th>4345</th>\n",
       "      <td>4369.0</td>\n",
       "      <td>181</td>\n",
       "      <td>7</td>\n",
       "      <td>10774.0</td>\n",
       "      <td>4</td>\n",
       "      <td>4</td>\n",
       "      <td>4</td>\n",
       "    </tr>\n",
       "    <tr>\n",
       "      <th>4346</th>\n",
       "      <td>4370.0</td>\n",
       "      <td>12</td>\n",
       "      <td>13</td>\n",
       "      <td>24962.0</td>\n",
       "      <td>2</td>\n",
       "      <td>4</td>\n",
       "      <td>4</td>\n",
       "    </tr>\n",
       "    <tr>\n",
       "      <th>4347</th>\n",
       "      <td>4371.0</td>\n",
       "      <td>4</td>\n",
       "      <td>751</td>\n",
       "      <td>279720.0</td>\n",
       "      <td>1</td>\n",
       "      <td>1</td>\n",
       "      <td>1</td>\n",
       "    </tr>\n",
       "    <tr>\n",
       "      <th>4348</th>\n",
       "      <td>4372.0</td>\n",
       "      <td>51</td>\n",
       "      <td>68</td>\n",
       "      <td>256952.0</td>\n",
       "      <td>3</td>\n",
       "      <td>2</td>\n",
       "      <td>1</td>\n",
       "    </tr>\n",
       "  </tbody>\n",
       "</table>\n",
       "<p>4349 rows × 7 columns</p>\n",
       "</div>"
      ],
      "text/plain": [
       "      CustomerID  Recency  Frequency  Monetory  R  F  M\n",
       "0            2.0        4        181  550416.0  1  1  1\n",
       "1            3.0       77         27  257404.0  4  3  1\n",
       "2            4.0       20         72  176613.0  3  2  2\n",
       "3            5.0       18         16   41976.0  2  4  3\n",
       "4            6.0        9         84  151822.0  1  2  2\n",
       "...          ...      ...        ...       ... .. .. ..\n",
       "4344      4368.0       17         10   20480.0  2  4  4\n",
       "4345      4369.0      181          7   10774.0  4  4  4\n",
       "4346      4370.0       12         13   24962.0  2  4  4\n",
       "4347      4371.0        4        751  279720.0  1  1  1\n",
       "4348      4372.0       51         68  256952.0  3  2  1\n",
       "\n",
       "[4349 rows x 7 columns]"
      ]
     },
     "execution_count": 35,
     "metadata": {},
     "output_type": "execute_result"
    }
   ],
   "source": [
    "RFMScore.reset_index()"
   ]
  },
  {
   "cell_type": "code",
   "execution_count": 36,
   "id": "f5b38b51",
   "metadata": {},
   "outputs": [
    {
     "data": {
      "text/html": [
       "<div>\n",
       "<style scoped>\n",
       "    .dataframe tbody tr th:only-of-type {\n",
       "        vertical-align: middle;\n",
       "    }\n",
       "\n",
       "    .dataframe tbody tr th {\n",
       "        vertical-align: top;\n",
       "    }\n",
       "\n",
       "    .dataframe thead th {\n",
       "        text-align: right;\n",
       "    }\n",
       "</style>\n",
       "<table border=\"1\" class=\"dataframe\">\n",
       "  <thead>\n",
       "    <tr style=\"text-align: right;\">\n",
       "      <th></th>\n",
       "      <th>Recency</th>\n",
       "      <th>Frequency</th>\n",
       "      <th>Monetory</th>\n",
       "      <th>R</th>\n",
       "      <th>F</th>\n",
       "      <th>M</th>\n",
       "      <th>RFM</th>\n",
       "    </tr>\n",
       "    <tr>\n",
       "      <th>CustomerID</th>\n",
       "      <th></th>\n",
       "      <th></th>\n",
       "      <th></th>\n",
       "      <th></th>\n",
       "      <th></th>\n",
       "      <th></th>\n",
       "      <th></th>\n",
       "    </tr>\n",
       "  </thead>\n",
       "  <tbody>\n",
       "    <tr>\n",
       "      <th>2.0</th>\n",
       "      <td>4</td>\n",
       "      <td>181</td>\n",
       "      <td>550416.0</td>\n",
       "      <td>1</td>\n",
       "      <td>1</td>\n",
       "      <td>1</td>\n",
       "      <td>111</td>\n",
       "    </tr>\n",
       "    <tr>\n",
       "      <th>3.0</th>\n",
       "      <td>77</td>\n",
       "      <td>27</td>\n",
       "      <td>257404.0</td>\n",
       "      <td>4</td>\n",
       "      <td>3</td>\n",
       "      <td>1</td>\n",
       "      <td>431</td>\n",
       "    </tr>\n",
       "    <tr>\n",
       "      <th>4.0</th>\n",
       "      <td>20</td>\n",
       "      <td>72</td>\n",
       "      <td>176613.0</td>\n",
       "      <td>3</td>\n",
       "      <td>2</td>\n",
       "      <td>2</td>\n",
       "      <td>322</td>\n",
       "    </tr>\n",
       "    <tr>\n",
       "      <th>5.0</th>\n",
       "      <td>18</td>\n",
       "      <td>16</td>\n",
       "      <td>41976.0</td>\n",
       "      <td>2</td>\n",
       "      <td>4</td>\n",
       "      <td>3</td>\n",
       "      <td>243</td>\n",
       "    </tr>\n",
       "    <tr>\n",
       "      <th>6.0</th>\n",
       "      <td>9</td>\n",
       "      <td>84</td>\n",
       "      <td>151822.0</td>\n",
       "      <td>1</td>\n",
       "      <td>2</td>\n",
       "      <td>2</td>\n",
       "      <td>122</td>\n",
       "    </tr>\n",
       "  </tbody>\n",
       "</table>\n",
       "</div>"
      ],
      "text/plain": [
       "            Recency  Frequency  Monetory  R  F  M  RFM\n",
       "CustomerID                                            \n",
       "2.0               4        181  550416.0  1  1  1  111\n",
       "3.0              77         27  257404.0  4  3  1  431\n",
       "4.0              20         72  176613.0  3  2  2  322\n",
       "5.0              18         16   41976.0  2  4  3  243\n",
       "6.0               9         84  151822.0  1  2  2  122"
      ]
     },
     "execution_count": 36,
     "metadata": {},
     "output_type": "execute_result"
    }
   ],
   "source": [
    "RFMScore['RFM'] = RFMScore.R.map(str) + RFMScore.F.map(str) + RFMScore.M.map(str)\n",
    "RFMScore.head()"
   ]
  },
  {
   "cell_type": "code",
   "execution_count": 37,
   "id": "1077b4c9",
   "metadata": {},
   "outputs": [
    {
     "data": {
      "text/html": [
       "<div>\n",
       "<style scoped>\n",
       "    .dataframe tbody tr th:only-of-type {\n",
       "        vertical-align: middle;\n",
       "    }\n",
       "\n",
       "    .dataframe tbody tr th {\n",
       "        vertical-align: top;\n",
       "    }\n",
       "\n",
       "    .dataframe thead th {\n",
       "        text-align: right;\n",
       "    }\n",
       "</style>\n",
       "<table border=\"1\" class=\"dataframe\">\n",
       "  <thead>\n",
       "    <tr style=\"text-align: right;\">\n",
       "      <th></th>\n",
       "      <th>CustomerID</th>\n",
       "      <th>Recency</th>\n",
       "      <th>Frequency</th>\n",
       "      <th>Monetory</th>\n",
       "      <th>R</th>\n",
       "      <th>F</th>\n",
       "      <th>M</th>\n",
       "      <th>RFM</th>\n",
       "      <th>RFM_Score</th>\n",
       "    </tr>\n",
       "  </thead>\n",
       "  <tbody>\n",
       "    <tr>\n",
       "      <th>0</th>\n",
       "      <td>2.0</td>\n",
       "      <td>4</td>\n",
       "      <td>181</td>\n",
       "      <td>550416.0</td>\n",
       "      <td>1</td>\n",
       "      <td>1</td>\n",
       "      <td>1</td>\n",
       "      <td>111</td>\n",
       "      <td>3</td>\n",
       "    </tr>\n",
       "    <tr>\n",
       "      <th>1</th>\n",
       "      <td>3.0</td>\n",
       "      <td>77</td>\n",
       "      <td>27</td>\n",
       "      <td>257404.0</td>\n",
       "      <td>4</td>\n",
       "      <td>3</td>\n",
       "      <td>1</td>\n",
       "      <td>431</td>\n",
       "      <td>8</td>\n",
       "    </tr>\n",
       "    <tr>\n",
       "      <th>2</th>\n",
       "      <td>4.0</td>\n",
       "      <td>20</td>\n",
       "      <td>72</td>\n",
       "      <td>176613.0</td>\n",
       "      <td>3</td>\n",
       "      <td>2</td>\n",
       "      <td>2</td>\n",
       "      <td>322</td>\n",
       "      <td>7</td>\n",
       "    </tr>\n",
       "    <tr>\n",
       "      <th>3</th>\n",
       "      <td>5.0</td>\n",
       "      <td>18</td>\n",
       "      <td>16</td>\n",
       "      <td>41976.0</td>\n",
       "      <td>2</td>\n",
       "      <td>4</td>\n",
       "      <td>3</td>\n",
       "      <td>243</td>\n",
       "      <td>9</td>\n",
       "    </tr>\n",
       "    <tr>\n",
       "      <th>4</th>\n",
       "      <td>6.0</td>\n",
       "      <td>9</td>\n",
       "      <td>84</td>\n",
       "      <td>151822.0</td>\n",
       "      <td>1</td>\n",
       "      <td>2</td>\n",
       "      <td>2</td>\n",
       "      <td>122</td>\n",
       "      <td>5</td>\n",
       "    </tr>\n",
       "  </tbody>\n",
       "</table>\n",
       "</div>"
      ],
      "text/plain": [
       "   CustomerID  Recency  Frequency  Monetory  R  F  M  RFM  RFM_Score\n",
       "0         2.0        4        181  550416.0  1  1  1  111          3\n",
       "1         3.0       77         27  257404.0  4  3  1  431          8\n",
       "2         4.0       20         72  176613.0  3  2  2  322          7\n",
       "3         5.0       18         16   41976.0  2  4  3  243          9\n",
       "4         6.0        9         84  151822.0  1  2  2  122          5"
      ]
     },
     "execution_count": 37,
     "metadata": {},
     "output_type": "execute_result"
    }
   ],
   "source": [
    "RFMScore['RFM_Score'] = RFMScore[['R','F','M']].sum(axis=1)\n",
    "RFMScore.reset_index().head()"
   ]
  },
  {
   "cell_type": "code",
   "execution_count": 38,
   "id": "95a342a6",
   "metadata": {},
   "outputs": [
    {
     "data": {
      "text/plain": [
       "3     509\n",
       "10    480\n",
       "9     460\n",
       "8     451\n",
       "7     439\n",
       "12    408\n",
       "11    404\n",
       "5     402\n",
       "6     399\n",
       "4     397\n",
       "Name: RFM_Score, dtype: int64"
      ]
     },
     "execution_count": 38,
     "metadata": {},
     "output_type": "execute_result"
    }
   ],
   "source": [
    "RFMScore['RFM_Score'].value_counts()"
   ]
  },
  {
   "cell_type": "markdown",
   "id": "504cd07d",
   "metadata": {},
   "source": [
    "# Segment Customers on the basis of 'RFM' Score :"
   ]
  },
  {
   "cell_type": "code",
   "execution_count": 39,
   "id": "828aa1c5",
   "metadata": {},
   "outputs": [],
   "source": [
    "Loyal_Customer = ['Platinum', 'Gold', 'Silver', 'Bronze']\n",
    "score_cut_off = pd.qcut(RFMScore['RFM_Score'], q=4, labels=Loyal_Customer)\n",
    "RFMScore['Loyal_Customer'] = score_cut_off.values\n",
    "RFMScore = RFMScore.reset_index()"
   ]
  },
  {
   "cell_type": "code",
   "execution_count": 40,
   "id": "9f25a735",
   "metadata": {},
   "outputs": [
    {
     "data": {
      "text/html": [
       "<div>\n",
       "<style scoped>\n",
       "    .dataframe tbody tr th:only-of-type {\n",
       "        vertical-align: middle;\n",
       "    }\n",
       "\n",
       "    .dataframe tbody tr th {\n",
       "        vertical-align: top;\n",
       "    }\n",
       "\n",
       "    .dataframe thead th {\n",
       "        text-align: right;\n",
       "    }\n",
       "</style>\n",
       "<table border=\"1\" class=\"dataframe\">\n",
       "  <thead>\n",
       "    <tr style=\"text-align: right;\">\n",
       "      <th></th>\n",
       "      <th>CustomerID</th>\n",
       "      <th>Recency</th>\n",
       "      <th>Frequency</th>\n",
       "      <th>Monetory</th>\n",
       "      <th>R</th>\n",
       "      <th>F</th>\n",
       "      <th>M</th>\n",
       "      <th>RFM</th>\n",
       "      <th>RFM_Score</th>\n",
       "      <th>Loyal_Customer</th>\n",
       "    </tr>\n",
       "  </thead>\n",
       "  <tbody>\n",
       "    <tr>\n",
       "      <th>0</th>\n",
       "      <td>2.0</td>\n",
       "      <td>4</td>\n",
       "      <td>181</td>\n",
       "      <td>550416.0</td>\n",
       "      <td>1</td>\n",
       "      <td>1</td>\n",
       "      <td>1</td>\n",
       "      <td>111</td>\n",
       "      <td>3</td>\n",
       "      <td>Platinum</td>\n",
       "    </tr>\n",
       "    <tr>\n",
       "      <th>1</th>\n",
       "      <td>3.0</td>\n",
       "      <td>77</td>\n",
       "      <td>27</td>\n",
       "      <td>257404.0</td>\n",
       "      <td>4</td>\n",
       "      <td>3</td>\n",
       "      <td>1</td>\n",
       "      <td>431</td>\n",
       "      <td>8</td>\n",
       "      <td>Gold</td>\n",
       "    </tr>\n",
       "    <tr>\n",
       "      <th>2</th>\n",
       "      <td>4.0</td>\n",
       "      <td>20</td>\n",
       "      <td>72</td>\n",
       "      <td>176613.0</td>\n",
       "      <td>3</td>\n",
       "      <td>2</td>\n",
       "      <td>2</td>\n",
       "      <td>322</td>\n",
       "      <td>7</td>\n",
       "      <td>Gold</td>\n",
       "    </tr>\n",
       "    <tr>\n",
       "      <th>3</th>\n",
       "      <td>5.0</td>\n",
       "      <td>18</td>\n",
       "      <td>16</td>\n",
       "      <td>41976.0</td>\n",
       "      <td>2</td>\n",
       "      <td>4</td>\n",
       "      <td>3</td>\n",
       "      <td>243</td>\n",
       "      <td>9</td>\n",
       "      <td>Silver</td>\n",
       "    </tr>\n",
       "    <tr>\n",
       "      <th>4</th>\n",
       "      <td>6.0</td>\n",
       "      <td>9</td>\n",
       "      <td>84</td>\n",
       "      <td>151822.0</td>\n",
       "      <td>1</td>\n",
       "      <td>2</td>\n",
       "      <td>2</td>\n",
       "      <td>122</td>\n",
       "      <td>5</td>\n",
       "      <td>Platinum</td>\n",
       "    </tr>\n",
       "  </tbody>\n",
       "</table>\n",
       "</div>"
      ],
      "text/plain": [
       "   CustomerID  Recency  Frequency  Monetory  R  F  M  RFM  RFM_Score  \\\n",
       "0         2.0        4        181  550416.0  1  1  1  111          3   \n",
       "1         3.0       77         27  257404.0  4  3  1  431          8   \n",
       "2         4.0       20         72  176613.0  3  2  2  322          7   \n",
       "3         5.0       18         16   41976.0  2  4  3  243          9   \n",
       "4         6.0        9         84  151822.0  1  2  2  122          5   \n",
       "\n",
       "  Loyal_Customer  \n",
       "0       Platinum  \n",
       "1           Gold  \n",
       "2           Gold  \n",
       "3         Silver  \n",
       "4       Platinum  "
      ]
     },
     "execution_count": 40,
     "metadata": {},
     "output_type": "execute_result"
    }
   ],
   "source": [
    "RFMScore.head()"
   ]
  },
  {
   "cell_type": "code",
   "execution_count": 41,
   "id": "fc3d1aaa",
   "metadata": {},
   "outputs": [
    {
     "data": {
      "text/plain": [
       "Platinum    1308\n",
       "Gold        1289\n",
       "Silver       940\n",
       "Bronze       812\n",
       "Name: Loyal_Customer, dtype: int64"
      ]
     },
     "execution_count": 41,
     "metadata": {},
     "output_type": "execute_result"
    }
   ],
   "source": [
    "RFMScore['Loyal_Customer'].value_counts()"
   ]
  },
  {
   "cell_type": "markdown",
   "id": "ca8da93d",
   "metadata": {},
   "source": [
    "# Visualization :"
   ]
  },
  {
   "cell_type": "code",
   "execution_count": 42,
   "id": "b4f50831",
   "metadata": {},
   "outputs": [],
   "source": [
    "new_datapoint = RFMScore.groupby(['Loyal_Customer'])[['Recency','Frequency','Monetory','CustomerID']].agg({\n",
    "    'Recency':'sum','Frequency':'sum', 'Monetory':'sum','CustomerID':'nunique'\n",
    "}).reset_index()"
   ]
  },
  {
   "cell_type": "code",
   "execution_count": 43,
   "id": "20b52837",
   "metadata": {},
   "outputs": [
    {
     "data": {
      "text/html": [
       "<div>\n",
       "<style scoped>\n",
       "    .dataframe tbody tr th:only-of-type {\n",
       "        vertical-align: middle;\n",
       "    }\n",
       "\n",
       "    .dataframe tbody tr th {\n",
       "        vertical-align: top;\n",
       "    }\n",
       "\n",
       "    .dataframe thead th {\n",
       "        text-align: right;\n",
       "    }\n",
       "</style>\n",
       "<table border=\"1\" class=\"dataframe\">\n",
       "  <thead>\n",
       "    <tr style=\"text-align: right;\">\n",
       "      <th></th>\n",
       "      <th>Loyal_Customer</th>\n",
       "      <th>Recency</th>\n",
       "      <th>Frequency</th>\n",
       "      <th>Monetory</th>\n",
       "      <th>No_Of_Customers</th>\n",
       "    </tr>\n",
       "  </thead>\n",
       "  <tbody>\n",
       "    <tr>\n",
       "      <th>0</th>\n",
       "      <td>Platinum</td>\n",
       "      <td>13340</td>\n",
       "      <td>297150</td>\n",
       "      <td>765731356.0</td>\n",
       "      <td>1308</td>\n",
       "    </tr>\n",
       "    <tr>\n",
       "      <th>1</th>\n",
       "      <td>Gold</td>\n",
       "      <td>42079</td>\n",
       "      <td>73994</td>\n",
       "      <td>160271639.0</td>\n",
       "      <td>1289</td>\n",
       "    </tr>\n",
       "    <tr>\n",
       "      <th>2</th>\n",
       "      <td>Silver</td>\n",
       "      <td>78927</td>\n",
       "      <td>23588</td>\n",
       "      <td>52766014.1</td>\n",
       "      <td>940</td>\n",
       "    </tr>\n",
       "    <tr>\n",
       "      <th>3</th>\n",
       "      <td>Bronze</td>\n",
       "      <td>132879</td>\n",
       "      <td>8127</td>\n",
       "      <td>19300105.0</td>\n",
       "      <td>812</td>\n",
       "    </tr>\n",
       "  </tbody>\n",
       "</table>\n",
       "</div>"
      ],
      "text/plain": [
       "  Loyal_Customer  Recency  Frequency     Monetory  No_Of_Customers\n",
       "0       Platinum    13340     297150  765731356.0             1308\n",
       "1           Gold    42079      73994  160271639.0             1289\n",
       "2         Silver    78927      23588   52766014.1              940\n",
       "3         Bronze   132879       8127   19300105.0              812"
      ]
     },
     "execution_count": 43,
     "metadata": {},
     "output_type": "execute_result"
    }
   ],
   "source": [
    "new_datapoint = new_datapoint.rename(columns = {'CustomerID':'No_Of_Customers'})\n",
    "new_datapoint"
   ]
  },
  {
   "cell_type": "code",
   "execution_count": 44,
   "id": "05fce8a9",
   "metadata": {},
   "outputs": [],
   "source": [
    "new_datapoint['Percentage'] = round(new_datapoint['No_Of_Customers']/new_datapoint['No_Of_Customers'].sum()*100,2)"
   ]
  },
  {
   "cell_type": "code",
   "execution_count": 45,
   "id": "f3326bb9",
   "metadata": {},
   "outputs": [
    {
     "data": {
      "text/html": [
       "<div>\n",
       "<style scoped>\n",
       "    .dataframe tbody tr th:only-of-type {\n",
       "        vertical-align: middle;\n",
       "    }\n",
       "\n",
       "    .dataframe tbody tr th {\n",
       "        vertical-align: top;\n",
       "    }\n",
       "\n",
       "    .dataframe thead th {\n",
       "        text-align: right;\n",
       "    }\n",
       "</style>\n",
       "<table border=\"1\" class=\"dataframe\">\n",
       "  <thead>\n",
       "    <tr style=\"text-align: right;\">\n",
       "      <th></th>\n",
       "      <th>Loyal_Customer</th>\n",
       "      <th>Recency</th>\n",
       "      <th>Frequency</th>\n",
       "      <th>Monetory</th>\n",
       "      <th>No_Of_Customers</th>\n",
       "      <th>Percentage</th>\n",
       "    </tr>\n",
       "  </thead>\n",
       "  <tbody>\n",
       "    <tr>\n",
       "      <th>0</th>\n",
       "      <td>Platinum</td>\n",
       "      <td>13340</td>\n",
       "      <td>297150</td>\n",
       "      <td>765731356.0</td>\n",
       "      <td>1308</td>\n",
       "      <td>30.08</td>\n",
       "    </tr>\n",
       "    <tr>\n",
       "      <th>1</th>\n",
       "      <td>Gold</td>\n",
       "      <td>42079</td>\n",
       "      <td>73994</td>\n",
       "      <td>160271639.0</td>\n",
       "      <td>1289</td>\n",
       "      <td>29.64</td>\n",
       "    </tr>\n",
       "    <tr>\n",
       "      <th>2</th>\n",
       "      <td>Silver</td>\n",
       "      <td>78927</td>\n",
       "      <td>23588</td>\n",
       "      <td>52766014.1</td>\n",
       "      <td>940</td>\n",
       "      <td>21.61</td>\n",
       "    </tr>\n",
       "    <tr>\n",
       "      <th>3</th>\n",
       "      <td>Bronze</td>\n",
       "      <td>132879</td>\n",
       "      <td>8127</td>\n",
       "      <td>19300105.0</td>\n",
       "      <td>812</td>\n",
       "      <td>18.67</td>\n",
       "    </tr>\n",
       "  </tbody>\n",
       "</table>\n",
       "</div>"
      ],
      "text/plain": [
       "  Loyal_Customer  Recency  Frequency     Monetory  No_Of_Customers  Percentage\n",
       "0       Platinum    13340     297150  765731356.0             1308       30.08\n",
       "1           Gold    42079      73994  160271639.0             1289       29.64\n",
       "2         Silver    78927      23588   52766014.1              940       21.61\n",
       "3         Bronze   132879       8127   19300105.0              812       18.67"
      ]
     },
     "execution_count": 45,
     "metadata": {},
     "output_type": "execute_result"
    }
   ],
   "source": [
    "new_datapoint"
   ]
  },
  {
   "cell_type": "code",
   "execution_count": 46,
   "id": "1c7d287e",
   "metadata": {},
   "outputs": [
    {
     "data": {
      "text/html": [
       "<div>\n",
       "<style scoped>\n",
       "    .dataframe tbody tr th:only-of-type {\n",
       "        vertical-align: middle;\n",
       "    }\n",
       "\n",
       "    .dataframe tbody tr th {\n",
       "        vertical-align: top;\n",
       "    }\n",
       "\n",
       "    .dataframe thead th {\n",
       "        text-align: right;\n",
       "    }\n",
       "</style>\n",
       "<table border=\"1\" class=\"dataframe\">\n",
       "  <thead>\n",
       "    <tr style=\"text-align: right;\">\n",
       "      <th></th>\n",
       "      <th>Loyal_Customer</th>\n",
       "      <th>No_Of_Customers</th>\n",
       "      <th>Percentage</th>\n",
       "    </tr>\n",
       "  </thead>\n",
       "  <tbody>\n",
       "    <tr>\n",
       "      <th>0</th>\n",
       "      <td>Platinum</td>\n",
       "      <td>1308</td>\n",
       "      <td>30.08</td>\n",
       "    </tr>\n",
       "    <tr>\n",
       "      <th>1</th>\n",
       "      <td>Gold</td>\n",
       "      <td>1289</td>\n",
       "      <td>29.64</td>\n",
       "    </tr>\n",
       "    <tr>\n",
       "      <th>2</th>\n",
       "      <td>Silver</td>\n",
       "      <td>940</td>\n",
       "      <td>21.61</td>\n",
       "    </tr>\n",
       "    <tr>\n",
       "      <th>3</th>\n",
       "      <td>Bronze</td>\n",
       "      <td>812</td>\n",
       "      <td>18.67</td>\n",
       "    </tr>\n",
       "  </tbody>\n",
       "</table>\n",
       "</div>"
      ],
      "text/plain": [
       "  Loyal_Customer  No_Of_Customers  Percentage\n",
       "0       Platinum             1308       30.08\n",
       "1           Gold             1289       29.64\n",
       "2         Silver              940       21.61\n",
       "3         Bronze              812       18.67"
      ]
     },
     "execution_count": 46,
     "metadata": {},
     "output_type": "execute_result"
    }
   ],
   "source": [
    "new_datapoint = new_datapoint.drop(['Recency','Frequency','Monetory'], axis=1)\n",
    "new_datapoint"
   ]
  },
  {
   "cell_type": "code",
   "execution_count": 47,
   "id": "2fe530de",
   "metadata": {},
   "outputs": [],
   "source": [
    "import squarify"
   ]
  },
  {
   "cell_type": "code",
   "execution_count": 48,
   "id": "b354286c",
   "metadata": {},
   "outputs": [
    {
     "data": {
      "text/plain": [
       "<AxesSubplot:>"
      ]
     },
     "execution_count": 48,
     "metadata": {},
     "output_type": "execute_result"
    },
    {
     "data": {
      "image/png": "[encoded data removed]",
      "text/plain": [
       "<Figure size 1440x1080 with 1 Axes>"
      ]
     },
     "metadata": {},
     "output_type": "display_data"
    }
   ],
   "source": [
    "fig = plt.gcf()\n",
    "ax = fig.add_subplot()\n",
    "fig.set_size_inches(20,15)\n",
    "colors_dics = {'Platinum':'green', 'Gold':'yellow', 'Silver':'gray', 'Bronze':'red'}\n",
    "\n",
    "squarify.plot(sizes=new_datapoint['No_Of_Customers'],\n",
    "             color = colors_dics.values(),\n",
    "             label = ['{} \\n{:.0f} customers \\n({}%)'.format(*new_datapoint.iloc[i]) for i in range(0, len(new_datapoint))],)\n",
    "                    "
   ]
  },
  {
   "cell_type": "markdown",
   "id": "23b2a1b7",
   "metadata": {},
   "source": [
    "- From this visual representation we can observe 30% customers belongs to **'Platinum'** category, 29% customers belongs to **'Gold'** category, 21% customers belongs to **'Silver'** category and 19% customers belongs to **'Bronze'** category  "
   ]
  },
  {
   "cell_type": "markdown",
   "id": "61bfe917",
   "metadata": {},
   "source": [
    "# Building Unsupervised Machine Learning Clustering Algorithms :"
   ]
  },
  {
   "cell_type": "markdown",
   "id": "095d22cb",
   "metadata": {},
   "source": [
    "## K-Means Clustering :"
   ]
  },
  {
   "cell_type": "code",
   "execution_count": 50,
   "id": "b50253ee",
   "metadata": {},
   "outputs": [
    {
     "data": {
      "text/html": [
       "<div>\n",
       "<style scoped>\n",
       "    .dataframe tbody tr th:only-of-type {\n",
       "        vertical-align: middle;\n",
       "    }\n",
       "\n",
       "    .dataframe tbody tr th {\n",
       "        vertical-align: top;\n",
       "    }\n",
       "\n",
       "    .dataframe thead th {\n",
       "        text-align: right;\n",
       "    }\n",
       "</style>\n",
       "<table border=\"1\" class=\"dataframe\">\n",
       "  <thead>\n",
       "    <tr style=\"text-align: right;\">\n",
       "      <th></th>\n",
       "      <th>CustomerID</th>\n",
       "      <th>Recency</th>\n",
       "      <th>Frequency</th>\n",
       "      <th>Monetory</th>\n",
       "      <th>R</th>\n",
       "      <th>F</th>\n",
       "      <th>M</th>\n",
       "      <th>RFM</th>\n",
       "      <th>RFM_Score</th>\n",
       "      <th>Loyal_Customer</th>\n",
       "    </tr>\n",
       "  </thead>\n",
       "  <tbody>\n",
       "    <tr>\n",
       "      <th>0</th>\n",
       "      <td>2.0</td>\n",
       "      <td>4</td>\n",
       "      <td>181</td>\n",
       "      <td>550416.0</td>\n",
       "      <td>1</td>\n",
       "      <td>1</td>\n",
       "      <td>1</td>\n",
       "      <td>111</td>\n",
       "      <td>3</td>\n",
       "      <td>Platinum</td>\n",
       "    </tr>\n",
       "    <tr>\n",
       "      <th>1</th>\n",
       "      <td>3.0</td>\n",
       "      <td>77</td>\n",
       "      <td>27</td>\n",
       "      <td>257404.0</td>\n",
       "      <td>4</td>\n",
       "      <td>3</td>\n",
       "      <td>1</td>\n",
       "      <td>431</td>\n",
       "      <td>8</td>\n",
       "      <td>Gold</td>\n",
       "    </tr>\n",
       "    <tr>\n",
       "      <th>2</th>\n",
       "      <td>4.0</td>\n",
       "      <td>20</td>\n",
       "      <td>72</td>\n",
       "      <td>176613.0</td>\n",
       "      <td>3</td>\n",
       "      <td>2</td>\n",
       "      <td>2</td>\n",
       "      <td>322</td>\n",
       "      <td>7</td>\n",
       "      <td>Gold</td>\n",
       "    </tr>\n",
       "    <tr>\n",
       "      <th>3</th>\n",
       "      <td>5.0</td>\n",
       "      <td>18</td>\n",
       "      <td>16</td>\n",
       "      <td>41976.0</td>\n",
       "      <td>2</td>\n",
       "      <td>4</td>\n",
       "      <td>3</td>\n",
       "      <td>243</td>\n",
       "      <td>9</td>\n",
       "      <td>Silver</td>\n",
       "    </tr>\n",
       "    <tr>\n",
       "      <th>4</th>\n",
       "      <td>6.0</td>\n",
       "      <td>9</td>\n",
       "      <td>84</td>\n",
       "      <td>151822.0</td>\n",
       "      <td>1</td>\n",
       "      <td>2</td>\n",
       "      <td>2</td>\n",
       "      <td>122</td>\n",
       "      <td>5</td>\n",
       "      <td>Platinum</td>\n",
       "    </tr>\n",
       "  </tbody>\n",
       "</table>\n",
       "</div>"
      ],
      "text/plain": [
       "   CustomerID  Recency  Frequency  Monetory  R  F  M  RFM  RFM_Score  \\\n",
       "0         2.0        4        181  550416.0  1  1  1  111          3   \n",
       "1         3.0       77         27  257404.0  4  3  1  431          8   \n",
       "2         4.0       20         72  176613.0  3  2  2  322          7   \n",
       "3         5.0       18         16   41976.0  2  4  3  243          9   \n",
       "4         6.0        9         84  151822.0  1  2  2  122          5   \n",
       "\n",
       "  Loyal_Customer  \n",
       "0       Platinum  \n",
       "1           Gold  \n",
       "2           Gold  \n",
       "3         Silver  \n",
       "4       Platinum  "
      ]
     },
     "execution_count": 50,
     "metadata": {},
     "output_type": "execute_result"
    }
   ],
   "source": [
    "RFMScore.head()"
   ]
  },
  {
   "cell_type": "code",
   "execution_count": 51,
   "id": "f7125147",
   "metadata": {},
   "outputs": [
    {
     "data": {
      "text/html": [
       "<div>\n",
       "<style scoped>\n",
       "    .dataframe tbody tr th:only-of-type {\n",
       "        vertical-align: middle;\n",
       "    }\n",
       "\n",
       "    .dataframe tbody tr th {\n",
       "        vertical-align: top;\n",
       "    }\n",
       "\n",
       "    .dataframe thead th {\n",
       "        text-align: right;\n",
       "    }\n",
       "</style>\n",
       "<table border=\"1\" class=\"dataframe\">\n",
       "  <thead>\n",
       "    <tr style=\"text-align: right;\">\n",
       "      <th></th>\n",
       "      <th>Recency</th>\n",
       "      <th>Frequency</th>\n",
       "      <th>Monetory</th>\n",
       "    </tr>\n",
       "  </thead>\n",
       "  <tbody>\n",
       "    <tr>\n",
       "      <th>0</th>\n",
       "      <td>4</td>\n",
       "      <td>181</td>\n",
       "      <td>550416.0</td>\n",
       "    </tr>\n",
       "    <tr>\n",
       "      <th>1</th>\n",
       "      <td>77</td>\n",
       "      <td>27</td>\n",
       "      <td>257404.0</td>\n",
       "    </tr>\n",
       "    <tr>\n",
       "      <th>2</th>\n",
       "      <td>20</td>\n",
       "      <td>72</td>\n",
       "      <td>176613.0</td>\n",
       "    </tr>\n",
       "    <tr>\n",
       "      <th>3</th>\n",
       "      <td>18</td>\n",
       "      <td>16</td>\n",
       "      <td>41976.0</td>\n",
       "    </tr>\n",
       "    <tr>\n",
       "      <th>4</th>\n",
       "      <td>9</td>\n",
       "      <td>84</td>\n",
       "      <td>151822.0</td>\n",
       "    </tr>\n",
       "  </tbody>\n",
       "</table>\n",
       "</div>"
      ],
      "text/plain": [
       "   Recency  Frequency  Monetory\n",
       "0        4        181  550416.0\n",
       "1       77         27  257404.0\n",
       "2       20         72  176613.0\n",
       "3       18         16   41976.0\n",
       "4        9         84  151822.0"
      ]
     },
     "execution_count": 51,
     "metadata": {},
     "output_type": "execute_result"
    }
   ],
   "source": [
    "RFMScore1 = RFMScore.iloc[:,1:4]\n",
    "RFMScore1.head()"
   ]
  },
  {
   "cell_type": "code",
   "execution_count": 52,
   "id": "6b4304c2",
   "metadata": {},
   "outputs": [
    {
     "data": {
      "text/html": [
       "<div>\n",
       "<style scoped>\n",
       "    .dataframe tbody tr th:only-of-type {\n",
       "        vertical-align: middle;\n",
       "    }\n",
       "\n",
       "    .dataframe tbody tr th {\n",
       "        vertical-align: top;\n",
       "    }\n",
       "\n",
       "    .dataframe thead th {\n",
       "        text-align: right;\n",
       "    }\n",
       "</style>\n",
       "<table border=\"1\" class=\"dataframe\">\n",
       "  <thead>\n",
       "    <tr style=\"text-align: right;\">\n",
       "      <th></th>\n",
       "      <th>Recency</th>\n",
       "      <th>Frequency</th>\n",
       "      <th>Monetory</th>\n",
       "    </tr>\n",
       "  </thead>\n",
       "  <tbody>\n",
       "    <tr>\n",
       "      <th>0</th>\n",
       "      <td>-0.640796</td>\n",
       "      <td>0.383014</td>\n",
       "      <td>0.375097</td>\n",
       "    </tr>\n",
       "    <tr>\n",
       "      <th>1</th>\n",
       "      <td>0.173513</td>\n",
       "      <td>-0.284474</td>\n",
       "      <td>0.032622</td>\n",
       "    </tr>\n",
       "    <tr>\n",
       "      <th>2</th>\n",
       "      <td>-0.462317</td>\n",
       "      <td>-0.089428</td>\n",
       "      <td>-0.061808</td>\n",
       "    </tr>\n",
       "    <tr>\n",
       "      <th>3</th>\n",
       "      <td>-0.484627</td>\n",
       "      <td>-0.332151</td>\n",
       "      <td>-0.219173</td>\n",
       "    </tr>\n",
       "    <tr>\n",
       "      <th>4</th>\n",
       "      <td>-0.585021</td>\n",
       "      <td>-0.037416</td>\n",
       "      <td>-0.090784</td>\n",
       "    </tr>\n",
       "  </tbody>\n",
       "</table>\n",
       "</div>"
      ],
      "text/plain": [
       "    Recency  Frequency  Monetory\n",
       "0 -0.640796   0.383014  0.375097\n",
       "1  0.173513  -0.284474  0.032622\n",
       "2 -0.462317  -0.089428 -0.061808\n",
       "3 -0.484627  -0.332151 -0.219173\n",
       "4 -0.585021  -0.037416 -0.090784"
      ]
     },
     "execution_count": 52,
     "metadata": {},
     "output_type": "execute_result"
    }
   ],
   "source": [
    "# Mandetory Preprocessing - Feature Scaling\n",
    "\n",
    "from sklearn.preprocessing import StandardScaler\n",
    "sc = StandardScaler()\n",
    "RFMScore1_sc = sc.fit_transform(RFMScore1)\n",
    "\n",
    "Scaled_data = pd.DataFrame(RFMScore1_sc, columns=RFMScore1.columns, index = RFMScore1.index)\n",
    "Scaled_data.head()"
   ]
  },
  {
   "cell_type": "code",
   "execution_count": 53,
   "id": "d99caeee",
   "metadata": {},
   "outputs": [],
   "source": [
    "# Building KMeans Cluster\n",
    "\n",
    "from sklearn.cluster import KMeans"
   ]
  },
  {
   "cell_type": "code",
   "execution_count": 54,
   "id": "6d2db865",
   "metadata": {},
   "outputs": [],
   "source": [
    "wcss = []\n",
    "\n",
    "for i in range(2,15):\n",
    "    KM = KMeans(n_clusters=i, init='k-means++', max_iter=1000, random_state=1)\n",
    "    KM.fit(Scaled_data)\n",
    "    wcss.append(KM.inertia_)"
   ]
  },
  {
   "cell_type": "code",
   "execution_count": 58,
   "id": "d5092c14",
   "metadata": {},
   "outputs": [
    {
     "data": {
      "image/png": "[encoded data removed]",
      "text/plain": [
       "<Figure size 432x288 with 1 Axes>"
      ]
     },
     "metadata": {},
     "output_type": "display_data"
    }
   ],
   "source": [
    "k=range(2,15)\n",
    "plt.plot(k,wcss,color='blue',marker='o')\n",
    "plt.xlabel('No. Of Cluster')\n",
    "plt.ylabel('WCSS')\n",
    "plt.xlim((1,15))\n",
    "plt.show()"
   ]
  },
  {
   "cell_type": "code",
   "execution_count": 81,
   "id": "95af5613",
   "metadata": {},
   "outputs": [],
   "source": [
    "KM = KMeans(n_clusters=8, init='k-means++', max_iter=1000, random_state=1)\n",
    "KM.fit(Scaled_data)\n",
    "Y_pred = KM.predict(Scaled_data)"
   ]
  },
  {
   "cell_type": "code",
   "execution_count": 82,
   "id": "1fdd771f",
   "metadata": {},
   "outputs": [
    {
     "data": {
      "text/plain": [
       "array([0, 4, 4, ..., 4, 6, 4])"
      ]
     },
     "execution_count": 82,
     "metadata": {},
     "output_type": "execute_result"
    }
   ],
   "source": [
    "Y_pred"
   ]
  },
  {
   "cell_type": "code",
   "execution_count": 83,
   "id": "90e0d911",
   "metadata": {},
   "outputs": [
    {
     "data": {
      "text/html": [
       "<div>\n",
       "<style scoped>\n",
       "    .dataframe tbody tr th:only-of-type {\n",
       "        vertical-align: middle;\n",
       "    }\n",
       "\n",
       "    .dataframe tbody tr th {\n",
       "        vertical-align: top;\n",
       "    }\n",
       "\n",
       "    .dataframe thead th {\n",
       "        text-align: right;\n",
       "    }\n",
       "</style>\n",
       "<table border=\"1\" class=\"dataframe\">\n",
       "  <thead>\n",
       "    <tr style=\"text-align: right;\">\n",
       "      <th></th>\n",
       "      <th>Recency</th>\n",
       "      <th>Frequency</th>\n",
       "      <th>Monetory</th>\n",
       "      <th>0</th>\n",
       "    </tr>\n",
       "  </thead>\n",
       "  <tbody>\n",
       "    <tr>\n",
       "      <th>0</th>\n",
       "      <td>4</td>\n",
       "      <td>181</td>\n",
       "      <td>550416.0</td>\n",
       "      <td>0</td>\n",
       "    </tr>\n",
       "    <tr>\n",
       "      <th>1</th>\n",
       "      <td>77</td>\n",
       "      <td>27</td>\n",
       "      <td>257404.0</td>\n",
       "      <td>4</td>\n",
       "    </tr>\n",
       "    <tr>\n",
       "      <th>2</th>\n",
       "      <td>20</td>\n",
       "      <td>72</td>\n",
       "      <td>176613.0</td>\n",
       "      <td>4</td>\n",
       "    </tr>\n",
       "    <tr>\n",
       "      <th>3</th>\n",
       "      <td>18</td>\n",
       "      <td>16</td>\n",
       "      <td>41976.0</td>\n",
       "      <td>4</td>\n",
       "    </tr>\n",
       "    <tr>\n",
       "      <th>4</th>\n",
       "      <td>9</td>\n",
       "      <td>84</td>\n",
       "      <td>151822.0</td>\n",
       "      <td>4</td>\n",
       "    </tr>\n",
       "  </tbody>\n",
       "</table>\n",
       "</div>"
      ],
      "text/plain": [
       "   Recency  Frequency  Monetory  0\n",
       "0        4        181  550416.0  0\n",
       "1       77         27  257404.0  4\n",
       "2       20         72  176613.0  4\n",
       "3       18         16   41976.0  4\n",
       "4        9         84  151822.0  4"
      ]
     },
     "execution_count": 83,
     "metadata": {},
     "output_type": "execute_result"
    }
   ],
   "source": [
    "combined = pd.concat([RFMScore1, pd.DataFrame(Y_pred)], axis=1)\n",
    "combined.head(5)"
   ]
  },
  {
   "cell_type": "code",
   "execution_count": 84,
   "id": "74955dee",
   "metadata": {},
   "outputs": [],
   "source": [
    "combined.columns = ['Recency','Frequency','Monetory','Category']"
   ]
  },
  {
   "cell_type": "code",
   "execution_count": 85,
   "id": "bc274ab9",
   "metadata": {},
   "outputs": [
    {
     "data": {
      "text/html": [
       "<div>\n",
       "<style scoped>\n",
       "    .dataframe tbody tr th:only-of-type {\n",
       "        vertical-align: middle;\n",
       "    }\n",
       "\n",
       "    .dataframe tbody tr th {\n",
       "        vertical-align: top;\n",
       "    }\n",
       "\n",
       "    .dataframe thead th {\n",
       "        text-align: right;\n",
       "    }\n",
       "</style>\n",
       "<table border=\"1\" class=\"dataframe\">\n",
       "  <thead>\n",
       "    <tr style=\"text-align: right;\">\n",
       "      <th></th>\n",
       "      <th>Recency</th>\n",
       "      <th>Frequency</th>\n",
       "      <th>Monetory</th>\n",
       "      <th>Category</th>\n",
       "    </tr>\n",
       "  </thead>\n",
       "  <tbody>\n",
       "    <tr>\n",
       "      <th>0</th>\n",
       "      <td>4</td>\n",
       "      <td>181</td>\n",
       "      <td>550416.0</td>\n",
       "      <td>0</td>\n",
       "    </tr>\n",
       "    <tr>\n",
       "      <th>1</th>\n",
       "      <td>77</td>\n",
       "      <td>27</td>\n",
       "      <td>257404.0</td>\n",
       "      <td>4</td>\n",
       "    </tr>\n",
       "    <tr>\n",
       "      <th>2</th>\n",
       "      <td>20</td>\n",
       "      <td>72</td>\n",
       "      <td>176613.0</td>\n",
       "      <td>4</td>\n",
       "    </tr>\n",
       "    <tr>\n",
       "      <th>3</th>\n",
       "      <td>18</td>\n",
       "      <td>16</td>\n",
       "      <td>41976.0</td>\n",
       "      <td>4</td>\n",
       "    </tr>\n",
       "    <tr>\n",
       "      <th>4</th>\n",
       "      <td>9</td>\n",
       "      <td>84</td>\n",
       "      <td>151822.0</td>\n",
       "      <td>4</td>\n",
       "    </tr>\n",
       "  </tbody>\n",
       "</table>\n",
       "</div>"
      ],
      "text/plain": [
       "   Recency  Frequency  Monetory  Category\n",
       "0        4        181  550416.0         0\n",
       "1       77         27  257404.0         4\n",
       "2       20         72  176613.0         4\n",
       "3       18         16   41976.0         4\n",
       "4        9         84  151822.0         4"
      ]
     },
     "execution_count": 85,
     "metadata": {},
     "output_type": "execute_result"
    }
   ],
   "source": [
    "combined.head()"
   ]
  },
  {
   "cell_type": "code",
   "execution_count": 86,
   "id": "25b042f5",
   "metadata": {},
   "outputs": [
    {
     "data": {
      "text/plain": [
       "4    2643\n",
       "0     700\n",
       "7     500\n",
       "1     353\n",
       "6     135\n",
       "5      13\n",
       "3       4\n",
       "2       1\n",
       "Name: Category, dtype: int64"
      ]
     },
     "execution_count": 86,
     "metadata": {},
     "output_type": "execute_result"
    }
   ],
   "source": [
    "combined['Category'].value_counts()"
   ]
  },
  {
   "cell_type": "code",
   "execution_count": 87,
   "id": "b4d3aa03",
   "metadata": {},
   "outputs": [],
   "source": [
    "from sklearn.metrics import silhouette_score"
   ]
  },
  {
   "cell_type": "code",
   "execution_count": 102,
   "id": "9a71a0b0",
   "metadata": {},
   "outputs": [
    {
     "data": {
      "text/plain": [
       "0.4879277467817194"
      ]
     },
     "execution_count": 102,
     "metadata": {},
     "output_type": "execute_result"
    }
   ],
   "source": [
    "silhouette_score(Scaled_data,Y_pred)"
   ]
  },
  {
   "cell_type": "markdown",
   "id": "a55236a3",
   "metadata": {},
   "source": [
    "## Hierarchical Clustering :"
   ]
  },
  {
   "cell_type": "code",
   "execution_count": 89,
   "id": "7d71f7a4",
   "metadata": {},
   "outputs": [
    {
     "data": {
      "image/png": "[encoded data removed]",
      "text/plain": [
       "<Figure size 720x504 with 1 Axes>"
      ]
     },
     "metadata": {},
     "output_type": "display_data"
    }
   ],
   "source": [
    "import scipy.cluster.hierarchy as sch\n",
    "\n",
    "plt.figure(figsize=(10,7))\n",
    "dendrogram = sch.dendrogram(sch.linkage(Scaled_data, method='ward'))\n",
    "plt.title('Dendrogram')\n",
    "plt.xlabel('Customer Details')\n",
    "plt.ylabel('Euclidean Distance')\n",
    "plt.show()"
   ]
  },
  {
   "cell_type": "code",
   "execution_count": 90,
   "id": "bf71d8bb",
   "metadata": {},
   "outputs": [],
   "source": [
    "from sklearn.cluster import AgglomerativeClustering"
   ]
  },
  {
   "cell_type": "code",
   "execution_count": 96,
   "id": "5fb5c090",
   "metadata": {},
   "outputs": [
    {
     "data": {
      "text/plain": [
       "AgglomerativeClustering(n_clusters=4)"
      ]
     },
     "execution_count": 96,
     "metadata": {},
     "output_type": "execute_result"
    }
   ],
   "source": [
    "hc = AgglomerativeClustering(n_clusters=4, affinity='euclidean', linkage='ward')\n",
    "hc"
   ]
  },
  {
   "cell_type": "code",
   "execution_count": 97,
   "id": "f2b71c0b",
   "metadata": {},
   "outputs": [
    {
     "data": {
      "text/plain": [
       "array([1, 1, 1, ..., 1, 1, 1], dtype=int64)"
      ]
     },
     "execution_count": 97,
     "metadata": {},
     "output_type": "execute_result"
    }
   ],
   "source": [
    "y_hc = hc.fit_predict(Scaled_data)\n",
    "y_hc"
   ]
  },
  {
   "cell_type": "code",
   "execution_count": 98,
   "id": "979450e2",
   "metadata": {},
   "outputs": [
    {
     "data": {
      "text/html": [
       "<div>\n",
       "<style scoped>\n",
       "    .dataframe tbody tr th:only-of-type {\n",
       "        vertical-align: middle;\n",
       "    }\n",
       "\n",
       "    .dataframe tbody tr th {\n",
       "        vertical-align: top;\n",
       "    }\n",
       "\n",
       "    .dataframe thead th {\n",
       "        text-align: right;\n",
       "    }\n",
       "</style>\n",
       "<table border=\"1\" class=\"dataframe\">\n",
       "  <thead>\n",
       "    <tr style=\"text-align: right;\">\n",
       "      <th></th>\n",
       "      <th>Recency</th>\n",
       "      <th>Frequency</th>\n",
       "      <th>Monetory</th>\n",
       "      <th>Category</th>\n",
       "    </tr>\n",
       "  </thead>\n",
       "  <tbody>\n",
       "    <tr>\n",
       "      <th>0</th>\n",
       "      <td>4</td>\n",
       "      <td>181</td>\n",
       "      <td>550416.0</td>\n",
       "      <td>1</td>\n",
       "    </tr>\n",
       "    <tr>\n",
       "      <th>1</th>\n",
       "      <td>77</td>\n",
       "      <td>27</td>\n",
       "      <td>257404.0</td>\n",
       "      <td>1</td>\n",
       "    </tr>\n",
       "    <tr>\n",
       "      <th>2</th>\n",
       "      <td>20</td>\n",
       "      <td>72</td>\n",
       "      <td>176613.0</td>\n",
       "      <td>1</td>\n",
       "    </tr>\n",
       "    <tr>\n",
       "      <th>3</th>\n",
       "      <td>18</td>\n",
       "      <td>16</td>\n",
       "      <td>41976.0</td>\n",
       "      <td>1</td>\n",
       "    </tr>\n",
       "    <tr>\n",
       "      <th>4</th>\n",
       "      <td>9</td>\n",
       "      <td>84</td>\n",
       "      <td>151822.0</td>\n",
       "      <td>1</td>\n",
       "    </tr>\n",
       "  </tbody>\n",
       "</table>\n",
       "</div>"
      ],
      "text/plain": [
       "   Recency  Frequency  Monetory  Category\n",
       "0        4        181  550416.0         1\n",
       "1       77         27  257404.0         1\n",
       "2       20         72  176613.0         1\n",
       "3       18         16   41976.0         1\n",
       "4        9         84  151822.0         1"
      ]
     },
     "execution_count": 98,
     "metadata": {},
     "output_type": "execute_result"
    }
   ],
   "source": [
    "combined_hc = pd.concat([RFMScore1, pd.DataFrame(y_hc)], axis=1)\n",
    "combined_hc.columns = ['Recency','Frequency','Monetory','Category']\n",
    "combined_hc.head(5)"
   ]
  },
  {
   "cell_type": "code",
   "execution_count": 101,
   "id": "40e1370d",
   "metadata": {},
   "outputs": [
    {
     "data": {
      "text/plain": [
       "0.6633142044789895"
      ]
     },
     "execution_count": 101,
     "metadata": {},
     "output_type": "execute_result"
    }
   ],
   "source": [
    "silhouette_score(Scaled_data.values,y_hc)"
   ]
  },
  {
   "cell_type": "code",
   "execution_count": 100,
   "id": "11d6d43b",
   "metadata": {},
   "outputs": [
    {
     "data": {
      "text/plain": [
       "1    3644\n",
       "2     683\n",
       "0      18\n",
       "3       4\n",
       "Name: Category, dtype: int64"
      ]
     },
     "execution_count": 100,
     "metadata": {},
     "output_type": "execute_result"
    }
   ],
   "source": [
    "combined_hc['Category'].value_counts()"
   ]
  },
  {
   "cell_type": "markdown",
   "id": "b7dde2b4",
   "metadata": {},
   "source": [
    "- In both the clustering method customer segmentation is not balanced. In some of the segment no. of customers is very high ~3000 and in some of the segments no. of customers is very less only 1 or 3.\n",
    "- So we will select the manual segmentation process as the final model."
   ]
  },
  {
   "cell_type": "code",
   "execution_count": null,
   "id": "78fbc2d1",
   "metadata": {},
   "outputs": [],
   "source": []
  }
 ],
 "metadata": {
  "kernelspec": {
   "display_name": "Python 3 (ipykernel)",
   "language": "python",
   "name": "python3"
  },
  "language_info": {
   "codemirror_mode": {
    "name": "ipython",
    "version": 3
   },
   "file_extension": ".py",
   "mimetype": "text/x-python",
   "name": "python",
   "nbconvert_exporter": "python",
   "pygments_lexer": "ipython3",
   "version": "3.9.12"
  }
 },
 "nbformat": 4,
 "nbformat_minor": 5
}
