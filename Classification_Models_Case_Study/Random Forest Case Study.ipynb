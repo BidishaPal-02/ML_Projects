{
 "cells": [
  {
   "cell_type": "code",
   "execution_count": 2,
   "id": "aa51beb3",
   "metadata": {},
   "outputs": [],
   "source": [
    "import os, sys\n",
    "\n",
    "import numpy as np\n",
    "import pandas as pd\n",
    "\n",
    "import matplotlib.pyplot as plt\n",
    "%matplotlib inline\n",
    "import seaborn as sns\n",
    "sns.set()\n",
    "\n",
    "import warnings\n",
    "warnings.filterwarnings('ignore')\n",
    "\n",
    "from sklearn.model_selection import train_test_split\n",
    "\n",
    "from sklearn.ensemble import BaggingClassifier\n",
    "from sklearn.ensemble import RandomForestClassifier\n",
    "\n",
    "from sklearn.metrics import confusion_matrix, classification_report,accuracy_score"
   ]
  },
  {
   "cell_type": "code",
   "execution_count": 3,
   "id": "98044980",
   "metadata": {},
   "outputs": [
    {
     "data": {
      "text/html": [
       "<div>\n",
       "<style scoped>\n",
       "    .dataframe tbody tr th:only-of-type {\n",
       "        vertical-align: middle;\n",
       "    }\n",
       "\n",
       "    .dataframe tbody tr th {\n",
       "        vertical-align: top;\n",
       "    }\n",
       "\n",
       "    .dataframe thead th {\n",
       "        text-align: right;\n",
       "    }\n",
       "</style>\n",
       "<table border=\"1\" class=\"dataframe\">\n",
       "  <thead>\n",
       "    <tr style=\"text-align: right;\">\n",
       "      <th></th>\n",
       "      <th>Pregnancies</th>\n",
       "      <th>Glucose</th>\n",
       "      <th>BloodPressure</th>\n",
       "      <th>SkinThickness</th>\n",
       "      <th>Insulin</th>\n",
       "      <th>BMI</th>\n",
       "      <th>DiabetesPedigreeFunction</th>\n",
       "      <th>Age</th>\n",
       "      <th>Outcome</th>\n",
       "    </tr>\n",
       "  </thead>\n",
       "  <tbody>\n",
       "    <tr>\n",
       "      <th>0</th>\n",
       "      <td>6</td>\n",
       "      <td>148</td>\n",
       "      <td>72</td>\n",
       "      <td>35</td>\n",
       "      <td>0</td>\n",
       "      <td>33.6</td>\n",
       "      <td>0.627</td>\n",
       "      <td>50</td>\n",
       "      <td>1</td>\n",
       "    </tr>\n",
       "    <tr>\n",
       "      <th>1</th>\n",
       "      <td>1</td>\n",
       "      <td>85</td>\n",
       "      <td>66</td>\n",
       "      <td>29</td>\n",
       "      <td>0</td>\n",
       "      <td>26.6</td>\n",
       "      <td>0.351</td>\n",
       "      <td>31</td>\n",
       "      <td>0</td>\n",
       "    </tr>\n",
       "    <tr>\n",
       "      <th>2</th>\n",
       "      <td>8</td>\n",
       "      <td>183</td>\n",
       "      <td>64</td>\n",
       "      <td>0</td>\n",
       "      <td>0</td>\n",
       "      <td>23.3</td>\n",
       "      <td>0.672</td>\n",
       "      <td>32</td>\n",
       "      <td>1</td>\n",
       "    </tr>\n",
       "    <tr>\n",
       "      <th>3</th>\n",
       "      <td>1</td>\n",
       "      <td>89</td>\n",
       "      <td>66</td>\n",
       "      <td>23</td>\n",
       "      <td>94</td>\n",
       "      <td>28.1</td>\n",
       "      <td>0.167</td>\n",
       "      <td>21</td>\n",
       "      <td>0</td>\n",
       "    </tr>\n",
       "    <tr>\n",
       "      <th>4</th>\n",
       "      <td>0</td>\n",
       "      <td>137</td>\n",
       "      <td>40</td>\n",
       "      <td>35</td>\n",
       "      <td>168</td>\n",
       "      <td>43.1</td>\n",
       "      <td>2.288</td>\n",
       "      <td>33</td>\n",
       "      <td>1</td>\n",
       "    </tr>\n",
       "  </tbody>\n",
       "</table>\n",
       "</div>"
      ],
      "text/plain": [
       "   Pregnancies  Glucose  BloodPressure  SkinThickness  Insulin   BMI  \\\n",
       "0            6      148             72             35        0  33.6   \n",
       "1            1       85             66             29        0  26.6   \n",
       "2            8      183             64              0        0  23.3   \n",
       "3            1       89             66             23       94  28.1   \n",
       "4            0      137             40             35      168  43.1   \n",
       "\n",
       "   DiabetesPedigreeFunction  Age  Outcome  \n",
       "0                     0.627   50        1  \n",
       "1                     0.351   31        0  \n",
       "2                     0.672   32        1  \n",
       "3                     0.167   21        0  \n",
       "4                     2.288   33        1  "
      ]
     },
     "execution_count": 3,
     "metadata": {},
     "output_type": "execute_result"
    }
   ],
   "source": [
    "path = r'D:\\Learn_Bay_Deployment\\diabetes.csv'\n",
    "dataset = pd.read_csv(path)\n",
    "dataset.head()"
   ]
  },
  {
   "cell_type": "code",
   "execution_count": 4,
   "id": "f2224de6",
   "metadata": {},
   "outputs": [
    {
     "data": {
      "text/plain": [
       "Pregnancies                 0\n",
       "Glucose                     0\n",
       "BloodPressure               0\n",
       "SkinThickness               0\n",
       "Insulin                     0\n",
       "BMI                         0\n",
       "DiabetesPedigreeFunction    0\n",
       "Age                         0\n",
       "Outcome                     0\n",
       "dtype: int64"
      ]
     },
     "execution_count": 4,
     "metadata": {},
     "output_type": "execute_result"
    }
   ],
   "source": [
    "# Check Missing Values\n",
    "dataset.isnull().sum()"
   ]
  },
  {
   "cell_type": "code",
   "execution_count": 5,
   "id": "bb6a5b3f",
   "metadata": {},
   "outputs": [
    {
     "name": "stdout",
     "output_type": "stream",
     "text": [
      "****************************** Pregnancies ******************************\n",
      "\n",
      "{0, 1, 2, 3, 4, 5, 6, 7, 8, 9, 10, 11, 12, 13, 14, 15, 17}\n",
      "\n",
      "****************************** Glucose ******************************\n",
      "\n",
      "{0, 44, 56, 57, 61, 62, 65, 67, 68, 71, 72, 73, 74, 75, 76, 77, 78, 79, 80, 81, 82, 83, 84, 85, 86, 87, 88, 89, 90, 91, 92, 93, 94, 95, 96, 97, 98, 99, 100, 101, 102, 103, 104, 105, 106, 107, 108, 109, 110, 111, 112, 113, 114, 115, 116, 117, 118, 119, 120, 121, 122, 123, 124, 125, 126, 127, 128, 129, 130, 131, 132, 133, 134, 135, 136, 137, 138, 139, 140, 141, 142, 143, 144, 145, 146, 147, 148, 149, 150, 151, 152, 153, 154, 155, 156, 157, 158, 159, 160, 161, 162, 163, 164, 165, 166, 167, 168, 169, 170, 171, 172, 173, 174, 175, 176, 177, 178, 179, 180, 181, 182, 183, 184, 186, 187, 188, 189, 190, 191, 193, 194, 195, 196, 197, 198, 199}\n",
      "\n",
      "****************************** BloodPressure ******************************\n",
      "\n",
      "{0, 24, 30, 38, 40, 44, 46, 48, 50, 52, 54, 55, 56, 58, 60, 61, 62, 64, 65, 66, 68, 70, 72, 74, 75, 76, 78, 80, 82, 84, 85, 86, 88, 90, 92, 94, 95, 96, 98, 100, 102, 104, 106, 108, 110, 114, 122}\n",
      "\n",
      "****************************** SkinThickness ******************************\n",
      "\n",
      "{0, 7, 8, 10, 11, 12, 13, 14, 15, 16, 17, 18, 19, 20, 21, 22, 23, 24, 25, 26, 27, 28, 29, 30, 31, 32, 33, 34, 35, 36, 37, 38, 39, 40, 41, 42, 43, 44, 45, 46, 47, 48, 49, 50, 51, 52, 54, 56, 60, 63, 99}\n",
      "\n",
      "****************************** Insulin ******************************\n",
      "\n",
      "{0, 14, 15, 16, 18, 22, 23, 25, 540, 29, 543, 32, 545, 36, 37, 38, 40, 41, 42, 43, 44, 45, 46, 48, 49, 50, 51, 52, 53, 54, 55, 56, 57, 58, 59, 60, 61, 63, 64, 65, 66, 67, 68, 579, 70, 71, 72, 73, 74, 75, 76, 77, 78, 79, 81, 82, 83, 84, 85, 86, 87, 88, 89, 90, 600, 92, 91, 94, 95, 96, 99, 100, 105, 106, 108, 110, 112, 114, 115, 116, 119, 120, 122, 125, 126, 127, 128, 129, 130, 132, 135, 140, 142, 144, 145, 146, 148, 150, 152, 155, 156, 158, 159, 160, 165, 166, 167, 168, 680, 170, 171, 175, 176, 178, 180, 182, 183, 184, 185, 188, 190, 191, 192, 193, 194, 196, 200, 204, 205, 207, 210, 215, 220, 225, 228, 230, 231, 744, 235, 237, 240, 245, 249, 250, 255, 258, 265, 270, 271, 272, 274, 275, 277, 278, 280, 284, 285, 291, 293, 300, 304, 310, 318, 321, 325, 326, 328, 330, 846, 335, 342, 360, 370, 375, 387, 392, 402, 415, 440, 465, 474, 478, 480, 485, 495, 510}\n",
      "\n",
      "****************************** BMI ******************************\n",
      "\n",
      "{0.0, 37.3, 18.4, 19.9, 19.4, 19.6, 22.2, 23.3, 24.4, 23.2, 25.8, 27.6, 27.4, 28.0, 28.9, 28.6, 32.8, 29.0, 29.7, 26.6, 27.1, 28.1, 30.1, 30.0, 33.6, 35.3, 37.6, 38.0, 39.3, 39.8, 43.1, 43.3, 45.8, 45.4, 42.0, 46.8, 48.8, 46.7, 49.7, 53.2, 55.0, 50.0, 52.3, 52.9, 59.4, 57.3, 32.2, 67.1, 35.6, 40.8, 36.1, 19.1, 19.5, 20.4, 20.0, 20.1, 21.1, 21.9, 21.0, 41.3, 22.4, 22.5, 22.6, 22.9, 22.1, 23.0, 23.9, 23.6, 23.5, 23.1, 24.6, 24.0, 24.9, 24.5, 23.4, 25.6, 25.4, 25.0, 25.9, 25.1, 26.5, 26.1, 26.0, 25.5, 26.4, 27.9, 27.5, 27.0, 42.3, 26.9, 28.4, 34.4, 28.5, 38.1, 29.6, 29.5, 29.9, 38.6, 30.5, 30.4, 30.9, 31.0, 31.1, 31.6, 31.9, 32.5, 32.0, 32.9, 32.6, 32.4, 33.2, 33.7, 33.9, 33.3, 33.8, 34.6, 34.1, 34.0, 34.7, 34.3, 35.4, 35.1, 34.2, 34.5, 34.9, 36.6, 36.0, 36.9, 35.9, 35.5, 37.1, 37.7, 37.4, 37.2, 37.5, 38.2, 38.5, 38.3, 37.8, 37.9, 39.4, 39.1, 39.0, 39.6, 39.5, 40.2, 40.5, 40.6, 40.9, 32.7, 41.5, 33.1, 40.1, 41.8, 40.0, 42.7, 42.9, 42.8, 42.6, 41.0, 43.4, 43.2, 43.5, 43.6, 42.2, 44.2, 44.0, 44.1, 44.6, 44.5, 45.0, 45.2, 45.6, 45.5, 45.7, 46.2, 45.3, 46.1, 46.5, 46.3, 47.9, 38.4, 48.3, 38.9, 42.1, 49.6, 49.3, 39.9, 35.7, 35.2, 24.1, 36.7, 36.2, 33.5, 42.4, 36.4, 18.2, 19.3, 38.7, 20.8, 21.8, 21.2, 21.7, 22.7, 22.3, 23.8, 23.7, 35.0, 24.2, 24.7, 24.8, 24.3, 39.7, 25.2, 25.3, 39.2, 26.8, 26.2, 26.7, 26.3, 27.3, 27.7, 27.8, 32.3, 27.2, 28.7, 28.2, 28.8, 36.5, 28.3, 29.3, 29.2, 29.8, 40.7, 30.8, 30.7, 30.2, 30.3, 31.2, 31.3, 37.0, 41.2, 34.8, 35.8, 38.8, 36.3, 36.8, 32.1}\n",
      "\n",
      "****************************** DiabetesPedigreeFunction ******************************\n",
      "\n",
      "{0.351, 0.484, 1.189, 0.375, 0.875, 0.851, 0.665, 1.101, 1.476, 0.391, 1.391, 2.42, 0.398, 0.828, 0.218, 0.101, 0.226, 0.234, 0.21, 0.46, 0.601, 0.335, 0.624, 0.968, 0.593, 0.085, 1.022, 0.42, 0.178, 0.186, 0.287, 0.412, 0.452, 0.343, 0.319, 0.444, 0.702, 0.6, 0.498, 0.748, 0.17, 0.162, 0.154, 0.271, 0.396, 0.771, 0.646, 1.114, 0.826, 0.435, 0.654, 0.404, 0.84, 0.279, 0.255, 0.13, 0.38, 0.356, 0.731, 0.545, 0.247, 0.997, 0.122, 0.497, 1.154, 0.27, 0.395, 0.645, 0.52, 0.825, 0.575, 0.543, 0.231, 0.207, 0.223, 0.215, 0.598, 0.332, 1.191, 0.496, 0.121, 0.371, 0.246, 0.871, 0.394, 0.269, 0.324, 0.199, 0.34, 0.457, 0.191, 0.183, 0.433, 0.284, 0.292, 0.699, 0.949, 0.542, 0.917, 1.292, 0.597, 0.722, 0.472, 0.347, 1.222, 0.245, 0.37, 0.495, 0.745, 0.167, 0.159, 0.151, 0.143, 1.213, 0.409, 0.268, 0.893, 0.393, 1.893, 1.268, 0.698, 0.182, 1.698, 0.666, 0.471, 0.346, 0.721, 0.33, 0.455, 0.627, 0.587, 0.696, 0.526, 0.962, 1.441, 0.244, 0.933, 0.744, 0.619, 1.781, 0.408, 1.174, 0.892, 0.947, 0.181, 0.22, 0.204, 0.212, 0.845, 0.345, 0.97, 0.595, 1.095, 0.493, 0.118, 1.461, 0.289, 0.329, 0.454, 0.337, 0.305, 0.188, 0.18, 0.446, 0.422, 0.313, 0.516, 0.821, 0.571, 0.43, 1.321, 1.001, 1.251, 0.719, 0.164, 0.867, 0.742, 0.156, 0.148, 0.265, 0.515, 0.695, 0.709, 0.773, 0.374, 0.874, 0.249, 0.499, 0.539, 0.725, 0.14, 0.64, 0.718, 0.686, 0.561, 0.491, 0.741, 0.241, 0.366, 0.108, 0.514, 0.389, 0.264, 0.092, 0.569, 0.209, 0.225, 0.944, 0.233, 0.1, 0.303, 0.217, 0.537, 0.787, 0.717, 0.084, 0.56, 0.615, 0.24, 0.365, 0.443, 0.318, 0.286, 0.326, 0.201, 0.334, 0.411, 0.451, 0.294, 0.388, 0.263, 0.138, 1.731, 0.693, 0.427, 0.302, 0.177, 0.536, 0.661, 0.966, 0.591, 0.559, 0.153, 0.161, 0.145, 1.021, 0.239, 0.364, 0.614, 0.512, 0.262, 0.137, 0.637, 2.137, 0.817, 0.692, 0.176, 0.426, 0.66, 0.785, 0.254, 0.238, 2.288, 0.677, 0.613, 0.278, 0.403, 0.839, 1.4, 0.129, 1.318, 2.329, 0.808, 0.738, 0.488, 0.886, 0.089, 0.23, 0.206, 0.222, 0.816, 0.3, 0.175, 0.534, 1.159, 1.034, 0.682, 1.144, 1.394, 0.362, 0.283, 0.198, 0.307, 0.323, 0.299, 0.464, 0.19, 0.315, 0.331, 0.432, 0.26, 0.385, 0.135, 0.51, 0.565, 0.174, 0.658, 0.588, 0.447, 0.166, 0.158, 0.142, 0.15, 0.361, 0.236, 0.759, 0.259, 0.134, 0.509, 0.564, 0.423, 0.267, 0.767, 0.703, 0.578, 0.368, 0.743, 0.557, 0.932, 0.243, 0.344, 0.532, 1.282, 0.196, 0.93, 0.805, 0.68, 0.102, 0.235, 0.485, 0.735, 0.61, 0.227, 0.258, 0.383, 0.219, 0.133, 1.258, 0.813, 0.297, 0.078, 0.586, 0.711, 0.554, 0.804, 0.187, 0.304, 0.179, 0.203, 0.296, 0.336, 0.421, 0.328, 0.453, 0.734, 0.257, 0.382, 0.757, 0.507, 1.6, 0.905, 0.655, 0.28, 0.147, 0.163, 0.155, 0.171, 0.194, 0.678, 0.803, 1.39, 0.733, 0.483, 0.358, 0.342, 0.467, 1.076, 0.256, 0.881, 0.381, 0.631, 0.248, 0.546, 0.583, 0.647, 0.272, 0.833, 0.687, 0.123, 0.349, 1.224, 0.529, 0.904, 0.295, 0.107, 0.115, 0.607, 0.482, 0.732, 0.232, 1.162, 0.63, 0.88, 0.419, 0.528, 0.317, 0.551, 0.192, 0.325, 0.293, 0.434, 0.2, 0.285, 1.138, 0.466, 0.341, 0.856, 0.465, 1.699, 0.629, 0.652, 0.402, 0.527, 0.16, 0.144, 0.582, 0.832, 0.441, 0.925, 0.855, 0.605, 0.355, 0.73, 0.503, 0.128, 0.378, 0.878, 0.253, 0.261, 0.761, 0.572, 0.136, 0.487, 0.237, 0.801, 0.926, 0.612, 0.277, 1.096, 0.417, 0.401, 0.956, 0.831, 0.674, 0.549, 1.136, 0.479, 0.338, 0.205, 0.088, 0.096, 0.229, 0.221, 1.072, 0.127, 0.252, 0.502, 1.127, 0.416, 1.182, 1.057, 0.525, 0.4, 0.58, 0.955, 0.705, 0.314, 0.439, 0.431, 0.306, 0.407, 0.282, 0.197, 0.173, 0.189, 0.673, 0.29, 0.463, 1.353, 0.251, 0.626, 0.376, 0.126, 0.501, 0.415, 0.165, 0.399, 0.157, 0.141, 0.649, 0.149, 0.704, 0.672, 0.547, 0.766, 0.727, 0.352}\n",
      "\n",
      "****************************** Age ******************************\n",
      "\n",
      "{21, 22, 23, 24, 25, 26, 27, 28, 29, 30, 31, 32, 33, 34, 35, 36, 37, 38, 39, 40, 41, 42, 43, 44, 45, 46, 47, 48, 49, 50, 51, 52, 53, 54, 55, 56, 57, 58, 59, 60, 61, 62, 63, 64, 65, 66, 67, 68, 69, 70, 72, 81}\n",
      "\n",
      "****************************** Outcome ******************************\n",
      "\n",
      "{0, 1}\n",
      "\n"
     ]
    }
   ],
   "source": [
    "for i in dataset.columns:\n",
    "    print('*'*30,i,'*'*30)\n",
    "    print()\n",
    "    print(set(dataset[i].unique()))\n",
    "    print()"
   ]
  },
  {
   "cell_type": "code",
   "execution_count": 6,
   "id": "b86a1e97",
   "metadata": {},
   "outputs": [
    {
     "data": {
      "text/html": [
       "<div>\n",
       "<style scoped>\n",
       "    .dataframe tbody tr th:only-of-type {\n",
       "        vertical-align: middle;\n",
       "    }\n",
       "\n",
       "    .dataframe tbody tr th {\n",
       "        vertical-align: top;\n",
       "    }\n",
       "\n",
       "    .dataframe thead th {\n",
       "        text-align: right;\n",
       "    }\n",
       "</style>\n",
       "<table border=\"1\" class=\"dataframe\">\n",
       "  <thead>\n",
       "    <tr style=\"text-align: right;\">\n",
       "      <th></th>\n",
       "      <th>Pregnancies</th>\n",
       "      <th>Glucose</th>\n",
       "      <th>BloodPressure</th>\n",
       "      <th>SkinThickness</th>\n",
       "      <th>Insulin</th>\n",
       "      <th>BMI</th>\n",
       "      <th>DiabetesPedigreeFunction</th>\n",
       "      <th>Age</th>\n",
       "      <th>Outcome</th>\n",
       "    </tr>\n",
       "  </thead>\n",
       "  <tbody>\n",
       "    <tr>\n",
       "      <th>count</th>\n",
       "      <td>768.000000</td>\n",
       "      <td>768.000000</td>\n",
       "      <td>768.000000</td>\n",
       "      <td>768.000000</td>\n",
       "      <td>768.000000</td>\n",
       "      <td>768.000000</td>\n",
       "      <td>768.000000</td>\n",
       "      <td>768.000000</td>\n",
       "      <td>768.000000</td>\n",
       "    </tr>\n",
       "    <tr>\n",
       "      <th>mean</th>\n",
       "      <td>3.845052</td>\n",
       "      <td>120.894531</td>\n",
       "      <td>69.105469</td>\n",
       "      <td>20.536458</td>\n",
       "      <td>79.799479</td>\n",
       "      <td>31.992578</td>\n",
       "      <td>0.471876</td>\n",
       "      <td>33.240885</td>\n",
       "      <td>0.348958</td>\n",
       "    </tr>\n",
       "    <tr>\n",
       "      <th>std</th>\n",
       "      <td>3.369578</td>\n",
       "      <td>31.972618</td>\n",
       "      <td>19.355807</td>\n",
       "      <td>15.952218</td>\n",
       "      <td>115.244002</td>\n",
       "      <td>7.884160</td>\n",
       "      <td>0.331329</td>\n",
       "      <td>11.760232</td>\n",
       "      <td>0.476951</td>\n",
       "    </tr>\n",
       "    <tr>\n",
       "      <th>min</th>\n",
       "      <td>0.000000</td>\n",
       "      <td>0.000000</td>\n",
       "      <td>0.000000</td>\n",
       "      <td>0.000000</td>\n",
       "      <td>0.000000</td>\n",
       "      <td>0.000000</td>\n",
       "      <td>0.078000</td>\n",
       "      <td>21.000000</td>\n",
       "      <td>0.000000</td>\n",
       "    </tr>\n",
       "    <tr>\n",
       "      <th>25%</th>\n",
       "      <td>1.000000</td>\n",
       "      <td>99.000000</td>\n",
       "      <td>62.000000</td>\n",
       "      <td>0.000000</td>\n",
       "      <td>0.000000</td>\n",
       "      <td>27.300000</td>\n",
       "      <td>0.243750</td>\n",
       "      <td>24.000000</td>\n",
       "      <td>0.000000</td>\n",
       "    </tr>\n",
       "    <tr>\n",
       "      <th>50%</th>\n",
       "      <td>3.000000</td>\n",
       "      <td>117.000000</td>\n",
       "      <td>72.000000</td>\n",
       "      <td>23.000000</td>\n",
       "      <td>30.500000</td>\n",
       "      <td>32.000000</td>\n",
       "      <td>0.372500</td>\n",
       "      <td>29.000000</td>\n",
       "      <td>0.000000</td>\n",
       "    </tr>\n",
       "    <tr>\n",
       "      <th>75%</th>\n",
       "      <td>6.000000</td>\n",
       "      <td>140.250000</td>\n",
       "      <td>80.000000</td>\n",
       "      <td>32.000000</td>\n",
       "      <td>127.250000</td>\n",
       "      <td>36.600000</td>\n",
       "      <td>0.626250</td>\n",
       "      <td>41.000000</td>\n",
       "      <td>1.000000</td>\n",
       "    </tr>\n",
       "    <tr>\n",
       "      <th>max</th>\n",
       "      <td>17.000000</td>\n",
       "      <td>199.000000</td>\n",
       "      <td>122.000000</td>\n",
       "      <td>99.000000</td>\n",
       "      <td>846.000000</td>\n",
       "      <td>67.100000</td>\n",
       "      <td>2.420000</td>\n",
       "      <td>81.000000</td>\n",
       "      <td>1.000000</td>\n",
       "    </tr>\n",
       "  </tbody>\n",
       "</table>\n",
       "</div>"
      ],
      "text/plain": [
       "       Pregnancies     Glucose  BloodPressure  SkinThickness     Insulin  \\\n",
       "count   768.000000  768.000000     768.000000     768.000000  768.000000   \n",
       "mean      3.845052  120.894531      69.105469      20.536458   79.799479   \n",
       "std       3.369578   31.972618      19.355807      15.952218  115.244002   \n",
       "min       0.000000    0.000000       0.000000       0.000000    0.000000   \n",
       "25%       1.000000   99.000000      62.000000       0.000000    0.000000   \n",
       "50%       3.000000  117.000000      72.000000      23.000000   30.500000   \n",
       "75%       6.000000  140.250000      80.000000      32.000000  127.250000   \n",
       "max      17.000000  199.000000     122.000000      99.000000  846.000000   \n",
       "\n",
       "              BMI  DiabetesPedigreeFunction         Age     Outcome  \n",
       "count  768.000000                768.000000  768.000000  768.000000  \n",
       "mean    31.992578                  0.471876   33.240885    0.348958  \n",
       "std      7.884160                  0.331329   11.760232    0.476951  \n",
       "min      0.000000                  0.078000   21.000000    0.000000  \n",
       "25%     27.300000                  0.243750   24.000000    0.000000  \n",
       "50%     32.000000                  0.372500   29.000000    0.000000  \n",
       "75%     36.600000                  0.626250   41.000000    1.000000  \n",
       "max     67.100000                  2.420000   81.000000    1.000000  "
      ]
     },
     "execution_count": 6,
     "metadata": {},
     "output_type": "execute_result"
    }
   ],
   "source": [
    "dataset.describe()"
   ]
  },
  {
   "cell_type": "code",
   "execution_count": 10,
   "id": "12e4ad7b",
   "metadata": {},
   "outputs": [
    {
     "data": {
      "image/png": "[encoded data removed]",
      "text/plain": [
       "<Figure size 432x288 with 1 Axes>"
      ]
     },
     "metadata": {},
     "output_type": "display_data"
    },
    {
     "data": {
      "image/png": "[encoded data removed]",
      "text/plain": [
       "<Figure size 432x288 with 1 Axes>"
      ]
     },
     "metadata": {},
     "output_type": "display_data"
    },
    {
     "data": {
      "image/png": "[encoded data removed]",
      "text/plain": [
       "<Figure size 432x288 with 1 Axes>"
      ]
     },
     "metadata": {},
     "output_type": "display_data"
    },
    {
     "data": {
      "image/png": "[encoded data removed]",
      "text/plain": [
       "<Figure size 432x288 with 1 Axes>"
      ]
     },
     "metadata": {},
     "output_type": "display_data"
    },
    {
     "data": {
      "image/png": "[encoded data removed]",
      "text/plain": [
       "<Figure size 432x288 with 1 Axes>"
      ]
     },
     "metadata": {},
     "output_type": "display_data"
    },
    {
     "data": {
      "image/png": "[encoded data removed]",
      "text/plain": [
       "<Figure size 432x288 with 1 Axes>"
      ]
     },
     "metadata": {},
     "output_type": "display_data"
    },
    {
     "data": {
      "image/png": "[encoded data removed]",
      "text/plain": [
       "<Figure size 432x288 with 1 Axes>"
      ]
     },
     "metadata": {},
     "output_type": "display_data"
    },
    {
     "data": {
      "image/png": "[encoded data removed]",
      "text/plain": [
       "<Figure size 432x288 with 1 Axes>"
      ]
     },
     "metadata": {},
     "output_type": "display_data"
    },
    {
     "data": {
      "image/png": "[encoded data removed]",
      "text/plain": [
       "<Figure size 432x288 with 1 Axes>"
      ]
     },
     "metadata": {},
     "output_type": "display_data"
    }
   ],
   "source": [
    "def boxplots(col):\n",
    "    sns.boxplot(y=dataset[col])\n",
    "    plt.show()\n",
    "    \n",
    "for i in list(dataset.select_dtypes(exclude='object').columns)[0:]:\n",
    "    boxplots(i)"
   ]
  },
  {
   "cell_type": "code",
   "execution_count": 11,
   "id": "4528632e",
   "metadata": {},
   "outputs": [],
   "source": [
    "dataset['Glucose'] = np.where(dataset['Glucose']==0,dataset['Glucose'].median(),dataset['Glucose'])\n",
    "dataset['BloodPressure'] = np.where(dataset['BloodPressure']==0,dataset['BloodPressure'].median(),dataset['BloodPressure'])\n",
    "dataset['SkinThickness'] = np.where(dataset['SkinThickness']==0,dataset['SkinThickness'].median(),dataset['SkinThickness'])\n",
    "dataset['Insulin'] = np.where(dataset['Insulin']==0,dataset['Insulin'].median(),dataset['Insulin'])\n",
    "dataset['BMI'] = np.where(dataset['BMI']==0,dataset['BMI'].median(),dataset['BMI'])"
   ]
  },
  {
   "cell_type": "code",
   "execution_count": 12,
   "id": "21e0bc28",
   "metadata": {},
   "outputs": [
    {
     "data": {
      "text/html": [
       "<div>\n",
       "<style scoped>\n",
       "    .dataframe tbody tr th:only-of-type {\n",
       "        vertical-align: middle;\n",
       "    }\n",
       "\n",
       "    .dataframe tbody tr th {\n",
       "        vertical-align: top;\n",
       "    }\n",
       "\n",
       "    .dataframe thead th {\n",
       "        text-align: right;\n",
       "    }\n",
       "</style>\n",
       "<table border=\"1\" class=\"dataframe\">\n",
       "  <thead>\n",
       "    <tr style=\"text-align: right;\">\n",
       "      <th></th>\n",
       "      <th>Pregnancies</th>\n",
       "      <th>Glucose</th>\n",
       "      <th>BloodPressure</th>\n",
       "      <th>SkinThickness</th>\n",
       "      <th>Insulin</th>\n",
       "      <th>BMI</th>\n",
       "      <th>DiabetesPedigreeFunction</th>\n",
       "      <th>Age</th>\n",
       "      <th>Outcome</th>\n",
       "    </tr>\n",
       "  </thead>\n",
       "  <tbody>\n",
       "    <tr>\n",
       "      <th>count</th>\n",
       "      <td>768.000000</td>\n",
       "      <td>768.000000</td>\n",
       "      <td>768.000000</td>\n",
       "      <td>768.000000</td>\n",
       "      <td>768.000000</td>\n",
       "      <td>768.000000</td>\n",
       "      <td>768.000000</td>\n",
       "      <td>768.000000</td>\n",
       "      <td>768.000000</td>\n",
       "    </tr>\n",
       "    <tr>\n",
       "      <th>mean</th>\n",
       "      <td>3.845052</td>\n",
       "      <td>121.656250</td>\n",
       "      <td>72.386719</td>\n",
       "      <td>27.334635</td>\n",
       "      <td>94.652344</td>\n",
       "      <td>32.450911</td>\n",
       "      <td>0.471876</td>\n",
       "      <td>33.240885</td>\n",
       "      <td>0.348958</td>\n",
       "    </tr>\n",
       "    <tr>\n",
       "      <th>std</th>\n",
       "      <td>3.369578</td>\n",
       "      <td>30.438286</td>\n",
       "      <td>12.096642</td>\n",
       "      <td>9.229014</td>\n",
       "      <td>105.547598</td>\n",
       "      <td>6.875366</td>\n",
       "      <td>0.331329</td>\n",
       "      <td>11.760232</td>\n",
       "      <td>0.476951</td>\n",
       "    </tr>\n",
       "    <tr>\n",
       "      <th>min</th>\n",
       "      <td>0.000000</td>\n",
       "      <td>44.000000</td>\n",
       "      <td>24.000000</td>\n",
       "      <td>7.000000</td>\n",
       "      <td>14.000000</td>\n",
       "      <td>18.200000</td>\n",
       "      <td>0.078000</td>\n",
       "      <td>21.000000</td>\n",
       "      <td>0.000000</td>\n",
       "    </tr>\n",
       "    <tr>\n",
       "      <th>25%</th>\n",
       "      <td>1.000000</td>\n",
       "      <td>99.750000</td>\n",
       "      <td>64.000000</td>\n",
       "      <td>23.000000</td>\n",
       "      <td>30.500000</td>\n",
       "      <td>27.500000</td>\n",
       "      <td>0.243750</td>\n",
       "      <td>24.000000</td>\n",
       "      <td>0.000000</td>\n",
       "    </tr>\n",
       "    <tr>\n",
       "      <th>50%</th>\n",
       "      <td>3.000000</td>\n",
       "      <td>117.000000</td>\n",
       "      <td>72.000000</td>\n",
       "      <td>23.000000</td>\n",
       "      <td>31.250000</td>\n",
       "      <td>32.000000</td>\n",
       "      <td>0.372500</td>\n",
       "      <td>29.000000</td>\n",
       "      <td>0.000000</td>\n",
       "    </tr>\n",
       "    <tr>\n",
       "      <th>75%</th>\n",
       "      <td>6.000000</td>\n",
       "      <td>140.250000</td>\n",
       "      <td>80.000000</td>\n",
       "      <td>32.000000</td>\n",
       "      <td>127.250000</td>\n",
       "      <td>36.600000</td>\n",
       "      <td>0.626250</td>\n",
       "      <td>41.000000</td>\n",
       "      <td>1.000000</td>\n",
       "    </tr>\n",
       "    <tr>\n",
       "      <th>max</th>\n",
       "      <td>17.000000</td>\n",
       "      <td>199.000000</td>\n",
       "      <td>122.000000</td>\n",
       "      <td>99.000000</td>\n",
       "      <td>846.000000</td>\n",
       "      <td>67.100000</td>\n",
       "      <td>2.420000</td>\n",
       "      <td>81.000000</td>\n",
       "      <td>1.000000</td>\n",
       "    </tr>\n",
       "  </tbody>\n",
       "</table>\n",
       "</div>"
      ],
      "text/plain": [
       "       Pregnancies     Glucose  BloodPressure  SkinThickness     Insulin  \\\n",
       "count   768.000000  768.000000     768.000000     768.000000  768.000000   \n",
       "mean      3.845052  121.656250      72.386719      27.334635   94.652344   \n",
       "std       3.369578   30.438286      12.096642       9.229014  105.547598   \n",
       "min       0.000000   44.000000      24.000000       7.000000   14.000000   \n",
       "25%       1.000000   99.750000      64.000000      23.000000   30.500000   \n",
       "50%       3.000000  117.000000      72.000000      23.000000   31.250000   \n",
       "75%       6.000000  140.250000      80.000000      32.000000  127.250000   \n",
       "max      17.000000  199.000000     122.000000      99.000000  846.000000   \n",
       "\n",
       "              BMI  DiabetesPedigreeFunction         Age     Outcome  \n",
       "count  768.000000                768.000000  768.000000  768.000000  \n",
       "mean    32.450911                  0.471876   33.240885    0.348958  \n",
       "std      6.875366                  0.331329   11.760232    0.476951  \n",
       "min     18.200000                  0.078000   21.000000    0.000000  \n",
       "25%     27.500000                  0.243750   24.000000    0.000000  \n",
       "50%     32.000000                  0.372500   29.000000    0.000000  \n",
       "75%     36.600000                  0.626250   41.000000    1.000000  \n",
       "max     67.100000                  2.420000   81.000000    1.000000  "
      ]
     },
     "execution_count": 12,
     "metadata": {},
     "output_type": "execute_result"
    }
   ],
   "source": [
    "dataset.describe()"
   ]
  },
  {
   "cell_type": "code",
   "execution_count": 13,
   "id": "ce99f768",
   "metadata": {},
   "outputs": [
    {
     "data": {
      "text/html": [
       "<div>\n",
       "<style scoped>\n",
       "    .dataframe tbody tr th:only-of-type {\n",
       "        vertical-align: middle;\n",
       "    }\n",
       "\n",
       "    .dataframe tbody tr th {\n",
       "        vertical-align: top;\n",
       "    }\n",
       "\n",
       "    .dataframe thead th {\n",
       "        text-align: right;\n",
       "    }\n",
       "</style>\n",
       "<table border=\"1\" class=\"dataframe\">\n",
       "  <thead>\n",
       "    <tr style=\"text-align: right;\">\n",
       "      <th></th>\n",
       "      <th>Pregnancies</th>\n",
       "      <th>Glucose</th>\n",
       "      <th>BloodPressure</th>\n",
       "      <th>SkinThickness</th>\n",
       "      <th>Insulin</th>\n",
       "      <th>BMI</th>\n",
       "      <th>DiabetesPedigreeFunction</th>\n",
       "      <th>Age</th>\n",
       "      <th>Outcome</th>\n",
       "    </tr>\n",
       "  </thead>\n",
       "  <tbody>\n",
       "    <tr>\n",
       "      <th>0</th>\n",
       "      <td>6</td>\n",
       "      <td>148.0</td>\n",
       "      <td>72.0</td>\n",
       "      <td>35.0</td>\n",
       "      <td>30.5</td>\n",
       "      <td>33.6</td>\n",
       "      <td>0.627</td>\n",
       "      <td>50</td>\n",
       "      <td>1</td>\n",
       "    </tr>\n",
       "    <tr>\n",
       "      <th>1</th>\n",
       "      <td>1</td>\n",
       "      <td>85.0</td>\n",
       "      <td>66.0</td>\n",
       "      <td>29.0</td>\n",
       "      <td>30.5</td>\n",
       "      <td>26.6</td>\n",
       "      <td>0.351</td>\n",
       "      <td>31</td>\n",
       "      <td>0</td>\n",
       "    </tr>\n",
       "    <tr>\n",
       "      <th>2</th>\n",
       "      <td>8</td>\n",
       "      <td>183.0</td>\n",
       "      <td>64.0</td>\n",
       "      <td>23.0</td>\n",
       "      <td>30.5</td>\n",
       "      <td>23.3</td>\n",
       "      <td>0.672</td>\n",
       "      <td>32</td>\n",
       "      <td>1</td>\n",
       "    </tr>\n",
       "    <tr>\n",
       "      <th>3</th>\n",
       "      <td>1</td>\n",
       "      <td>89.0</td>\n",
       "      <td>66.0</td>\n",
       "      <td>23.0</td>\n",
       "      <td>94.0</td>\n",
       "      <td>28.1</td>\n",
       "      <td>0.167</td>\n",
       "      <td>21</td>\n",
       "      <td>0</td>\n",
       "    </tr>\n",
       "    <tr>\n",
       "      <th>4</th>\n",
       "      <td>0</td>\n",
       "      <td>137.0</td>\n",
       "      <td>40.0</td>\n",
       "      <td>35.0</td>\n",
       "      <td>168.0</td>\n",
       "      <td>43.1</td>\n",
       "      <td>2.288</td>\n",
       "      <td>33</td>\n",
       "      <td>1</td>\n",
       "    </tr>\n",
       "  </tbody>\n",
       "</table>\n",
       "</div>"
      ],
      "text/plain": [
       "   Pregnancies  Glucose  BloodPressure  SkinThickness  Insulin   BMI  \\\n",
       "0            6    148.0           72.0           35.0     30.5  33.6   \n",
       "1            1     85.0           66.0           29.0     30.5  26.6   \n",
       "2            8    183.0           64.0           23.0     30.5  23.3   \n",
       "3            1     89.0           66.0           23.0     94.0  28.1   \n",
       "4            0    137.0           40.0           35.0    168.0  43.1   \n",
       "\n",
       "   DiabetesPedigreeFunction  Age  Outcome  \n",
       "0                     0.627   50        1  \n",
       "1                     0.351   31        0  \n",
       "2                     0.672   32        1  \n",
       "3                     0.167   21        0  \n",
       "4                     2.288   33        1  "
      ]
     },
     "execution_count": 13,
     "metadata": {},
     "output_type": "execute_result"
    }
   ],
   "source": [
    "dataset.head()"
   ]
  },
  {
   "cell_type": "code",
   "execution_count": 14,
   "id": "9f112434",
   "metadata": {},
   "outputs": [
    {
     "data": {
      "text/plain": [
       "0    500\n",
       "1    268\n",
       "Name: Outcome, dtype: int64"
      ]
     },
     "execution_count": 14,
     "metadata": {},
     "output_type": "execute_result"
    }
   ],
   "source": [
    "dataset['Outcome'].value_counts()"
   ]
  },
  {
   "cell_type": "code",
   "execution_count": 15,
   "id": "d421f554",
   "metadata": {},
   "outputs": [
    {
     "data": {
      "text/plain": [
       "0    65.104167\n",
       "1    34.895833\n",
       "Name: Outcome, dtype: float64"
      ]
     },
     "execution_count": 15,
     "metadata": {},
     "output_type": "execute_result"
    }
   ],
   "source": [
    "dataset['Outcome'].value_counts(normalize=True)*100"
   ]
  },
  {
   "cell_type": "code",
   "execution_count": 17,
   "id": "54e5e696",
   "metadata": {},
   "outputs": [],
   "source": [
    "X = dataset.iloc[:,:-1]\n",
    "Y = dataset.iloc[:,-1]"
   ]
  },
  {
   "cell_type": "code",
   "execution_count": 16,
   "id": "51fa3dfb",
   "metadata": {},
   "outputs": [],
   "source": [
    "# Balance The Data by Using SMOTE\n",
    "\n",
    "from imblearn.over_sampling import SMOTE"
   ]
  },
  {
   "cell_type": "code",
   "execution_count": 18,
   "id": "c58a9533",
   "metadata": {},
   "outputs": [
    {
     "name": "stdout",
     "output_type": "stream",
     "text": [
      "Before Balancing :\n",
      " 0    500\n",
      "1    268\n",
      "Name: Outcome, dtype: int64\n",
      "\n",
      "After Balancing :\n",
      " 1    500\n",
      "0    500\n",
      "Name: Outcome, dtype: int64\n"
     ]
    }
   ],
   "source": [
    "smote = SMOTE()\n",
    "X_smote, Y_smote = smote.fit_resample(X,Y)\n",
    "print(\"Before Balancing :\\n\",Y.value_counts())\n",
    "print()\n",
    "print(\"After Balancing :\\n\",Y_smote.value_counts())"
   ]
  },
  {
   "cell_type": "code",
   "execution_count": 19,
   "id": "71791898",
   "metadata": {},
   "outputs": [],
   "source": [
    "# Split the data into Training and Testing For Model Building :\n",
    "X_train, X_test, Y_train, Y_test = train_test_split(X_smote, Y_smote, test_size=0.25, random_state=1, stratify=Y_smote)"
   ]
  },
  {
   "cell_type": "markdown",
   "id": "88380792",
   "metadata": {},
   "source": [
    "# Bagging Classifier Model"
   ]
  },
  {
   "cell_type": "markdown",
   "id": "f18fad3c",
   "metadata": {},
   "source": [
    "### Model Building :"
   ]
  },
  {
   "cell_type": "code",
   "execution_count": 20,
   "id": "984e48b2",
   "metadata": {},
   "outputs": [
    {
     "data": {
      "text/plain": [
       "BaggingClassifier()"
      ]
     },
     "execution_count": 20,
     "metadata": {},
     "output_type": "execute_result"
    }
   ],
   "source": [
    "bagging = BaggingClassifier()\n",
    "bagging.fit(X_train, Y_train)"
   ]
  },
  {
   "cell_type": "markdown",
   "id": "7f709c39",
   "metadata": {},
   "source": [
    "### Prediction :"
   ]
  },
  {
   "cell_type": "code",
   "execution_count": 21,
   "id": "a9ebacc0",
   "metadata": {},
   "outputs": [],
   "source": [
    "Y_pred_bagging_train = bagging.predict(X_train)\n",
    "Y_pred_bagging_test = bagging.predict(X_test)"
   ]
  },
  {
   "cell_type": "markdown",
   "id": "74d88964",
   "metadata": {},
   "source": [
    "### Evaluation Of Model :"
   ]
  },
  {
   "cell_type": "code",
   "execution_count": 22,
   "id": "af75d1ca",
   "metadata": {},
   "outputs": [
    {
     "name": "stdout",
     "output_type": "stream",
     "text": [
      "Training Classification Report :\n",
      "              precision    recall  f1-score   support\n",
      "\n",
      "           0       0.98      0.99      0.99       375\n",
      "           1       0.99      0.98      0.99       375\n",
      "\n",
      "    accuracy                           0.99       750\n",
      "   macro avg       0.99      0.99      0.99       750\n",
      "weighted avg       0.99      0.99      0.99       750\n",
      "\n",
      "\n",
      "Test Classification Report :\n",
      "              precision    recall  f1-score   support\n",
      "\n",
      "           0       0.75      0.78      0.76       125\n",
      "           1       0.77      0.74      0.75       125\n",
      "\n",
      "    accuracy                           0.76       250\n",
      "   macro avg       0.76      0.76      0.76       250\n",
      "weighted avg       0.76      0.76      0.76       250\n",
      "\n"
     ]
    }
   ],
   "source": [
    "print(f'Training Classification Report :\\n{classification_report(Y_train, Y_pred_bagging_train)}')\n",
    "print()\n",
    "print(f'Test Classification Report :\\n{classification_report(Y_test, Y_pred_bagging_test)}')"
   ]
  },
  {
   "cell_type": "code",
   "execution_count": 23,
   "id": "07814802",
   "metadata": {},
   "outputs": [
    {
     "name": "stdout",
     "output_type": "stream",
     "text": [
      "Training Confusion Matrix :\n",
      "[[372   3]\n",
      " [  8 367]]\n",
      "\n",
      "Test Confusion Matrix :\n",
      "[[97 28]\n",
      " [33 92]]\n"
     ]
    }
   ],
   "source": [
    "print(f'Training Confusion Matrix :\\n{confusion_matrix(Y_train, Y_pred_bagging_train)}')\n",
    "print()\n",
    "print(f'Test Confusion Matrix :\\n{confusion_matrix(Y_test, Y_pred_bagging_test)}')"
   ]
  },
  {
   "cell_type": "code",
   "execution_count": 25,
   "id": "1f4db25a",
   "metadata": {},
   "outputs": [
    {
     "name": "stdout",
     "output_type": "stream",
     "text": [
      "Training Accuracy : 0.99\n",
      "\n",
      "Test Accuracy : 0.76\n"
     ]
    }
   ],
   "source": [
    "print(f'Training Accuracy : {round(accuracy_score(Y_train, Y_pred_bagging_train), 2)}')\n",
    "print()\n",
    "print(f'Test Accuracy : {round(accuracy_score(Y_test, Y_pred_bagging_test), 2)}')"
   ]
  },
  {
   "cell_type": "code",
   "execution_count": 29,
   "id": "45c3bc8f",
   "metadata": {},
   "outputs": [],
   "source": [
    "from sklearn.tree import plot_tree"
   ]
  },
  {
   "cell_type": "code",
   "execution_count": 30,
   "id": "c801d06e",
   "metadata": {},
   "outputs": [
    {
     "data": {
      "text/plain": [
       "[DecisionTreeClassifier(random_state=2007351697),\n",
       " DecisionTreeClassifier(random_state=1302055357),\n",
       " DecisionTreeClassifier(random_state=345254940),\n",
       " DecisionTreeClassifier(random_state=223727278),\n",
       " DecisionTreeClassifier(random_state=2145460370),\n",
       " DecisionTreeClassifier(random_state=2068383615),\n",
       " DecisionTreeClassifier(random_state=1666867597),\n",
       " DecisionTreeClassifier(random_state=1403154163),\n",
       " DecisionTreeClassifier(random_state=1309836300),\n",
       " DecisionTreeClassifier(random_state=1740644445)]"
      ]
     },
     "execution_count": 30,
     "metadata": {},
     "output_type": "execute_result"
    }
   ],
   "source": [
    "bagging.estimators_"
   ]
  },
  {
   "cell_type": "code",
   "execution_count": 31,
   "id": "e45f4e15",
   "metadata": {},
   "outputs": [
    {
     "data": {
      "image/png": "[encoded data removed]",
      "text/plain": [
       "<Figure size 1440x1296 with 1 Axes>"
      ]
     },
     "metadata": {},
     "output_type": "display_data"
    }
   ],
   "source": [
    "plt.figure(figsize=(20,18))\n",
    "plot_tree(bagging.estimators_[0],filled=True)\n",
    "plt.show()"
   ]
  },
  {
   "cell_type": "markdown",
   "id": "b90be9b0",
   "metadata": {},
   "source": [
    "# Random Forest :"
   ]
  },
  {
   "cell_type": "markdown",
   "id": "2438aa52",
   "metadata": {},
   "source": [
    "### Model Building :"
   ]
  },
  {
   "cell_type": "code",
   "execution_count": 26,
   "id": "5cde96f9",
   "metadata": {},
   "outputs": [
    {
     "data": {
      "text/plain": [
       "RandomForestClassifier()"
      ]
     },
     "execution_count": 26,
     "metadata": {},
     "output_type": "execute_result"
    }
   ],
   "source": [
    "RF = RandomForestClassifier()\n",
    "RF.fit(X_train, Y_train)"
   ]
  },
  {
   "cell_type": "markdown",
   "id": "fda380dc",
   "metadata": {},
   "source": [
    "### Prediction :"
   ]
  },
  {
   "cell_type": "code",
   "execution_count": 27,
   "id": "43cf2426",
   "metadata": {},
   "outputs": [],
   "source": [
    "Y_pred_RF_train = RF.predict(X_train)\n",
    "Y_pred_RF_test = RF.predict(X_test)"
   ]
  },
  {
   "cell_type": "markdown",
   "id": "992d8c33",
   "metadata": {},
   "source": [
    "### Evaluation Of Model :"
   ]
  },
  {
   "cell_type": "code",
   "execution_count": 28,
   "id": "cf043e84",
   "metadata": {},
   "outputs": [
    {
     "name": "stdout",
     "output_type": "stream",
     "text": [
      "Training Classification Report :\n",
      "              precision    recall  f1-score   support\n",
      "\n",
      "           0       1.00      1.00      1.00       375\n",
      "           1       1.00      1.00      1.00       375\n",
      "\n",
      "    accuracy                           1.00       750\n",
      "   macro avg       1.00      1.00      1.00       750\n",
      "weighted avg       1.00      1.00      1.00       750\n",
      "\n",
      "\n",
      "Test Classification Report :\n",
      "              precision    recall  f1-score   support\n",
      "\n",
      "           0       0.81      0.77      0.79       125\n",
      "           1       0.78      0.82      0.80       125\n",
      "\n",
      "    accuracy                           0.79       250\n",
      "   macro avg       0.79      0.79      0.79       250\n",
      "weighted avg       0.79      0.79      0.79       250\n",
      "\n"
     ]
    }
   ],
   "source": [
    "print(f'Training Classification Report :\\n{classification_report(Y_train, Y_pred_RF_train)}')\n",
    "print()\n",
    "print(f'Test Classification Report :\\n{classification_report(Y_test, Y_pred_RF_test)}')"
   ]
  },
  {
   "cell_type": "code",
   "execution_count": 32,
   "id": "4a74541d",
   "metadata": {},
   "outputs": [
    {
     "name": "stdout",
     "output_type": "stream",
     "text": [
      "Training Confusion Matrix :\n",
      "[[375   0]\n",
      " [  0 375]]\n",
      "\n",
      "Test Confusion Matrix :\n",
      "[[ 96  29]\n",
      " [ 23 102]]\n"
     ]
    }
   ],
   "source": [
    "print(f'Training Confusion Matrix :\\n{confusion_matrix(Y_train, Y_pred_RF_train)}')\n",
    "print()\n",
    "print(f'Test Confusion Matrix :\\n{confusion_matrix(Y_test, Y_pred_RF_test)}')"
   ]
  },
  {
   "cell_type": "code",
   "execution_count": 33,
   "id": "43c91fb6",
   "metadata": {},
   "outputs": [
    {
     "name": "stdout",
     "output_type": "stream",
     "text": [
      "Training Accuracy : 1.0\n",
      "\n",
      "Test Accuracy : 0.79\n"
     ]
    }
   ],
   "source": [
    "print(f'Training Accuracy : {round(accuracy_score(Y_train, Y_pred_RF_train), 2)}')\n",
    "print()\n",
    "print(f'Test Accuracy : {round(accuracy_score(Y_test, Y_pred_RF_test), 2)}')"
   ]
  },
  {
   "cell_type": "code",
   "execution_count": 63,
   "id": "06a022e3",
   "metadata": {},
   "outputs": [
    {
     "data": {
      "text/plain": [
       "RandomForestClassifier(max_depth=4, max_features=4, n_estimators=250,\n",
       "                       oob_score=True)"
      ]
     },
     "execution_count": 63,
     "metadata": {},
     "output_type": "execute_result"
    }
   ],
   "source": [
    "RF_1 = RandomForestClassifier(criterion='gini', max_features=4, max_depth=4,n_estimators=250, oob_score=True )\n",
    "RF_1.fit(X_train, Y_train)"
   ]
  },
  {
   "cell_type": "code",
   "execution_count": 64,
   "id": "63acadb0",
   "metadata": {},
   "outputs": [],
   "source": [
    "Y_pred_RF1_train = RF_1.predict(X_train)\n",
    "Y_pred_RF1_test = RF_1.predict(X_test)"
   ]
  },
  {
   "cell_type": "code",
   "execution_count": 65,
   "id": "e87f1199",
   "metadata": {},
   "outputs": [
    {
     "name": "stdout",
     "output_type": "stream",
     "text": [
      "Training Classification Report :\n",
      "              precision    recall  f1-score   support\n",
      "\n",
      "           0       0.87      0.77      0.82       375\n",
      "           1       0.80      0.89      0.84       375\n",
      "\n",
      "    accuracy                           0.83       750\n",
      "   macro avg       0.84      0.83      0.83       750\n",
      "weighted avg       0.84      0.83      0.83       750\n",
      "\n",
      "\n",
      "Test Classification Report :\n",
      "              precision    recall  f1-score   support\n",
      "\n",
      "           0       0.81      0.68      0.74       125\n",
      "           1       0.72      0.84      0.78       125\n",
      "\n",
      "    accuracy                           0.76       250\n",
      "   macro avg       0.77      0.76      0.76       250\n",
      "weighted avg       0.77      0.76      0.76       250\n",
      "\n"
     ]
    }
   ],
   "source": [
    "print(f'Training Classification Report :\\n{classification_report(Y_train, Y_pred_RF1_train)}')\n",
    "print()\n",
    "print(f'Test Classification Report :\\n{classification_report(Y_test, Y_pred_RF1_test)}')"
   ]
  },
  {
   "cell_type": "code",
   "execution_count": 66,
   "id": "d6a2703d",
   "metadata": {},
   "outputs": [
    {
     "name": "stdout",
     "output_type": "stream",
     "text": [
      "Training Accuracy : 0.83\n",
      "\n",
      "Test Accuracy : 0.76\n"
     ]
    }
   ],
   "source": [
    "print(f'Training Accuracy : {round(accuracy_score(Y_train, Y_pred_RF1_train), 2)}')\n",
    "print()\n",
    "print(f'Test Accuracy : {round(accuracy_score(Y_test, Y_pred_RF1_test), 2)}')"
   ]
  },
  {
   "cell_type": "code",
   "execution_count": 70,
   "id": "2e20ded3",
   "metadata": {},
   "outputs": [
    {
     "data": {
      "text/plain": [
       "array([0.0340375 , 0.42300587, 0.02849295, 0.02204507, 0.02393692,\n",
       "       0.20352559, 0.07424849, 0.19070762])"
      ]
     },
     "execution_count": 70,
     "metadata": {},
     "output_type": "execute_result"
    }
   ],
   "source": [
    "RF_1.feature_importances_"
   ]
  },
  {
   "cell_type": "code",
   "execution_count": 71,
   "id": "1877afce",
   "metadata": {},
   "outputs": [
    {
     "data": {
      "text/plain": [
       "array(['Pregnancies', 'Glucose', 'BloodPressure', 'SkinThickness',\n",
       "       'Insulin', 'BMI', 'DiabetesPedigreeFunction', 'Age'], dtype=object)"
      ]
     },
     "execution_count": 71,
     "metadata": {},
     "output_type": "execute_result"
    }
   ],
   "source": [
    "RF_1.feature_names_in_"
   ]
  },
  {
   "cell_type": "code",
   "execution_count": 72,
   "id": "698bea98",
   "metadata": {},
   "outputs": [
    {
     "data": {
      "text/html": [
       "<div>\n",
       "<style scoped>\n",
       "    .dataframe tbody tr th:only-of-type {\n",
       "        vertical-align: middle;\n",
       "    }\n",
       "\n",
       "    .dataframe tbody tr th {\n",
       "        vertical-align: top;\n",
       "    }\n",
       "\n",
       "    .dataframe thead th {\n",
       "        text-align: right;\n",
       "    }\n",
       "</style>\n",
       "<table border=\"1\" class=\"dataframe\">\n",
       "  <thead>\n",
       "    <tr style=\"text-align: right;\">\n",
       "      <th></th>\n",
       "      <th>Feature</th>\n",
       "      <th>Feature_Importance</th>\n",
       "    </tr>\n",
       "  </thead>\n",
       "  <tbody>\n",
       "    <tr>\n",
       "      <th>0</th>\n",
       "      <td>Pregnancies</td>\n",
       "      <td>0.034037</td>\n",
       "    </tr>\n",
       "    <tr>\n",
       "      <th>1</th>\n",
       "      <td>Glucose</td>\n",
       "      <td>0.423006</td>\n",
       "    </tr>\n",
       "    <tr>\n",
       "      <th>2</th>\n",
       "      <td>BloodPressure</td>\n",
       "      <td>0.028493</td>\n",
       "    </tr>\n",
       "    <tr>\n",
       "      <th>3</th>\n",
       "      <td>SkinThickness</td>\n",
       "      <td>0.022045</td>\n",
       "    </tr>\n",
       "    <tr>\n",
       "      <th>4</th>\n",
       "      <td>Insulin</td>\n",
       "      <td>0.023937</td>\n",
       "    </tr>\n",
       "    <tr>\n",
       "      <th>5</th>\n",
       "      <td>BMI</td>\n",
       "      <td>0.203526</td>\n",
       "    </tr>\n",
       "    <tr>\n",
       "      <th>6</th>\n",
       "      <td>DiabetesPedigreeFunction</td>\n",
       "      <td>0.074248</td>\n",
       "    </tr>\n",
       "    <tr>\n",
       "      <th>7</th>\n",
       "      <td>Age</td>\n",
       "      <td>0.190708</td>\n",
       "    </tr>\n",
       "  </tbody>\n",
       "</table>\n",
       "</div>"
      ],
      "text/plain": [
       "                    Feature  Feature_Importance\n",
       "0               Pregnancies            0.034037\n",
       "1                   Glucose            0.423006\n",
       "2             BloodPressure            0.028493\n",
       "3             SkinThickness            0.022045\n",
       "4                   Insulin            0.023937\n",
       "5                       BMI            0.203526\n",
       "6  DiabetesPedigreeFunction            0.074248\n",
       "7                       Age            0.190708"
      ]
     },
     "execution_count": 72,
     "metadata": {},
     "output_type": "execute_result"
    }
   ],
   "source": [
    "feature_df = pd.DataFrame({'Feature':RF_1.feature_names_in_,'Feature_Importance':RF_1.feature_importances_})\n",
    "feature_df"
   ]
  },
  {
   "cell_type": "code",
   "execution_count": 53,
   "id": "036b534e",
   "metadata": {},
   "outputs": [
    {
     "data": {
      "text/plain": [
       "array([0.76, 0.92, 0.8 , 0.64, 0.8 , 0.8 , 0.76, 0.76, 0.84, 0.76])"
      ]
     },
     "execution_count": 53,
     "metadata": {},
     "output_type": "execute_result"
    }
   ],
   "source": [
    "# Cross Validation\n",
    "from sklearn.model_selection import cross_val_score\n",
    "test_accuracy = cross_val_score(RF_1, X_test, Y_test, cv=10)\n",
    "test_accuracy"
   ]
  },
  {
   "cell_type": "code",
   "execution_count": 54,
   "id": "d7beb294",
   "metadata": {},
   "outputs": [
    {
     "name": "stdout",
     "output_type": "stream",
     "text": [
      "Test Mean Accuracy :  0.784\n",
      "\n",
      "Test Max Accuracy :  0.92\n"
     ]
    }
   ],
   "source": [
    "print(\"Test Mean Accuracy : \",test_accuracy.mean())\n",
    "print()\n",
    "print(\"Test Max Accuracy : \",test_accuracy.max())"
   ]
  },
  {
   "cell_type": "code",
   "execution_count": 67,
   "id": "c0dbed0d",
   "metadata": {},
   "outputs": [
    {
     "data": {
      "text/html": [
       "<div>\n",
       "<style scoped>\n",
       "    .dataframe tbody tr th:only-of-type {\n",
       "        vertical-align: middle;\n",
       "    }\n",
       "\n",
       "    .dataframe tbody tr th {\n",
       "        vertical-align: top;\n",
       "    }\n",
       "\n",
       "    .dataframe thead th {\n",
       "        text-align: right;\n",
       "    }\n",
       "</style>\n",
       "<table border=\"1\" class=\"dataframe\">\n",
       "  <thead>\n",
       "    <tr style=\"text-align: right;\">\n",
       "      <th></th>\n",
       "      <th>Pregnancies</th>\n",
       "      <th>Glucose</th>\n",
       "      <th>BloodPressure</th>\n",
       "      <th>SkinThickness</th>\n",
       "      <th>Insulin</th>\n",
       "      <th>BMI</th>\n",
       "      <th>DiabetesPedigreeFunction</th>\n",
       "      <th>Age</th>\n",
       "    </tr>\n",
       "  </thead>\n",
       "  <tbody>\n",
       "    <tr>\n",
       "      <th>0</th>\n",
       "      <td>6</td>\n",
       "      <td>148.0</td>\n",
       "      <td>72.0</td>\n",
       "      <td>35.0</td>\n",
       "      <td>30.5</td>\n",
       "      <td>33.6</td>\n",
       "      <td>0.627</td>\n",
       "      <td>50</td>\n",
       "    </tr>\n",
       "    <tr>\n",
       "      <th>1</th>\n",
       "      <td>1</td>\n",
       "      <td>85.0</td>\n",
       "      <td>66.0</td>\n",
       "      <td>29.0</td>\n",
       "      <td>30.5</td>\n",
       "      <td>26.6</td>\n",
       "      <td>0.351</td>\n",
       "      <td>31</td>\n",
       "    </tr>\n",
       "    <tr>\n",
       "      <th>2</th>\n",
       "      <td>8</td>\n",
       "      <td>183.0</td>\n",
       "      <td>64.0</td>\n",
       "      <td>23.0</td>\n",
       "      <td>30.5</td>\n",
       "      <td>23.3</td>\n",
       "      <td>0.672</td>\n",
       "      <td>32</td>\n",
       "    </tr>\n",
       "    <tr>\n",
       "      <th>3</th>\n",
       "      <td>1</td>\n",
       "      <td>89.0</td>\n",
       "      <td>66.0</td>\n",
       "      <td>23.0</td>\n",
       "      <td>94.0</td>\n",
       "      <td>28.1</td>\n",
       "      <td>0.167</td>\n",
       "      <td>21</td>\n",
       "    </tr>\n",
       "    <tr>\n",
       "      <th>4</th>\n",
       "      <td>0</td>\n",
       "      <td>137.0</td>\n",
       "      <td>40.0</td>\n",
       "      <td>35.0</td>\n",
       "      <td>168.0</td>\n",
       "      <td>43.1</td>\n",
       "      <td>2.288</td>\n",
       "      <td>33</td>\n",
       "    </tr>\n",
       "  </tbody>\n",
       "</table>\n",
       "</div>"
      ],
      "text/plain": [
       "   Pregnancies  Glucose  BloodPressure  SkinThickness  Insulin   BMI  \\\n",
       "0            6    148.0           72.0           35.0     30.5  33.6   \n",
       "1            1     85.0           66.0           29.0     30.5  26.6   \n",
       "2            8    183.0           64.0           23.0     30.5  23.3   \n",
       "3            1     89.0           66.0           23.0     94.0  28.1   \n",
       "4            0    137.0           40.0           35.0    168.0  43.1   \n",
       "\n",
       "   DiabetesPedigreeFunction  Age  \n",
       "0                     0.627   50  \n",
       "1                     0.351   31  \n",
       "2                     0.672   32  \n",
       "3                     0.167   21  \n",
       "4                     2.288   33  "
      ]
     },
     "execution_count": 67,
     "metadata": {},
     "output_type": "execute_result"
    }
   ],
   "source": [
    "# Approach No 2 : Building Model With Scaled Data and without Balancing\n",
    "X.head()"
   ]
  },
  {
   "cell_type": "code",
   "execution_count": 68,
   "id": "03f886a7",
   "metadata": {},
   "outputs": [],
   "source": [
    "from sklearn.preprocessing import StandardScaler"
   ]
  },
  {
   "cell_type": "code",
   "execution_count": 69,
   "id": "96d2358f",
   "metadata": {},
   "outputs": [],
   "source": [
    "scaler = StandardScaler()\n",
    "X_Scaled = scaler.fit_transform(X)"
   ]
  },
  {
   "cell_type": "code",
   "execution_count": 73,
   "id": "40749521",
   "metadata": {},
   "outputs": [],
   "source": [
    "X_train_Scaled, X_test_Scaled, Y_train_Scaled, Y_test_Scaled=train_test_split(X_Scaled, Y, test_size=0.25, random_state=1, stratify=Y)"
   ]
  },
  {
   "cell_type": "code",
   "execution_count": 82,
   "id": "e07d4395",
   "metadata": {},
   "outputs": [
    {
     "data": {
      "text/plain": [
       "RandomForestClassifier(max_depth=4, max_features=4)"
      ]
     },
     "execution_count": 82,
     "metadata": {},
     "output_type": "execute_result"
    }
   ],
   "source": [
    "RF_2 = RandomForestClassifier(criterion='gini', max_features=4, max_depth=4)\n",
    "RF_2.fit(X_train_Scaled, Y_train_Scaled)"
   ]
  },
  {
   "cell_type": "code",
   "execution_count": 83,
   "id": "1a3f4e3e",
   "metadata": {},
   "outputs": [],
   "source": [
    "Y_pred_RF2_train = RF_2.predict(X_train_Scaled)\n",
    "Y_pred_RF2_test = RF_2.predict(X_test_Scaled)"
   ]
  },
  {
   "cell_type": "code",
   "execution_count": 84,
   "id": "8ad3594c",
   "metadata": {},
   "outputs": [
    {
     "name": "stdout",
     "output_type": "stream",
     "text": [
      "Training Accuracy : 0.84\n",
      "\n",
      "Test Accuracy : 0.73\n"
     ]
    }
   ],
   "source": [
    "print(f'Training Accuracy : {round(accuracy_score(Y_train_Scaled, Y_pred_RF2_train), 2)}')\n",
    "print()\n",
    "print(f'Test Accuracy : {round(accuracy_score(Y_test_Scaled, Y_pred_RF2_test), 2)}')"
   ]
  },
  {
   "cell_type": "code",
   "execution_count": 78,
   "id": "4a7a116c",
   "metadata": {},
   "outputs": [
    {
     "data": {
      "text/plain": [
       "array([0.08063823, 0.25842309, 0.08336278, 0.06546139, 0.07946764,\n",
       "       0.15438942, 0.12973391, 0.14852355])"
      ]
     },
     "execution_count": 78,
     "metadata": {},
     "output_type": "execute_result"
    }
   ],
   "source": [
    "RF_2.feature_importances_"
   ]
  },
  {
   "cell_type": "code",
   "execution_count": 85,
   "id": "fab442a7",
   "metadata": {},
   "outputs": [
    {
     "data": {
      "text/plain": [
       "array([0.85      , 0.55      , 0.84210526, 0.68421053, 0.73684211,\n",
       "       0.84210526, 0.68421053, 0.84210526, 0.47368421, 0.78947368])"
      ]
     },
     "execution_count": 85,
     "metadata": {},
     "output_type": "execute_result"
    }
   ],
   "source": [
    "test_accuracy = cross_val_score(RF_2, X_test_Scaled, Y_test_Scaled, cv=10)\n",
    "test_accuracy"
   ]
  },
  {
   "cell_type": "code",
   "execution_count": 86,
   "id": "510f1bc5",
   "metadata": {},
   "outputs": [
    {
     "name": "stdout",
     "output_type": "stream",
     "text": [
      "Test Mean Accuracy :  0.7294736842105263\n",
      "\n",
      "Test Max Accuracy :  0.85\n"
     ]
    }
   ],
   "source": [
    "print(\"Test Mean Accuracy : \",test_accuracy.mean())\n",
    "print()\n",
    "print(\"Test Max Accuracy : \",test_accuracy.max())"
   ]
  },
  {
   "cell_type": "markdown",
   "id": "116cf304",
   "metadata": {},
   "source": [
    "# Logistic regression"
   ]
  },
  {
   "cell_type": "code",
   "execution_count": 87,
   "id": "78670772",
   "metadata": {},
   "outputs": [],
   "source": [
    "from sklearn.linear_model import LogisticRegression "
   ]
  },
  {
   "cell_type": "code",
   "execution_count": 91,
   "id": "e66af690",
   "metadata": {},
   "outputs": [
    {
     "data": {
      "text/plain": [
       "LogisticRegression()"
      ]
     },
     "execution_count": 91,
     "metadata": {},
     "output_type": "execute_result"
    }
   ],
   "source": [
    "LR = LogisticRegression()\n",
    "LR.fit(X_train,Y_train)"
   ]
  },
  {
   "cell_type": "code",
   "execution_count": 92,
   "id": "b6d6186b",
   "metadata": {},
   "outputs": [],
   "source": [
    "Y_pred_LR_train = LR.predict(X_train)\n",
    "Y_pred_LR_test = LR.predict(X_test)"
   ]
  },
  {
   "cell_type": "code",
   "execution_count": 93,
   "id": "9c5bd4eb",
   "metadata": {},
   "outputs": [
    {
     "name": "stdout",
     "output_type": "stream",
     "text": [
      "Training Accuracy : 0.73\n",
      "\n",
      "Test Accuracy : 0.76\n"
     ]
    }
   ],
   "source": [
    "print(f'Training Accuracy : {round(accuracy_score(Y_train, Y_pred_LR_train), 2)}')\n",
    "print()\n",
    "print(f'Test Accuracy : {round(accuracy_score(Y_test, Y_pred_LR_test), 2)}')"
   ]
  },
  {
   "cell_type": "markdown",
   "id": "f63dd690",
   "metadata": {},
   "source": [
    "# Decision Tree :"
   ]
  },
  {
   "cell_type": "code",
   "execution_count": 94,
   "id": "82d2b004",
   "metadata": {},
   "outputs": [],
   "source": [
    "from sklearn.tree import DecisionTreeClassifier"
   ]
  },
  {
   "cell_type": "code",
   "execution_count": 98,
   "id": "2b716f64",
   "metadata": {},
   "outputs": [
    {
     "data": {
      "text/plain": [
       "DecisionTreeClassifier()"
      ]
     },
     "execution_count": 98,
     "metadata": {},
     "output_type": "execute_result"
    }
   ],
   "source": [
    "DT = DecisionTreeClassifier()\n",
    "DT.fit(X_train,Y_train)"
   ]
  },
  {
   "cell_type": "code",
   "execution_count": 101,
   "id": "f0875f5a",
   "metadata": {},
   "outputs": [],
   "source": [
    "Y_pred_DT_train = DT.predict(X_train)\n",
    "Y_pred_DT_test = DT.predict(X_test)"
   ]
  },
  {
   "cell_type": "code",
   "execution_count": 102,
   "id": "e9843951",
   "metadata": {},
   "outputs": [
    {
     "name": "stdout",
     "output_type": "stream",
     "text": [
      "Training Accuracy : 1.0\n",
      "\n",
      "Test Accuracy : 0.72\n"
     ]
    }
   ],
   "source": [
    "print(f'Training Accuracy : {round(accuracy_score(Y_train, Y_pred_DT_train), 2)}')\n",
    "print()\n",
    "print(f'Test Accuracy : {round(accuracy_score(Y_test, Y_pred_DT_test), 2)}')"
   ]
  },
  {
   "cell_type": "markdown",
   "id": "6f1b9643",
   "metadata": {},
   "source": [
    "# Voting Ensemble Method :"
   ]
  },
  {
   "cell_type": "code",
   "execution_count": 103,
   "id": "6c25bfd6",
   "metadata": {},
   "outputs": [],
   "source": [
    "from sklearn.ensemble import VotingClassifier"
   ]
  },
  {
   "cell_type": "code",
   "execution_count": 116,
   "id": "5852b48d",
   "metadata": {},
   "outputs": [],
   "source": [
    "evc = VotingClassifier(estimators=[('bagging',bagging),('RF_1',RF_1),\n",
    "                                   ('LR',LR)], voting='soft')\n",
    "model_evc = evc.fit(X_train,Y_train)"
   ]
  },
  {
   "cell_type": "code",
   "execution_count": 117,
   "id": "21b42a23",
   "metadata": {},
   "outputs": [],
   "source": [
    "Y_pred_evc_train = evc.predict(X_train)\n",
    "Y_pred_evc_test = evc.predict(X_test)"
   ]
  },
  {
   "cell_type": "code",
   "execution_count": 118,
   "id": "b6dc66ad",
   "metadata": {},
   "outputs": [
    {
     "name": "stdout",
     "output_type": "stream",
     "text": [
      "Training Accuracy : 0.92\n",
      "\n",
      "Test Accuracy : 0.78\n"
     ]
    }
   ],
   "source": [
    "print(f'Training Accuracy : {round(accuracy_score(Y_train, Y_pred_evc_train), 2)}')\n",
    "print()\n",
    "print(f'Test Accuracy : {round(accuracy_score(Y_test, Y_pred_evc_test), 2)}')"
   ]
  },
  {
   "cell_type": "code",
   "execution_count": 120,
   "id": "bc81b393",
   "metadata": {},
   "outputs": [],
   "source": [
    "test_accuracy = cross_val_score(evc, X_test, Y_test, cv=10)"
   ]
  },
  {
   "cell_type": "code",
   "execution_count": 121,
   "id": "ea9d0a26",
   "metadata": {},
   "outputs": [
    {
     "name": "stdout",
     "output_type": "stream",
     "text": [
      "Test Mean Accuracy :  0.772\n",
      "\n",
      "Test Max Accuracy :  0.84\n"
     ]
    }
   ],
   "source": [
    "print(\"Test Mean Accuracy : \",test_accuracy.mean())\n",
    "print()\n",
    "print(\"Test Max Accuracy : \",test_accuracy.max())"
   ]
  },
  {
   "cell_type": "code",
   "execution_count": 122,
   "id": "a1637068",
   "metadata": {},
   "outputs": [],
   "source": [
    "bagging_accuracy = round(accuracy_score(Y_test, Y_pred_bagging_test), 2)\n",
    "rf_accuracy = round(accuracy_score(Y_test, Y_pred_RF1_test), 2)\n",
    "logistic_accuracy = round(accuracy_score(Y_test, Y_pred_LR_test), 2)\n",
    "voting_accuracy = round(accuracy_score(Y_test, Y_pred_evc_test), 2)"
   ]
  },
  {
   "cell_type": "code",
   "execution_count": 124,
   "id": "af894d10",
   "metadata": {},
   "outputs": [
    {
     "data": {
      "text/html": [
       "<div>\n",
       "<style scoped>\n",
       "    .dataframe tbody tr th:only-of-type {\n",
       "        vertical-align: middle;\n",
       "    }\n",
       "\n",
       "    .dataframe tbody tr th {\n",
       "        vertical-align: top;\n",
       "    }\n",
       "\n",
       "    .dataframe thead th {\n",
       "        text-align: right;\n",
       "    }\n",
       "</style>\n",
       "<table border=\"1\" class=\"dataframe\">\n",
       "  <thead>\n",
       "    <tr style=\"text-align: right;\">\n",
       "      <th></th>\n",
       "      <th>Method Used</th>\n",
       "      <th>Accuracy</th>\n",
       "    </tr>\n",
       "  </thead>\n",
       "  <tbody>\n",
       "    <tr>\n",
       "      <th>0</th>\n",
       "      <td>Bagging</td>\n",
       "      <td>0.76</td>\n",
       "    </tr>\n",
       "    <tr>\n",
       "      <th>1</th>\n",
       "      <td>RandomForest</td>\n",
       "      <td>0.76</td>\n",
       "    </tr>\n",
       "    <tr>\n",
       "      <th>2</th>\n",
       "      <td>Logistic</td>\n",
       "      <td>0.76</td>\n",
       "    </tr>\n",
       "    <tr>\n",
       "      <th>3</th>\n",
       "      <td>Voting</td>\n",
       "      <td>0.78</td>\n",
       "    </tr>\n",
       "  </tbody>\n",
       "</table>\n",
       "</div>"
      ],
      "text/plain": [
       "    Method Used  Accuracy\n",
       "0       Bagging      0.76\n",
       "1  RandomForest      0.76\n",
       "2      Logistic      0.76\n",
       "3        Voting      0.78"
      ]
     },
     "execution_count": 124,
     "metadata": {},
     "output_type": "execute_result"
    }
   ],
   "source": [
    "list1 = ['Bagging','RandomForest','Logistic','Voting']\n",
    "list2 = [bagging_accuracy, rf_accuracy, logistic_accuracy,voting_accuracy]\n",
    "final_accuracy = pd.DataFrame({'Method Used':list1, 'Accuracy':list2})\n",
    "final_accuracy"
   ]
  },
  {
   "cell_type": "code",
   "execution_count": 127,
   "id": "e42b0acc",
   "metadata": {},
   "outputs": [
    {
     "data": {
      "image/png": "[encoded data removed]",
      "text/plain": [
       "<Figure size 432x288 with 1 Axes>"
      ]
     },
     "metadata": {},
     "output_type": "display_data"
    }
   ],
   "source": [
    "chart = sns.barplot(x='Method Used', y='Accuracy', data=final_accuracy)\n",
    "chart.set_xticklabels(chart.get_xticklabels(), rotation=90)\n",
    "# print(chart)\n",
    "plt.show()"
   ]
  },
  {
   "cell_type": "code",
   "execution_count": null,
   "id": "cb067fc9",
   "metadata": {},
   "outputs": [],
   "source": []
  }
 ],
 "metadata": {
  "kernelspec": {
   "display_name": "Python 3 (ipykernel)",
   "language": "python",
   "name": "python3"
  },
  "language_info": {
   "codemirror_mode": {
    "name": "ipython",
    "version": 3
   },
   "file_extension": ".py",
   "mimetype": "text/x-python",
   "name": "python",
   "nbconvert_exporter": "python",
   "pygments_lexer": "ipython3",
   "version": "3.9.12"
  }
 },
 "nbformat": 4,
 "nbformat_minor": 5
}
